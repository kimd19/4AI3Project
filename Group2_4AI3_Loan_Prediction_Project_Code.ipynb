{
  "nbformat": 4,
  "nbformat_minor": 0,
  "metadata": {
    "colab": {
      "provenance": []
    },
    "kernelspec": {
      "name": "python3",
      "display_name": "Python 3"
    },
    "language_info": {
      "name": "python"
    },
    "accelerator": "GPU",
    "gpuClass": "standard"
  },
  "cells": [
    {
      "cell_type": "markdown",
      "source": [
        "SMRTTECH 4AI3 Loan Prediction Project Group 2\n",
        "\n",
        "Brain Anderson, Tony Kim, Hussein Abdulsada"
      ],
      "metadata": {
        "id": "8OGcCvLL4IRU"
      }
    },
    {
      "cell_type": "markdown",
      "source": [
        "# Main Model - Regression\n"
      ],
      "metadata": {
        "id": "W2KbFF-ZfW6P"
      }
    },
    {
      "cell_type": "code",
      "execution_count": 1,
      "metadata": {
        "id": "JoCgng-g7zet"
      },
      "outputs": [],
      "source": [
        "import pandas as pd\n",
        "import numpy as np\n",
        "import matplotlib.pyplot as plt\n",
        "#from sklearn import datasets\n",
        "from sklearn.preprocessing import StandardScaler\n",
        "from sklearn.model_selection import train_test_split\n",
        "from sklearn.linear_model import LogisticRegression\n",
        "from sklearn.linear_model import LinearRegression\n",
        "from sklearn.svm import SVC\n",
        "import seaborn as sns\n",
        "from sklearn.model_selection import learning_curve"
      ]
    },
    {
      "cell_type": "code",
      "source": [
        "#test_dataset = pd.read_csv('test_Y3wMUE5_7gLdaTN.csv')\n",
        "df = pd.read_csv('train_u6lujuX_CVtuZ9i.csv')\n",
        "\n",
        "df.shape"
      ],
      "metadata": {
        "id": "apVopM4FAGZk",
        "colab": {
          "base_uri": "https://localhost:8080/"
        },
        "outputId": "70ec87c5-27a0-4513-ed0c-9a9a8779bbed"
      },
      "execution_count": 2,
      "outputs": [
        {
          "output_type": "execute_result",
          "data": {
            "text/plain": [
              "(614, 13)"
            ]
          },
          "metadata": {},
          "execution_count": 2
        }
      ]
    },
    {
      "cell_type": "code",
      "source": [
        "df.replace('', np.nan, inplace=True)"
      ],
      "metadata": {
        "id": "7yUelpTbEmfE"
      },
      "execution_count": 3,
      "outputs": []
    },
    {
      "cell_type": "code",
      "source": [
        "#Dropping all of the NAN values\n",
        "df = df.dropna()"
      ],
      "metadata": {
        "id": "OagtXmiiHgwn"
      },
      "execution_count": 4,
      "outputs": []
    },
    {
      "cell_type": "code",
      "source": [
        "df.isna().sum()\n"
      ],
      "metadata": {
        "colab": {
          "base_uri": "https://localhost:8080/"
        },
        "id": "im-qMhaFev9v",
        "outputId": "f4922ad9-b4d3-444e-957e-af09874c1f3c"
      },
      "execution_count": 5,
      "outputs": [
        {
          "output_type": "execute_result",
          "data": {
            "text/plain": [
              "Loan_ID              0\n",
              "Gender               0\n",
              "Married              0\n",
              "Dependents           0\n",
              "Education            0\n",
              "Self_Employed        0\n",
              "ApplicantIncome      0\n",
              "CoapplicantIncome    0\n",
              "LoanAmount           0\n",
              "Loan_Amount_Term     0\n",
              "Credit_History       0\n",
              "Property_Area        0\n",
              "Loan_Status          0\n",
              "dtype: int64"
            ]
          },
          "metadata": {},
          "execution_count": 5
        }
      ]
    },
    {
      "cell_type": "code",
      "source": [
        "df = df.drop(['Loan_ID'], axis=1)"
      ],
      "metadata": {
        "id": "ufJ6ooeCEyJW"
      },
      "execution_count": 6,
      "outputs": []
    },
    {
      "cell_type": "code",
      "source": [
        "df['Gender'] = df['Gender'].map({'Male':0, 'Female':1})\n",
        "df['Married'] = df['Married'].map({'No':0, 'Yes':1})\n",
        "df['Dependents'] = df['Dependents'].map({'3+':3, '0':0, '1':1, '2':2}) #changing the 3+ dependants to 3\n",
        "df['Education'] = df['Education'].map({'Not Graduate':0, 'Graduate':1})\n",
        "df['Self_Employed'] = df['Self_Employed'].map({'No':0, 'Yes':1})\n",
        "df['Property_Area'] = df['Property_Area'].map({'Rural':0, 'Semiurban':1,'Urban':2})\n",
        "df['Loan_Status'] = df['Loan_Status'].map({'N':0, 'Y':1})\n",
        "df['Total_Income'] = df['ApplicantIncome'] + df['CoapplicantIncome']\n",
        "\n",
        "df.head()"
      ],
      "metadata": {
        "colab": {
          "base_uri": "https://localhost:8080/",
          "height": 206
        },
        "id": "CDzVx3BaEiN7",
        "outputId": "61014eb9-ae31-470c-e9c4-4ea0bc828fcc"
      },
      "execution_count": 8,
      "outputs": [
        {
          "output_type": "execute_result",
          "data": {
            "text/plain": [
              "   Gender  Married  Dependents  Education  Self_Employed  ApplicantIncome  \\\n",
              "1       0        1           1          1              0             4583   \n",
              "2       0        1           0          1              1             3000   \n",
              "3       0        1           0          0              0             2583   \n",
              "4       0        0           0          1              0             6000   \n",
              "5       0        1           2          1              1             5417   \n",
              "\n",
              "   CoapplicantIncome  LoanAmount  Loan_Amount_Term  Credit_History  \\\n",
              "1             1508.0       128.0             360.0             1.0   \n",
              "2                0.0        66.0             360.0             1.0   \n",
              "3             2358.0       120.0             360.0             1.0   \n",
              "4                0.0       141.0             360.0             1.0   \n",
              "5             4196.0       267.0             360.0             1.0   \n",
              "\n",
              "   Property_Area  Loan_Status  Total_Income  \n",
              "1              0            0        6091.0  \n",
              "2              2            1        3000.0  \n",
              "3              2            1        4941.0  \n",
              "4              2            1        6000.0  \n",
              "5              2            1        9613.0  "
            ],
            "text/html": [
              "\n",
              "  <div id=\"df-d808e055-6d03-483d-a410-0c816f746b2a\">\n",
              "    <div class=\"colab-df-container\">\n",
              "      <div>\n",
              "<style scoped>\n",
              "    .dataframe tbody tr th:only-of-type {\n",
              "        vertical-align: middle;\n",
              "    }\n",
              "\n",
              "    .dataframe tbody tr th {\n",
              "        vertical-align: top;\n",
              "    }\n",
              "\n",
              "    .dataframe thead th {\n",
              "        text-align: right;\n",
              "    }\n",
              "</style>\n",
              "<table border=\"1\" class=\"dataframe\">\n",
              "  <thead>\n",
              "    <tr style=\"text-align: right;\">\n",
              "      <th></th>\n",
              "      <th>Gender</th>\n",
              "      <th>Married</th>\n",
              "      <th>Dependents</th>\n",
              "      <th>Education</th>\n",
              "      <th>Self_Employed</th>\n",
              "      <th>ApplicantIncome</th>\n",
              "      <th>CoapplicantIncome</th>\n",
              "      <th>LoanAmount</th>\n",
              "      <th>Loan_Amount_Term</th>\n",
              "      <th>Credit_History</th>\n",
              "      <th>Property_Area</th>\n",
              "      <th>Loan_Status</th>\n",
              "      <th>Total_Income</th>\n",
              "    </tr>\n",
              "  </thead>\n",
              "  <tbody>\n",
              "    <tr>\n",
              "      <th>1</th>\n",
              "      <td>0</td>\n",
              "      <td>1</td>\n",
              "      <td>1</td>\n",
              "      <td>1</td>\n",
              "      <td>0</td>\n",
              "      <td>4583</td>\n",
              "      <td>1508.0</td>\n",
              "      <td>128.0</td>\n",
              "      <td>360.0</td>\n",
              "      <td>1.0</td>\n",
              "      <td>0</td>\n",
              "      <td>0</td>\n",
              "      <td>6091.0</td>\n",
              "    </tr>\n",
              "    <tr>\n",
              "      <th>2</th>\n",
              "      <td>0</td>\n",
              "      <td>1</td>\n",
              "      <td>0</td>\n",
              "      <td>1</td>\n",
              "      <td>1</td>\n",
              "      <td>3000</td>\n",
              "      <td>0.0</td>\n",
              "      <td>66.0</td>\n",
              "      <td>360.0</td>\n",
              "      <td>1.0</td>\n",
              "      <td>2</td>\n",
              "      <td>1</td>\n",
              "      <td>3000.0</td>\n",
              "    </tr>\n",
              "    <tr>\n",
              "      <th>3</th>\n",
              "      <td>0</td>\n",
              "      <td>1</td>\n",
              "      <td>0</td>\n",
              "      <td>0</td>\n",
              "      <td>0</td>\n",
              "      <td>2583</td>\n",
              "      <td>2358.0</td>\n",
              "      <td>120.0</td>\n",
              "      <td>360.0</td>\n",
              "      <td>1.0</td>\n",
              "      <td>2</td>\n",
              "      <td>1</td>\n",
              "      <td>4941.0</td>\n",
              "    </tr>\n",
              "    <tr>\n",
              "      <th>4</th>\n",
              "      <td>0</td>\n",
              "      <td>0</td>\n",
              "      <td>0</td>\n",
              "      <td>1</td>\n",
              "      <td>0</td>\n",
              "      <td>6000</td>\n",
              "      <td>0.0</td>\n",
              "      <td>141.0</td>\n",
              "      <td>360.0</td>\n",
              "      <td>1.0</td>\n",
              "      <td>2</td>\n",
              "      <td>1</td>\n",
              "      <td>6000.0</td>\n",
              "    </tr>\n",
              "    <tr>\n",
              "      <th>5</th>\n",
              "      <td>0</td>\n",
              "      <td>1</td>\n",
              "      <td>2</td>\n",
              "      <td>1</td>\n",
              "      <td>1</td>\n",
              "      <td>5417</td>\n",
              "      <td>4196.0</td>\n",
              "      <td>267.0</td>\n",
              "      <td>360.0</td>\n",
              "      <td>1.0</td>\n",
              "      <td>2</td>\n",
              "      <td>1</td>\n",
              "      <td>9613.0</td>\n",
              "    </tr>\n",
              "  </tbody>\n",
              "</table>\n",
              "</div>\n",
              "      <button class=\"colab-df-convert\" onclick=\"convertToInteractive('df-d808e055-6d03-483d-a410-0c816f746b2a')\"\n",
              "              title=\"Convert this dataframe to an interactive table.\"\n",
              "              style=\"display:none;\">\n",
              "        \n",
              "  <svg xmlns=\"http://www.w3.org/2000/svg\" height=\"24px\"viewBox=\"0 0 24 24\"\n",
              "       width=\"24px\">\n",
              "    <path d=\"M0 0h24v24H0V0z\" fill=\"none\"/>\n",
              "    <path d=\"M18.56 5.44l.94 2.06.94-2.06 2.06-.94-2.06-.94-.94-2.06-.94 2.06-2.06.94zm-11 1L8.5 8.5l.94-2.06 2.06-.94-2.06-.94L8.5 2.5l-.94 2.06-2.06.94zm10 10l.94 2.06.94-2.06 2.06-.94-2.06-.94-.94-2.06-.94 2.06-2.06.94z\"/><path d=\"M17.41 7.96l-1.37-1.37c-.4-.4-.92-.59-1.43-.59-.52 0-1.04.2-1.43.59L10.3 9.45l-7.72 7.72c-.78.78-.78 2.05 0 2.83L4 21.41c.39.39.9.59 1.41.59.51 0 1.02-.2 1.41-.59l7.78-7.78 2.81-2.81c.8-.78.8-2.07 0-2.86zM5.41 20L4 18.59l7.72-7.72 1.47 1.35L5.41 20z\"/>\n",
              "  </svg>\n",
              "      </button>\n",
              "      \n",
              "  <style>\n",
              "    .colab-df-container {\n",
              "      display:flex;\n",
              "      flex-wrap:wrap;\n",
              "      gap: 12px;\n",
              "    }\n",
              "\n",
              "    .colab-df-convert {\n",
              "      background-color: #E8F0FE;\n",
              "      border: none;\n",
              "      border-radius: 50%;\n",
              "      cursor: pointer;\n",
              "      display: none;\n",
              "      fill: #1967D2;\n",
              "      height: 32px;\n",
              "      padding: 0 0 0 0;\n",
              "      width: 32px;\n",
              "    }\n",
              "\n",
              "    .colab-df-convert:hover {\n",
              "      background-color: #E2EBFA;\n",
              "      box-shadow: 0px 1px 2px rgba(60, 64, 67, 0.3), 0px 1px 3px 1px rgba(60, 64, 67, 0.15);\n",
              "      fill: #174EA6;\n",
              "    }\n",
              "\n",
              "    [theme=dark] .colab-df-convert {\n",
              "      background-color: #3B4455;\n",
              "      fill: #D2E3FC;\n",
              "    }\n",
              "\n",
              "    [theme=dark] .colab-df-convert:hover {\n",
              "      background-color: #434B5C;\n",
              "      box-shadow: 0px 1px 3px 1px rgba(0, 0, 0, 0.15);\n",
              "      filter: drop-shadow(0px 1px 2px rgba(0, 0, 0, 0.3));\n",
              "      fill: #FFFFFF;\n",
              "    }\n",
              "  </style>\n",
              "\n",
              "      <script>\n",
              "        const buttonEl =\n",
              "          document.querySelector('#df-d808e055-6d03-483d-a410-0c816f746b2a button.colab-df-convert');\n",
              "        buttonEl.style.display =\n",
              "          google.colab.kernel.accessAllowed ? 'block' : 'none';\n",
              "\n",
              "        async function convertToInteractive(key) {\n",
              "          const element = document.querySelector('#df-d808e055-6d03-483d-a410-0c816f746b2a');\n",
              "          const dataTable =\n",
              "            await google.colab.kernel.invokeFunction('convertToInteractive',\n",
              "                                                     [key], {});\n",
              "          if (!dataTable) return;\n",
              "\n",
              "          const docLinkHtml = 'Like what you see? Visit the ' +\n",
              "            '<a target=\"_blank\" href=https://colab.research.google.com/notebooks/data_table.ipynb>data table notebook</a>'\n",
              "            + ' to learn more about interactive tables.';\n",
              "          element.innerHTML = '';\n",
              "          dataTable['output_type'] = 'display_data';\n",
              "          await google.colab.output.renderOutput(dataTable, element);\n",
              "          const docLink = document.createElement('div');\n",
              "          docLink.innerHTML = docLinkHtml;\n",
              "          element.appendChild(docLink);\n",
              "        }\n",
              "      </script>\n",
              "    </div>\n",
              "  </div>\n",
              "  "
            ]
          },
          "metadata": {},
          "execution_count": 8
        }
      ]
    },
    {
      "cell_type": "code",
      "source": [
        "df = df.drop(['ApplicantIncome'], axis=1)\n",
        "df = df.drop(['CoapplicantIncome'], axis=1)\n",
        "df.head(10)"
      ],
      "metadata": {
        "colab": {
          "base_uri": "https://localhost:8080/",
          "height": 363
        },
        "id": "8YgF7e3_VMwg",
        "outputId": "1274f3da-7579-4b52-8d05-218ca6186619"
      },
      "execution_count": 9,
      "outputs": [
        {
          "output_type": "execute_result",
          "data": {
            "text/plain": [
              "    Gender  Married  Dependents  Education  Self_Employed  LoanAmount  \\\n",
              "1        0        1           1          1              0       128.0   \n",
              "2        0        1           0          1              1        66.0   \n",
              "3        0        1           0          0              0       120.0   \n",
              "4        0        0           0          1              0       141.0   \n",
              "5        0        1           2          1              1       267.0   \n",
              "6        0        1           0          0              0        95.0   \n",
              "7        0        1           3          1              0       158.0   \n",
              "8        0        1           2          1              0       168.0   \n",
              "9        0        1           1          1              0       349.0   \n",
              "10       0        1           2          1              0        70.0   \n",
              "\n",
              "    Loan_Amount_Term  Credit_History  Property_Area  Loan_Status  Total_Income  \n",
              "1              360.0             1.0              0            0        6091.0  \n",
              "2              360.0             1.0              2            1        3000.0  \n",
              "3              360.0             1.0              2            1        4941.0  \n",
              "4              360.0             1.0              2            1        6000.0  \n",
              "5              360.0             1.0              2            1        9613.0  \n",
              "6              360.0             1.0              2            1        3849.0  \n",
              "7              360.0             0.0              1            0        5540.0  \n",
              "8              360.0             1.0              2            1        5532.0  \n",
              "9              360.0             1.0              1            0       23809.0  \n",
              "10             360.0             1.0              2            1        3900.0  "
            ],
            "text/html": [
              "\n",
              "  <div id=\"df-8dfb8f81-c7a3-4256-94bb-85aff0865fd2\">\n",
              "    <div class=\"colab-df-container\">\n",
              "      <div>\n",
              "<style scoped>\n",
              "    .dataframe tbody tr th:only-of-type {\n",
              "        vertical-align: middle;\n",
              "    }\n",
              "\n",
              "    .dataframe tbody tr th {\n",
              "        vertical-align: top;\n",
              "    }\n",
              "\n",
              "    .dataframe thead th {\n",
              "        text-align: right;\n",
              "    }\n",
              "</style>\n",
              "<table border=\"1\" class=\"dataframe\">\n",
              "  <thead>\n",
              "    <tr style=\"text-align: right;\">\n",
              "      <th></th>\n",
              "      <th>Gender</th>\n",
              "      <th>Married</th>\n",
              "      <th>Dependents</th>\n",
              "      <th>Education</th>\n",
              "      <th>Self_Employed</th>\n",
              "      <th>LoanAmount</th>\n",
              "      <th>Loan_Amount_Term</th>\n",
              "      <th>Credit_History</th>\n",
              "      <th>Property_Area</th>\n",
              "      <th>Loan_Status</th>\n",
              "      <th>Total_Income</th>\n",
              "    </tr>\n",
              "  </thead>\n",
              "  <tbody>\n",
              "    <tr>\n",
              "      <th>1</th>\n",
              "      <td>0</td>\n",
              "      <td>1</td>\n",
              "      <td>1</td>\n",
              "      <td>1</td>\n",
              "      <td>0</td>\n",
              "      <td>128.0</td>\n",
              "      <td>360.0</td>\n",
              "      <td>1.0</td>\n",
              "      <td>0</td>\n",
              "      <td>0</td>\n",
              "      <td>6091.0</td>\n",
              "    </tr>\n",
              "    <tr>\n",
              "      <th>2</th>\n",
              "      <td>0</td>\n",
              "      <td>1</td>\n",
              "      <td>0</td>\n",
              "      <td>1</td>\n",
              "      <td>1</td>\n",
              "      <td>66.0</td>\n",
              "      <td>360.0</td>\n",
              "      <td>1.0</td>\n",
              "      <td>2</td>\n",
              "      <td>1</td>\n",
              "      <td>3000.0</td>\n",
              "    </tr>\n",
              "    <tr>\n",
              "      <th>3</th>\n",
              "      <td>0</td>\n",
              "      <td>1</td>\n",
              "      <td>0</td>\n",
              "      <td>0</td>\n",
              "      <td>0</td>\n",
              "      <td>120.0</td>\n",
              "      <td>360.0</td>\n",
              "      <td>1.0</td>\n",
              "      <td>2</td>\n",
              "      <td>1</td>\n",
              "      <td>4941.0</td>\n",
              "    </tr>\n",
              "    <tr>\n",
              "      <th>4</th>\n",
              "      <td>0</td>\n",
              "      <td>0</td>\n",
              "      <td>0</td>\n",
              "      <td>1</td>\n",
              "      <td>0</td>\n",
              "      <td>141.0</td>\n",
              "      <td>360.0</td>\n",
              "      <td>1.0</td>\n",
              "      <td>2</td>\n",
              "      <td>1</td>\n",
              "      <td>6000.0</td>\n",
              "    </tr>\n",
              "    <tr>\n",
              "      <th>5</th>\n",
              "      <td>0</td>\n",
              "      <td>1</td>\n",
              "      <td>2</td>\n",
              "      <td>1</td>\n",
              "      <td>1</td>\n",
              "      <td>267.0</td>\n",
              "      <td>360.0</td>\n",
              "      <td>1.0</td>\n",
              "      <td>2</td>\n",
              "      <td>1</td>\n",
              "      <td>9613.0</td>\n",
              "    </tr>\n",
              "    <tr>\n",
              "      <th>6</th>\n",
              "      <td>0</td>\n",
              "      <td>1</td>\n",
              "      <td>0</td>\n",
              "      <td>0</td>\n",
              "      <td>0</td>\n",
              "      <td>95.0</td>\n",
              "      <td>360.0</td>\n",
              "      <td>1.0</td>\n",
              "      <td>2</td>\n",
              "      <td>1</td>\n",
              "      <td>3849.0</td>\n",
              "    </tr>\n",
              "    <tr>\n",
              "      <th>7</th>\n",
              "      <td>0</td>\n",
              "      <td>1</td>\n",
              "      <td>3</td>\n",
              "      <td>1</td>\n",
              "      <td>0</td>\n",
              "      <td>158.0</td>\n",
              "      <td>360.0</td>\n",
              "      <td>0.0</td>\n",
              "      <td>1</td>\n",
              "      <td>0</td>\n",
              "      <td>5540.0</td>\n",
              "    </tr>\n",
              "    <tr>\n",
              "      <th>8</th>\n",
              "      <td>0</td>\n",
              "      <td>1</td>\n",
              "      <td>2</td>\n",
              "      <td>1</td>\n",
              "      <td>0</td>\n",
              "      <td>168.0</td>\n",
              "      <td>360.0</td>\n",
              "      <td>1.0</td>\n",
              "      <td>2</td>\n",
              "      <td>1</td>\n",
              "      <td>5532.0</td>\n",
              "    </tr>\n",
              "    <tr>\n",
              "      <th>9</th>\n",
              "      <td>0</td>\n",
              "      <td>1</td>\n",
              "      <td>1</td>\n",
              "      <td>1</td>\n",
              "      <td>0</td>\n",
              "      <td>349.0</td>\n",
              "      <td>360.0</td>\n",
              "      <td>1.0</td>\n",
              "      <td>1</td>\n",
              "      <td>0</td>\n",
              "      <td>23809.0</td>\n",
              "    </tr>\n",
              "    <tr>\n",
              "      <th>10</th>\n",
              "      <td>0</td>\n",
              "      <td>1</td>\n",
              "      <td>2</td>\n",
              "      <td>1</td>\n",
              "      <td>0</td>\n",
              "      <td>70.0</td>\n",
              "      <td>360.0</td>\n",
              "      <td>1.0</td>\n",
              "      <td>2</td>\n",
              "      <td>1</td>\n",
              "      <td>3900.0</td>\n",
              "    </tr>\n",
              "  </tbody>\n",
              "</table>\n",
              "</div>\n",
              "      <button class=\"colab-df-convert\" onclick=\"convertToInteractive('df-8dfb8f81-c7a3-4256-94bb-85aff0865fd2')\"\n",
              "              title=\"Convert this dataframe to an interactive table.\"\n",
              "              style=\"display:none;\">\n",
              "        \n",
              "  <svg xmlns=\"http://www.w3.org/2000/svg\" height=\"24px\"viewBox=\"0 0 24 24\"\n",
              "       width=\"24px\">\n",
              "    <path d=\"M0 0h24v24H0V0z\" fill=\"none\"/>\n",
              "    <path d=\"M18.56 5.44l.94 2.06.94-2.06 2.06-.94-2.06-.94-.94-2.06-.94 2.06-2.06.94zm-11 1L8.5 8.5l.94-2.06 2.06-.94-2.06-.94L8.5 2.5l-.94 2.06-2.06.94zm10 10l.94 2.06.94-2.06 2.06-.94-2.06-.94-.94-2.06-.94 2.06-2.06.94z\"/><path d=\"M17.41 7.96l-1.37-1.37c-.4-.4-.92-.59-1.43-.59-.52 0-1.04.2-1.43.59L10.3 9.45l-7.72 7.72c-.78.78-.78 2.05 0 2.83L4 21.41c.39.39.9.59 1.41.59.51 0 1.02-.2 1.41-.59l7.78-7.78 2.81-2.81c.8-.78.8-2.07 0-2.86zM5.41 20L4 18.59l7.72-7.72 1.47 1.35L5.41 20z\"/>\n",
              "  </svg>\n",
              "      </button>\n",
              "      \n",
              "  <style>\n",
              "    .colab-df-container {\n",
              "      display:flex;\n",
              "      flex-wrap:wrap;\n",
              "      gap: 12px;\n",
              "    }\n",
              "\n",
              "    .colab-df-convert {\n",
              "      background-color: #E8F0FE;\n",
              "      border: none;\n",
              "      border-radius: 50%;\n",
              "      cursor: pointer;\n",
              "      display: none;\n",
              "      fill: #1967D2;\n",
              "      height: 32px;\n",
              "      padding: 0 0 0 0;\n",
              "      width: 32px;\n",
              "    }\n",
              "\n",
              "    .colab-df-convert:hover {\n",
              "      background-color: #E2EBFA;\n",
              "      box-shadow: 0px 1px 2px rgba(60, 64, 67, 0.3), 0px 1px 3px 1px rgba(60, 64, 67, 0.15);\n",
              "      fill: #174EA6;\n",
              "    }\n",
              "\n",
              "    [theme=dark] .colab-df-convert {\n",
              "      background-color: #3B4455;\n",
              "      fill: #D2E3FC;\n",
              "    }\n",
              "\n",
              "    [theme=dark] .colab-df-convert:hover {\n",
              "      background-color: #434B5C;\n",
              "      box-shadow: 0px 1px 3px 1px rgba(0, 0, 0, 0.15);\n",
              "      filter: drop-shadow(0px 1px 2px rgba(0, 0, 0, 0.3));\n",
              "      fill: #FFFFFF;\n",
              "    }\n",
              "  </style>\n",
              "\n",
              "      <script>\n",
              "        const buttonEl =\n",
              "          document.querySelector('#df-8dfb8f81-c7a3-4256-94bb-85aff0865fd2 button.colab-df-convert');\n",
              "        buttonEl.style.display =\n",
              "          google.colab.kernel.accessAllowed ? 'block' : 'none';\n",
              "\n",
              "        async function convertToInteractive(key) {\n",
              "          const element = document.querySelector('#df-8dfb8f81-c7a3-4256-94bb-85aff0865fd2');\n",
              "          const dataTable =\n",
              "            await google.colab.kernel.invokeFunction('convertToInteractive',\n",
              "                                                     [key], {});\n",
              "          if (!dataTable) return;\n",
              "\n",
              "          const docLinkHtml = 'Like what you see? Visit the ' +\n",
              "            '<a target=\"_blank\" href=https://colab.research.google.com/notebooks/data_table.ipynb>data table notebook</a>'\n",
              "            + ' to learn more about interactive tables.';\n",
              "          element.innerHTML = '';\n",
              "          dataTable['output_type'] = 'display_data';\n",
              "          await google.colab.output.renderOutput(dataTable, element);\n",
              "          const docLink = document.createElement('div');\n",
              "          docLink.innerHTML = docLinkHtml;\n",
              "          element.appendChild(docLink);\n",
              "        }\n",
              "      </script>\n",
              "    </div>\n",
              "  </div>\n",
              "  "
            ]
          },
          "metadata": {},
          "execution_count": 9
        }
      ]
    },
    {
      "cell_type": "code",
      "source": [
        "#rs = np.random.RandomState(0)\n",
        "#df = pd.DataFrame(rs.rand(10, 10))\n",
        "corr = df.corr()\n",
        "corr.style.background_gradient(cmap='coolwarm')\n",
        "# 'RdBu_r', 'BrBG_r', & PuOr_r are other good diverging colormaps"
      ],
      "metadata": {
        "colab": {
          "base_uri": "https://localhost:8080/",
          "height": 394
        },
        "id": "UjfSxYBjBru7",
        "outputId": "68064a3b-484d-4835-e328-d62b6754d503"
      },
      "execution_count": 10,
      "outputs": [
        {
          "output_type": "execute_result",
          "data": {
            "text/plain": [
              "<pandas.io.formats.style.Styler at 0x7f1cfccab520>"
            ],
            "text/html": [
              "<style type=\"text/css\">\n",
              "#T_70307_row0_col0, #T_70307_row1_col1, #T_70307_row2_col2, #T_70307_row3_col3, #T_70307_row4_col4, #T_70307_row5_col5, #T_70307_row6_col6, #T_70307_row7_col7, #T_70307_row8_col8, #T_70307_row9_col9, #T_70307_row10_col10 {\n",
              "  background-color: #b40426;\n",
              "  color: #f1f1f1;\n",
              "}\n",
              "#T_70307_row0_col1, #T_70307_row0_col2, #T_70307_row0_col10, #T_70307_row1_col0, #T_70307_row1_col6, #T_70307_row2_col3, #T_70307_row5_col8, #T_70307_row5_col9, #T_70307_row8_col4, #T_70307_row8_col5, #T_70307_row10_col7 {\n",
              "  background-color: #3b4cc0;\n",
              "  color: #f1f1f1;\n",
              "}\n",
              "#T_70307_row0_col3, #T_70307_row6_col7, #T_70307_row7_col3, #T_70307_row10_col6 {\n",
              "  background-color: #5470de;\n",
              "  color: #f1f1f1;\n",
              "}\n",
              "#T_70307_row0_col4, #T_70307_row3_col4, #T_70307_row4_col8, #T_70307_row8_col7 {\n",
              "  background-color: #4a63d3;\n",
              "  color: #f1f1f1;\n",
              "}\n",
              "#T_70307_row0_col5, #T_70307_row2_col6, #T_70307_row10_col9 {\n",
              "  background-color: #3d50c3;\n",
              "  color: #f1f1f1;\n",
              "}\n",
              "#T_70307_row0_col6, #T_70307_row6_col1, #T_70307_row8_col2 {\n",
              "  background-color: #7396f5;\n",
              "  color: #f1f1f1;\n",
              "}\n",
              "#T_70307_row0_col7, #T_70307_row4_col3, #T_70307_row4_col7, #T_70307_row4_col9, #T_70307_row9_col5, #T_70307_row9_col10 {\n",
              "  background-color: #445acc;\n",
              "  color: #f1f1f1;\n",
              "}\n",
              "#T_70307_row0_col8, #T_70307_row2_col0, #T_70307_row2_col8, #T_70307_row2_col9, #T_70307_row6_col2 {\n",
              "  background-color: #5977e3;\n",
              "  color: #f1f1f1;\n",
              "}\n",
              "#T_70307_row0_col9 {\n",
              "  background-color: #3c4ec2;\n",
              "  color: #f1f1f1;\n",
              "}\n",
              "#T_70307_row1_col2 {\n",
              "  background-color: #dbdcde;\n",
              "  color: #000000;\n",
              "}\n",
              "#T_70307_row1_col3, #T_70307_row7_col4 {\n",
              "  background-color: #4257c9;\n",
              "  color: #f1f1f1;\n",
              "}\n",
              "#T_70307_row1_col4, #T_70307_row4_col6 {\n",
              "  background-color: #4e68d8;\n",
              "  color: #f1f1f1;\n",
              "}\n",
              "#T_70307_row1_col5 {\n",
              "  background-color: #92b4fe;\n",
              "  color: #000000;\n",
              "}\n",
              "#T_70307_row1_col7, #T_70307_row6_col10, #T_70307_row8_col3 {\n",
              "  background-color: #536edd;\n",
              "  color: #f1f1f1;\n",
              "}\n",
              "#T_70307_row1_col8 {\n",
              "  background-color: #6485ec;\n",
              "  color: #f1f1f1;\n",
              "}\n",
              "#T_70307_row1_col9 {\n",
              "  background-color: #7093f3;\n",
              "  color: #f1f1f1;\n",
              "}\n",
              "#T_70307_row1_col10, #T_70307_row5_col4 {\n",
              "  background-color: #6e90f2;\n",
              "  color: #f1f1f1;\n",
              "}\n",
              "#T_70307_row2_col1 {\n",
              "  background-color: #e8d6cc;\n",
              "  color: #000000;\n",
              "}\n",
              "#T_70307_row2_col4, #T_70307_row9_col6 {\n",
              "  background-color: #5673e0;\n",
              "  color: #f1f1f1;\n",
              "}\n",
              "#T_70307_row2_col5, #T_70307_row3_col1, #T_70307_row3_col5 {\n",
              "  background-color: #8fb1fe;\n",
              "  color: #000000;\n",
              "}\n",
              "#T_70307_row2_col7 {\n",
              "  background-color: #4358cb;\n",
              "  color: #f1f1f1;\n",
              "}\n",
              "#T_70307_row2_col10 {\n",
              "  background-color: #7da0f9;\n",
              "  color: #f1f1f1;\n",
              "}\n",
              "#T_70307_row3_col0 {\n",
              "  background-color: #9fbfff;\n",
              "  color: #000000;\n",
              "}\n",
              "#T_70307_row3_col2 {\n",
              "  background-color: #6b8df0;\n",
              "  color: #f1f1f1;\n",
              "}\n",
              "#T_70307_row3_col6 {\n",
              "  background-color: #779af7;\n",
              "  color: #f1f1f1;\n",
              "}\n",
              "#T_70307_row3_col7 {\n",
              "  background-color: #5b7ae5;\n",
              "  color: #f1f1f1;\n",
              "}\n",
              "#T_70307_row3_col8, #T_70307_row6_col5 {\n",
              "  background-color: #688aef;\n",
              "  color: #f1f1f1;\n",
              "}\n",
              "#T_70307_row3_col9 {\n",
              "  background-color: #6384eb;\n",
              "  color: #f1f1f1;\n",
              "}\n",
              "#T_70307_row3_col10 {\n",
              "  background-color: #86a9fc;\n",
              "  color: #f1f1f1;\n",
              "}\n",
              "#T_70307_row4_col0, #T_70307_row8_col0 {\n",
              "  background-color: #90b2fe;\n",
              "  color: #000000;\n",
              "}\n",
              "#T_70307_row4_col1 {\n",
              "  background-color: #94b6ff;\n",
              "  color: #000000;\n",
              "}\n",
              "#T_70307_row4_col2 {\n",
              "  background-color: #81a4fb;\n",
              "  color: #f1f1f1;\n",
              "}\n",
              "#T_70307_row4_col5, #T_70307_row9_col2 {\n",
              "  background-color: #7ea1fa;\n",
              "  color: #f1f1f1;\n",
              "}\n",
              "#T_70307_row4_col10 {\n",
              "  background-color: #88abfd;\n",
              "  color: #000000;\n",
              "}\n",
              "#T_70307_row5_col0, #T_70307_row10_col0 {\n",
              "  background-color: #7699f6;\n",
              "  color: #f1f1f1;\n",
              "}\n",
              "#T_70307_row5_col1 {\n",
              "  background-color: #bfd3f6;\n",
              "  color: #000000;\n",
              "}\n",
              "#T_70307_row5_col2 {\n",
              "  background-color: #a6c4fe;\n",
              "  color: #000000;\n",
              "}\n",
              "#T_70307_row5_col3 {\n",
              "  background-color: #7a9df8;\n",
              "  color: #f1f1f1;\n",
              "}\n",
              "#T_70307_row5_col6 {\n",
              "  background-color: #6788ee;\n",
              "  color: #f1f1f1;\n",
              "}\n",
              "#T_70307_row5_col7, #T_70307_row6_col4, #T_70307_row9_col4 {\n",
              "  background-color: #3e51c5;\n",
              "  color: #f1f1f1;\n",
              "}\n",
              "#T_70307_row5_col10 {\n",
              "  background-color: #f1ccb8;\n",
              "  color: #000000;\n",
              "}\n",
              "#T_70307_row6_col0 {\n",
              "  background-color: #a7c5fe;\n",
              "  color: #000000;\n",
              "}\n",
              "#T_70307_row6_col3, #T_70307_row7_col6, #T_70307_row9_col8 {\n",
              "  background-color: #6282ea;\n",
              "  color: #f1f1f1;\n",
              "}\n",
              "#T_70307_row6_col8, #T_70307_row8_col6 {\n",
              "  background-color: #485fd1;\n",
              "  color: #f1f1f1;\n",
              "}\n",
              "#T_70307_row6_col9, #T_70307_row7_col5 {\n",
              "  background-color: #4c66d6;\n",
              "  color: #f1f1f1;\n",
              "}\n",
              "#T_70307_row7_col0 {\n",
              "  background-color: #8badfd;\n",
              "  color: #000000;\n",
              "}\n",
              "#T_70307_row7_col1, #T_70307_row10_col2 {\n",
              "  background-color: #97b8ff;\n",
              "  color: #000000;\n",
              "}\n",
              "#T_70307_row7_col2 {\n",
              "  background-color: #6c8ff1;\n",
              "  color: #f1f1f1;\n",
              "}\n",
              "#T_70307_row7_col8, #T_70307_row8_col9, #T_70307_row9_col3 {\n",
              "  background-color: #5875e1;\n",
              "  color: #f1f1f1;\n",
              "}\n",
              "#T_70307_row7_col9 {\n",
              "  background-color: #ebd3c6;\n",
              "  color: #000000;\n",
              "}\n",
              "#T_70307_row7_col10 {\n",
              "  background-color: #455cce;\n",
              "  color: #f1f1f1;\n",
              "}\n",
              "#T_70307_row8_col1 {\n",
              "  background-color: #9abbff;\n",
              "  color: #000000;\n",
              "}\n",
              "#T_70307_row8_col10 {\n",
              "  background-color: #4961d2;\n",
              "  color: #f1f1f1;\n",
              "}\n",
              "#T_70307_row9_col0 {\n",
              "  background-color: #80a3fa;\n",
              "  color: #f1f1f1;\n",
              "}\n",
              "#T_70307_row9_col1 {\n",
              "  background-color: #adc9fd;\n",
              "  color: #000000;\n",
              "}\n",
              "#T_70307_row9_col7 {\n",
              "  background-color: #ead4c8;\n",
              "  color: #000000;\n",
              "}\n",
              "#T_70307_row10_col1 {\n",
              "  background-color: #a5c3fe;\n",
              "  color: #000000;\n",
              "}\n",
              "#T_70307_row10_col3 {\n",
              "  background-color: #7597f6;\n",
              "  color: #f1f1f1;\n",
              "}\n",
              "#T_70307_row10_col4 {\n",
              "  background-color: #7b9ff9;\n",
              "  color: #f1f1f1;\n",
              "}\n",
              "#T_70307_row10_col5 {\n",
              "  background-color: #f2cbb7;\n",
              "  color: #000000;\n",
              "}\n",
              "#T_70307_row10_col8 {\n",
              "  background-color: #4b64d5;\n",
              "  color: #f1f1f1;\n",
              "}\n",
              "</style>\n",
              "<table id=\"T_70307_\" class=\"dataframe\">\n",
              "  <thead>\n",
              "    <tr>\n",
              "      <th class=\"blank level0\" >&nbsp;</th>\n",
              "      <th class=\"col_heading level0 col0\" >Gender</th>\n",
              "      <th class=\"col_heading level0 col1\" >Married</th>\n",
              "      <th class=\"col_heading level0 col2\" >Dependents</th>\n",
              "      <th class=\"col_heading level0 col3\" >Education</th>\n",
              "      <th class=\"col_heading level0 col4\" >Self_Employed</th>\n",
              "      <th class=\"col_heading level0 col5\" >LoanAmount</th>\n",
              "      <th class=\"col_heading level0 col6\" >Loan_Amount_Term</th>\n",
              "      <th class=\"col_heading level0 col7\" >Credit_History</th>\n",
              "      <th class=\"col_heading level0 col8\" >Property_Area</th>\n",
              "      <th class=\"col_heading level0 col9\" >Loan_Status</th>\n",
              "      <th class=\"col_heading level0 col10\" >Total_Income</th>\n",
              "    </tr>\n",
              "  </thead>\n",
              "  <tbody>\n",
              "    <tr>\n",
              "      <th id=\"T_70307_level0_row0\" class=\"row_heading level0 row0\" >Gender</th>\n",
              "      <td id=\"T_70307_row0_col0\" class=\"data row0 col0\" >1.000000</td>\n",
              "      <td id=\"T_70307_row0_col1\" class=\"data row0 col1\" >-0.349424</td>\n",
              "      <td id=\"T_70307_row0_col2\" class=\"data row0 col2\" >-0.217510</td>\n",
              "      <td id=\"T_70307_row0_col3\" class=\"data row0 col3\" >0.059245</td>\n",
              "      <td id=\"T_70307_row0_col4\" class=\"data row0 col4\" >0.002761</td>\n",
              "      <td id=\"T_70307_row0_col5\" class=\"data row0 col5\" >-0.098975</td>\n",
              "      <td id=\"T_70307_row0_col6\" class=\"data row0 col6\" >0.088704</td>\n",
              "      <td id=\"T_70307_row0_col7\" class=\"data row0 col7\" >-0.022447</td>\n",
              "      <td id=\"T_70307_row0_col8\" class=\"data row0 col8\" >0.000204</td>\n",
              "      <td id=\"T_70307_row0_col9\" class=\"data row0 col9\" >-0.064504</td>\n",
              "      <td id=\"T_70307_row0_col10\" class=\"data row0 col10\" >-0.099472</td>\n",
              "    </tr>\n",
              "    <tr>\n",
              "      <th id=\"T_70307_level0_row1\" class=\"row_heading level0 row1\" >Married</th>\n",
              "      <td id=\"T_70307_row1_col0\" class=\"data row1 col0\" >-0.349424</td>\n",
              "      <td id=\"T_70307_row1_col1\" class=\"data row1 col1\" >1.000000</td>\n",
              "      <td id=\"T_70307_row1_col2\" class=\"data row1 col2\" >0.386367</td>\n",
              "      <td id=\"T_70307_row1_col3\" class=\"data row1 col3\" >-0.001652</td>\n",
              "      <td id=\"T_70307_row1_col4\" class=\"data row1 col4\" >0.015674</td>\n",
              "      <td id=\"T_70307_row1_col5\" class=\"data row1 col5\" >0.183442</td>\n",
              "      <td id=\"T_70307_row1_col6\" class=\"data row1 col6\" >-0.107504</td>\n",
              "      <td id=\"T_70307_row1_col7\" class=\"data row1 col7\" >0.029095</td>\n",
              "      <td id=\"T_70307_row1_col8\" class=\"data row1 col8\" >0.038653</td>\n",
              "      <td id=\"T_70307_row1_col9\" class=\"data row1 col9\" >0.112321</td>\n",
              "      <td id=\"T_70307_row1_col10\" class=\"data row1 col10\" >0.080003</td>\n",
              "    </tr>\n",
              "    <tr>\n",
              "      <th id=\"T_70307_level0_row2\" class=\"row_heading level0 row2\" >Dependents</th>\n",
              "      <td id=\"T_70307_row2_col0\" class=\"data row2 col0\" >-0.217510</td>\n",
              "      <td id=\"T_70307_row2_col1\" class=\"data row2 col1\" >0.386367</td>\n",
              "      <td id=\"T_70307_row2_col2\" class=\"data row2 col2\" >1.000000</td>\n",
              "      <td id=\"T_70307_row2_col3\" class=\"data row2 col3\" >-0.028608</td>\n",
              "      <td id=\"T_70307_row2_col4\" class=\"data row2 col4\" >0.045754</td>\n",
              "      <td id=\"T_70307_row2_col5\" class=\"data row2 col5\" >0.172780</td>\n",
              "      <td id=\"T_70307_row2_col6\" class=\"data row2 col6\" >-0.096361</td>\n",
              "      <td id=\"T_70307_row2_col7\" class=\"data row2 col7\" >-0.026651</td>\n",
              "      <td id=\"T_70307_row2_col8\" class=\"data row2 col8\" >0.001191</td>\n",
              "      <td id=\"T_70307_row2_col9\" class=\"data row2 col9\" >0.035428</td>\n",
              "      <td id=\"T_70307_row2_col10\" class=\"data row2 col10\" >0.124373</td>\n",
              "    </tr>\n",
              "    <tr>\n",
              "      <th id=\"T_70307_level0_row3\" class=\"row_heading level0 row3\" >Education</th>\n",
              "      <td id=\"T_70307_row3_col0\" class=\"data row3 col0\" >0.059245</td>\n",
              "      <td id=\"T_70307_row3_col1\" class=\"data row3 col1\" >-0.001652</td>\n",
              "      <td id=\"T_70307_row3_col2\" class=\"data row3 col2\" >-0.028608</td>\n",
              "      <td id=\"T_70307_row3_col3\" class=\"data row3 col3\" >1.000000</td>\n",
              "      <td id=\"T_70307_row3_col4\" class=\"data row3 col4\" >0.005085</td>\n",
              "      <td id=\"T_70307_row3_col5\" class=\"data row3 col5\" >0.172780</td>\n",
              "      <td id=\"T_70307_row3_col6\" class=\"data row3 col6\" >0.102168</td>\n",
              "      <td id=\"T_70307_row3_col7\" class=\"data row3 col7\" >0.056656</td>\n",
              "      <td id=\"T_70307_row3_col8\" class=\"data row3 col8\" >0.055005</td>\n",
              "      <td id=\"T_70307_row3_col9\" class=\"data row3 col9\" >0.068437</td>\n",
              "      <td id=\"T_70307_row3_col10\" class=\"data row3 col10\" >0.157209</td>\n",
              "    </tr>\n",
              "    <tr>\n",
              "      <th id=\"T_70307_level0_row4\" class=\"row_heading level0 row4\" >Self_Employed</th>\n",
              "      <td id=\"T_70307_row4_col0\" class=\"data row4 col0\" >0.002761</td>\n",
              "      <td id=\"T_70307_row4_col1\" class=\"data row4 col1\" >0.015674</td>\n",
              "      <td id=\"T_70307_row4_col2\" class=\"data row4 col2\" >0.045754</td>\n",
              "      <td id=\"T_70307_row4_col3\" class=\"data row4 col3\" >0.005085</td>\n",
              "      <td id=\"T_70307_row4_col4\" class=\"data row4 col4\" >1.000000</td>\n",
              "      <td id=\"T_70307_row4_col5\" class=\"data row4 col5\" >0.120389</td>\n",
              "      <td id=\"T_70307_row4_col6\" class=\"data row4 col6\" >-0.034852</td>\n",
              "      <td id=\"T_70307_row4_col7\" class=\"data row4 col7\" >-0.023568</td>\n",
              "      <td id=\"T_70307_row4_col8\" class=\"data row4 col8\" >-0.050797</td>\n",
              "      <td id=\"T_70307_row4_col9\" class=\"data row4 col9\" >-0.034715</td>\n",
              "      <td id=\"T_70307_row4_col10\" class=\"data row4 col10\" >0.161492</td>\n",
              "    </tr>\n",
              "    <tr>\n",
              "      <th id=\"T_70307_level0_row5\" class=\"row_heading level0 row5\" >LoanAmount</th>\n",
              "      <td id=\"T_70307_row5_col0\" class=\"data row5 col0\" >-0.098975</td>\n",
              "      <td id=\"T_70307_row5_col1\" class=\"data row5 col1\" >0.183442</td>\n",
              "      <td id=\"T_70307_row5_col2\" class=\"data row5 col2\" >0.172780</td>\n",
              "      <td id=\"T_70307_row5_col3\" class=\"data row5 col3\" >0.172780</td>\n",
              "      <td id=\"T_70307_row5_col4\" class=\"data row5 col4\" >0.120389</td>\n",
              "      <td id=\"T_70307_row5_col5\" class=\"data row5 col5\" >1.000000</td>\n",
              "      <td id=\"T_70307_row5_col6\" class=\"data row5 col6\" >0.050867</td>\n",
              "      <td id=\"T_70307_row5_col7\" class=\"data row5 col7\" >-0.040773</td>\n",
              "      <td id=\"T_70307_row5_col8\" class=\"data row5 col8\" >-0.109685</td>\n",
              "      <td id=\"T_70307_row5_col9\" class=\"data row5 col9\" >-0.071753</td>\n",
              "      <td id=\"T_70307_row5_col10\" class=\"data row5 col10\" >0.553914</td>\n",
              "    </tr>\n",
              "    <tr>\n",
              "      <th id=\"T_70307_level0_row6\" class=\"row_heading level0 row6\" >Loan_Amount_Term</th>\n",
              "      <td id=\"T_70307_row6_col0\" class=\"data row6 col0\" >0.088704</td>\n",
              "      <td id=\"T_70307_row6_col1\" class=\"data row6 col1\" >-0.107504</td>\n",
              "      <td id=\"T_70307_row6_col2\" class=\"data row6 col2\" >-0.096361</td>\n",
              "      <td id=\"T_70307_row6_col3\" class=\"data row6 col3\" >0.102168</td>\n",
              "      <td id=\"T_70307_row6_col4\" class=\"data row6 col4\" >-0.034852</td>\n",
              "      <td id=\"T_70307_row6_col5\" class=\"data row6 col5\" >0.050867</td>\n",
              "      <td id=\"T_70307_row6_col6\" class=\"data row6 col6\" >1.000000</td>\n",
              "      <td id=\"T_70307_row6_col7\" class=\"data row6 col7\" >0.032937</td>\n",
              "      <td id=\"T_70307_row6_col8\" class=\"data row6 col8\" >-0.058656</td>\n",
              "      <td id=\"T_70307_row6_col9\" class=\"data row6 col9\" >-0.007798</td>\n",
              "      <td id=\"T_70307_row6_col10\" class=\"data row6 col10\" >-0.012822</td>\n",
              "    </tr>\n",
              "    <tr>\n",
              "      <th id=\"T_70307_level0_row7\" class=\"row_heading level0 row7\" >Credit_History</th>\n",
              "      <td id=\"T_70307_row7_col0\" class=\"data row7 col0\" >-0.022447</td>\n",
              "      <td id=\"T_70307_row7_col1\" class=\"data row7 col1\" >0.029095</td>\n",
              "      <td id=\"T_70307_row7_col2\" class=\"data row7 col2\" >-0.026651</td>\n",
              "      <td id=\"T_70307_row7_col3\" class=\"data row7 col3\" >0.056656</td>\n",
              "      <td id=\"T_70307_row7_col4\" class=\"data row7 col4\" >-0.023568</td>\n",
              "      <td id=\"T_70307_row7_col5\" class=\"data row7 col5\" >-0.040773</td>\n",
              "      <td id=\"T_70307_row7_col6\" class=\"data row7 col6\" >0.032937</td>\n",
              "      <td id=\"T_70307_row7_col7\" class=\"data row7 col7\" >1.000000</td>\n",
              "      <td id=\"T_70307_row7_col8\" class=\"data row7 col8\" >-0.003013</td>\n",
              "      <td id=\"T_70307_row7_col9\" class=\"data row7 col9\" >0.529390</td>\n",
              "      <td id=\"T_70307_row7_col10\" class=\"data row7 col10\" >-0.057126</td>\n",
              "    </tr>\n",
              "    <tr>\n",
              "      <th id=\"T_70307_level0_row8\" class=\"row_heading level0 row8\" >Property_Area</th>\n",
              "      <td id=\"T_70307_row8_col0\" class=\"data row8 col0\" >0.000204</td>\n",
              "      <td id=\"T_70307_row8_col1\" class=\"data row8 col1\" >0.038653</td>\n",
              "      <td id=\"T_70307_row8_col2\" class=\"data row8 col2\" >0.001191</td>\n",
              "      <td id=\"T_70307_row8_col3\" class=\"data row8 col3\" >0.055005</td>\n",
              "      <td id=\"T_70307_row8_col4\" class=\"data row8 col4\" >-0.050797</td>\n",
              "      <td id=\"T_70307_row8_col5\" class=\"data row8 col5\" >-0.109685</td>\n",
              "      <td id=\"T_70307_row8_col6\" class=\"data row8 col6\" >-0.058656</td>\n",
              "      <td id=\"T_70307_row8_col7\" class=\"data row8 col7\" >-0.003013</td>\n",
              "      <td id=\"T_70307_row8_col8\" class=\"data row8 col8\" >1.000000</td>\n",
              "      <td id=\"T_70307_row8_col9\" class=\"data row8 col9\" >0.031361</td>\n",
              "      <td id=\"T_70307_row8_col10\" class=\"data row8 col10\" >-0.047606</td>\n",
              "    </tr>\n",
              "    <tr>\n",
              "      <th id=\"T_70307_level0_row9\" class=\"row_heading level0 row9\" >Loan_Status</th>\n",
              "      <td id=\"T_70307_row9_col0\" class=\"data row9 col0\" >-0.064504</td>\n",
              "      <td id=\"T_70307_row9_col1\" class=\"data row9 col1\" >0.112321</td>\n",
              "      <td id=\"T_70307_row9_col2\" class=\"data row9 col2\" >0.035428</td>\n",
              "      <td id=\"T_70307_row9_col3\" class=\"data row9 col3\" >0.068437</td>\n",
              "      <td id=\"T_70307_row9_col4\" class=\"data row9 col4\" >-0.034715</td>\n",
              "      <td id=\"T_70307_row9_col5\" class=\"data row9 col5\" >-0.071753</td>\n",
              "      <td id=\"T_70307_row9_col6\" class=\"data row9 col6\" >-0.007798</td>\n",
              "      <td id=\"T_70307_row9_col7\" class=\"data row9 col7\" >0.529390</td>\n",
              "      <td id=\"T_70307_row9_col8\" class=\"data row9 col8\" >0.031361</td>\n",
              "      <td id=\"T_70307_row9_col9\" class=\"data row9 col9\" >1.000000</td>\n",
              "      <td id=\"T_70307_row9_col10\" class=\"data row9 col10\" >-0.062465</td>\n",
              "    </tr>\n",
              "    <tr>\n",
              "      <th id=\"T_70307_level0_row10\" class=\"row_heading level0 row10\" >Total_Income</th>\n",
              "      <td id=\"T_70307_row10_col0\" class=\"data row10 col0\" >-0.099472</td>\n",
              "      <td id=\"T_70307_row10_col1\" class=\"data row10 col1\" >0.080003</td>\n",
              "      <td id=\"T_70307_row10_col2\" class=\"data row10 col2\" >0.124373</td>\n",
              "      <td id=\"T_70307_row10_col3\" class=\"data row10 col3\" >0.157209</td>\n",
              "      <td id=\"T_70307_row10_col4\" class=\"data row10 col4\" >0.161492</td>\n",
              "      <td id=\"T_70307_row10_col5\" class=\"data row10 col5\" >0.553914</td>\n",
              "      <td id=\"T_70307_row10_col6\" class=\"data row10 col6\" >-0.012822</td>\n",
              "      <td id=\"T_70307_row10_col7\" class=\"data row10 col7\" >-0.057126</td>\n",
              "      <td id=\"T_70307_row10_col8\" class=\"data row10 col8\" >-0.047606</td>\n",
              "      <td id=\"T_70307_row10_col9\" class=\"data row10 col9\" >-0.062465</td>\n",
              "      <td id=\"T_70307_row10_col10\" class=\"data row10 col10\" >1.000000</td>\n",
              "    </tr>\n",
              "  </tbody>\n",
              "</table>\n"
            ]
          },
          "metadata": {},
          "execution_count": 10
        }
      ]
    },
    {
      "cell_type": "markdown",
      "source": [
        "# Train and Test Code\n"
      ],
      "metadata": {
        "id": "G-ajB_oyffBd"
      }
    },
    {
      "cell_type": "code",
      "source": [
        "#Dropping any outliers\n",
        "df.describe()"
      ],
      "metadata": {
        "colab": {
          "base_uri": "https://localhost:8080/",
          "height": 300
        },
        "id": "JsmLenmc6S-a",
        "outputId": "7385daf0-e8f9-4d87-ad15-32fa5ab6c09e"
      },
      "execution_count": 11,
      "outputs": [
        {
          "output_type": "execute_result",
          "data": {
            "text/plain": [
              "           Gender     Married  Dependents   Education  Self_Employed  \\\n",
              "count  480.000000  480.000000  480.000000  480.000000     480.000000   \n",
              "mean     0.179167    0.647917    0.777083    0.797917       0.137500   \n",
              "std      0.383892    0.478118    1.020815    0.401973       0.344734   \n",
              "min      0.000000    0.000000    0.000000    0.000000       0.000000   \n",
              "25%      0.000000    0.000000    0.000000    1.000000       0.000000   \n",
              "50%      0.000000    1.000000    0.000000    1.000000       0.000000   \n",
              "75%      0.000000    1.000000    2.000000    1.000000       0.000000   \n",
              "max      1.000000    1.000000    3.000000    1.000000       1.000000   \n",
              "\n",
              "       LoanAmount  Loan_Amount_Term  Credit_History  Property_Area  \\\n",
              "count  480.000000        480.000000      480.000000     480.000000   \n",
              "mean   144.735417        342.050000        0.854167       1.022917   \n",
              "std     80.508164         65.212401        0.353307       0.776411   \n",
              "min      9.000000         36.000000        0.000000       0.000000   \n",
              "25%    100.000000        360.000000        1.000000       0.000000   \n",
              "50%    128.000000        360.000000        1.000000       1.000000   \n",
              "75%    170.000000        360.000000        1.000000       2.000000   \n",
              "max    600.000000        480.000000        1.000000       2.000000   \n",
              "\n",
              "       Loan_Status  Total_Income  \n",
              "count   480.000000    480.000000  \n",
              "mean      0.691667   6945.324833  \n",
              "std       0.462287   5969.948374  \n",
              "min       0.000000   1442.000000  \n",
              "25%       0.000000   4148.000000  \n",
              "50%       1.000000   5422.500000  \n",
              "75%       1.000000   7672.500000  \n",
              "max       1.000000  81000.000000  "
            ],
            "text/html": [
              "\n",
              "  <div id=\"df-ec871cef-f18d-4e03-8650-83ff7e0cdcb6\">\n",
              "    <div class=\"colab-df-container\">\n",
              "      <div>\n",
              "<style scoped>\n",
              "    .dataframe tbody tr th:only-of-type {\n",
              "        vertical-align: middle;\n",
              "    }\n",
              "\n",
              "    .dataframe tbody tr th {\n",
              "        vertical-align: top;\n",
              "    }\n",
              "\n",
              "    .dataframe thead th {\n",
              "        text-align: right;\n",
              "    }\n",
              "</style>\n",
              "<table border=\"1\" class=\"dataframe\">\n",
              "  <thead>\n",
              "    <tr style=\"text-align: right;\">\n",
              "      <th></th>\n",
              "      <th>Gender</th>\n",
              "      <th>Married</th>\n",
              "      <th>Dependents</th>\n",
              "      <th>Education</th>\n",
              "      <th>Self_Employed</th>\n",
              "      <th>LoanAmount</th>\n",
              "      <th>Loan_Amount_Term</th>\n",
              "      <th>Credit_History</th>\n",
              "      <th>Property_Area</th>\n",
              "      <th>Loan_Status</th>\n",
              "      <th>Total_Income</th>\n",
              "    </tr>\n",
              "  </thead>\n",
              "  <tbody>\n",
              "    <tr>\n",
              "      <th>count</th>\n",
              "      <td>480.000000</td>\n",
              "      <td>480.000000</td>\n",
              "      <td>480.000000</td>\n",
              "      <td>480.000000</td>\n",
              "      <td>480.000000</td>\n",
              "      <td>480.000000</td>\n",
              "      <td>480.000000</td>\n",
              "      <td>480.000000</td>\n",
              "      <td>480.000000</td>\n",
              "      <td>480.000000</td>\n",
              "      <td>480.000000</td>\n",
              "    </tr>\n",
              "    <tr>\n",
              "      <th>mean</th>\n",
              "      <td>0.179167</td>\n",
              "      <td>0.647917</td>\n",
              "      <td>0.777083</td>\n",
              "      <td>0.797917</td>\n",
              "      <td>0.137500</td>\n",
              "      <td>144.735417</td>\n",
              "      <td>342.050000</td>\n",
              "      <td>0.854167</td>\n",
              "      <td>1.022917</td>\n",
              "      <td>0.691667</td>\n",
              "      <td>6945.324833</td>\n",
              "    </tr>\n",
              "    <tr>\n",
              "      <th>std</th>\n",
              "      <td>0.383892</td>\n",
              "      <td>0.478118</td>\n",
              "      <td>1.020815</td>\n",
              "      <td>0.401973</td>\n",
              "      <td>0.344734</td>\n",
              "      <td>80.508164</td>\n",
              "      <td>65.212401</td>\n",
              "      <td>0.353307</td>\n",
              "      <td>0.776411</td>\n",
              "      <td>0.462287</td>\n",
              "      <td>5969.948374</td>\n",
              "    </tr>\n",
              "    <tr>\n",
              "      <th>min</th>\n",
              "      <td>0.000000</td>\n",
              "      <td>0.000000</td>\n",
              "      <td>0.000000</td>\n",
              "      <td>0.000000</td>\n",
              "      <td>0.000000</td>\n",
              "      <td>9.000000</td>\n",
              "      <td>36.000000</td>\n",
              "      <td>0.000000</td>\n",
              "      <td>0.000000</td>\n",
              "      <td>0.000000</td>\n",
              "      <td>1442.000000</td>\n",
              "    </tr>\n",
              "    <tr>\n",
              "      <th>25%</th>\n",
              "      <td>0.000000</td>\n",
              "      <td>0.000000</td>\n",
              "      <td>0.000000</td>\n",
              "      <td>1.000000</td>\n",
              "      <td>0.000000</td>\n",
              "      <td>100.000000</td>\n",
              "      <td>360.000000</td>\n",
              "      <td>1.000000</td>\n",
              "      <td>0.000000</td>\n",
              "      <td>0.000000</td>\n",
              "      <td>4148.000000</td>\n",
              "    </tr>\n",
              "    <tr>\n",
              "      <th>50%</th>\n",
              "      <td>0.000000</td>\n",
              "      <td>1.000000</td>\n",
              "      <td>0.000000</td>\n",
              "      <td>1.000000</td>\n",
              "      <td>0.000000</td>\n",
              "      <td>128.000000</td>\n",
              "      <td>360.000000</td>\n",
              "      <td>1.000000</td>\n",
              "      <td>1.000000</td>\n",
              "      <td>1.000000</td>\n",
              "      <td>5422.500000</td>\n",
              "    </tr>\n",
              "    <tr>\n",
              "      <th>75%</th>\n",
              "      <td>0.000000</td>\n",
              "      <td>1.000000</td>\n",
              "      <td>2.000000</td>\n",
              "      <td>1.000000</td>\n",
              "      <td>0.000000</td>\n",
              "      <td>170.000000</td>\n",
              "      <td>360.000000</td>\n",
              "      <td>1.000000</td>\n",
              "      <td>2.000000</td>\n",
              "      <td>1.000000</td>\n",
              "      <td>7672.500000</td>\n",
              "    </tr>\n",
              "    <tr>\n",
              "      <th>max</th>\n",
              "      <td>1.000000</td>\n",
              "      <td>1.000000</td>\n",
              "      <td>3.000000</td>\n",
              "      <td>1.000000</td>\n",
              "      <td>1.000000</td>\n",
              "      <td>600.000000</td>\n",
              "      <td>480.000000</td>\n",
              "      <td>1.000000</td>\n",
              "      <td>2.000000</td>\n",
              "      <td>1.000000</td>\n",
              "      <td>81000.000000</td>\n",
              "    </tr>\n",
              "  </tbody>\n",
              "</table>\n",
              "</div>\n",
              "      <button class=\"colab-df-convert\" onclick=\"convertToInteractive('df-ec871cef-f18d-4e03-8650-83ff7e0cdcb6')\"\n",
              "              title=\"Convert this dataframe to an interactive table.\"\n",
              "              style=\"display:none;\">\n",
              "        \n",
              "  <svg xmlns=\"http://www.w3.org/2000/svg\" height=\"24px\"viewBox=\"0 0 24 24\"\n",
              "       width=\"24px\">\n",
              "    <path d=\"M0 0h24v24H0V0z\" fill=\"none\"/>\n",
              "    <path d=\"M18.56 5.44l.94 2.06.94-2.06 2.06-.94-2.06-.94-.94-2.06-.94 2.06-2.06.94zm-11 1L8.5 8.5l.94-2.06 2.06-.94-2.06-.94L8.5 2.5l-.94 2.06-2.06.94zm10 10l.94 2.06.94-2.06 2.06-.94-2.06-.94-.94-2.06-.94 2.06-2.06.94z\"/><path d=\"M17.41 7.96l-1.37-1.37c-.4-.4-.92-.59-1.43-.59-.52 0-1.04.2-1.43.59L10.3 9.45l-7.72 7.72c-.78.78-.78 2.05 0 2.83L4 21.41c.39.39.9.59 1.41.59.51 0 1.02-.2 1.41-.59l7.78-7.78 2.81-2.81c.8-.78.8-2.07 0-2.86zM5.41 20L4 18.59l7.72-7.72 1.47 1.35L5.41 20z\"/>\n",
              "  </svg>\n",
              "      </button>\n",
              "      \n",
              "  <style>\n",
              "    .colab-df-container {\n",
              "      display:flex;\n",
              "      flex-wrap:wrap;\n",
              "      gap: 12px;\n",
              "    }\n",
              "\n",
              "    .colab-df-convert {\n",
              "      background-color: #E8F0FE;\n",
              "      border: none;\n",
              "      border-radius: 50%;\n",
              "      cursor: pointer;\n",
              "      display: none;\n",
              "      fill: #1967D2;\n",
              "      height: 32px;\n",
              "      padding: 0 0 0 0;\n",
              "      width: 32px;\n",
              "    }\n",
              "\n",
              "    .colab-df-convert:hover {\n",
              "      background-color: #E2EBFA;\n",
              "      box-shadow: 0px 1px 2px rgba(60, 64, 67, 0.3), 0px 1px 3px 1px rgba(60, 64, 67, 0.15);\n",
              "      fill: #174EA6;\n",
              "    }\n",
              "\n",
              "    [theme=dark] .colab-df-convert {\n",
              "      background-color: #3B4455;\n",
              "      fill: #D2E3FC;\n",
              "    }\n",
              "\n",
              "    [theme=dark] .colab-df-convert:hover {\n",
              "      background-color: #434B5C;\n",
              "      box-shadow: 0px 1px 3px 1px rgba(0, 0, 0, 0.15);\n",
              "      filter: drop-shadow(0px 1px 2px rgba(0, 0, 0, 0.3));\n",
              "      fill: #FFFFFF;\n",
              "    }\n",
              "  </style>\n",
              "\n",
              "      <script>\n",
              "        const buttonEl =\n",
              "          document.querySelector('#df-ec871cef-f18d-4e03-8650-83ff7e0cdcb6 button.colab-df-convert');\n",
              "        buttonEl.style.display =\n",
              "          google.colab.kernel.accessAllowed ? 'block' : 'none';\n",
              "\n",
              "        async function convertToInteractive(key) {\n",
              "          const element = document.querySelector('#df-ec871cef-f18d-4e03-8650-83ff7e0cdcb6');\n",
              "          const dataTable =\n",
              "            await google.colab.kernel.invokeFunction('convertToInteractive',\n",
              "                                                     [key], {});\n",
              "          if (!dataTable) return;\n",
              "\n",
              "          const docLinkHtml = 'Like what you see? Visit the ' +\n",
              "            '<a target=\"_blank\" href=https://colab.research.google.com/notebooks/data_table.ipynb>data table notebook</a>'\n",
              "            + ' to learn more about interactive tables.';\n",
              "          element.innerHTML = '';\n",
              "          dataTable['output_type'] = 'display_data';\n",
              "          await google.colab.output.renderOutput(dataTable, element);\n",
              "          const docLink = document.createElement('div');\n",
              "          docLink.innerHTML = docLinkHtml;\n",
              "          element.appendChild(docLink);\n",
              "        }\n",
              "      </script>\n",
              "    </div>\n",
              "  </div>\n",
              "  "
            ]
          },
          "metadata": {},
          "execution_count": 11
        }
      ]
    },
    {
      "cell_type": "code",
      "source": [
        "#Checking for Imbalances\n",
        "test1 = df.groupby(['Loan_Status'], sort=True).size()\n",
        "test1"
      ],
      "metadata": {
        "colab": {
          "base_uri": "https://localhost:8080/"
        },
        "id": "XOrkm_r7-lRv",
        "outputId": "7b63a191-da54-4f8d-cc34-ab0107ae8e48"
      },
      "execution_count": 12,
      "outputs": [
        {
          "output_type": "execute_result",
          "data": {
            "text/plain": [
              "Loan_Status\n",
              "0    148\n",
              "1    332\n",
              "dtype: int64"
            ]
          },
          "metadata": {},
          "execution_count": 12
        }
      ]
    },
    {
      "cell_type": "code",
      "source": [
        "#Feature selection, Train with 6 best features\n",
        "train_dataset = df.drop(columns=['Gender','Self_Employed','LoanAmount','Loan_Amount_Term'], axis=1) \n",
        "train_dataset.head()"
      ],
      "metadata": {
        "colab": {
          "base_uri": "https://localhost:8080/",
          "height": 206
        },
        "id": "Xxderyzyfls2",
        "outputId": "44286f57-800d-4e6b-af65-8dbef232e512"
      },
      "execution_count": 13,
      "outputs": [
        {
          "output_type": "execute_result",
          "data": {
            "text/plain": [
              "   Married  Dependents  Education  Credit_History  Property_Area  Loan_Status  \\\n",
              "1        1           1          1             1.0              0            0   \n",
              "2        1           0          1             1.0              2            1   \n",
              "3        1           0          0             1.0              2            1   \n",
              "4        0           0          1             1.0              2            1   \n",
              "5        1           2          1             1.0              2            1   \n",
              "\n",
              "   Total_Income  \n",
              "1        6091.0  \n",
              "2        3000.0  \n",
              "3        4941.0  \n",
              "4        6000.0  \n",
              "5        9613.0  "
            ],
            "text/html": [
              "\n",
              "  <div id=\"df-ea7b103f-0fde-4b97-b883-1b65dee121c8\">\n",
              "    <div class=\"colab-df-container\">\n",
              "      <div>\n",
              "<style scoped>\n",
              "    .dataframe tbody tr th:only-of-type {\n",
              "        vertical-align: middle;\n",
              "    }\n",
              "\n",
              "    .dataframe tbody tr th {\n",
              "        vertical-align: top;\n",
              "    }\n",
              "\n",
              "    .dataframe thead th {\n",
              "        text-align: right;\n",
              "    }\n",
              "</style>\n",
              "<table border=\"1\" class=\"dataframe\">\n",
              "  <thead>\n",
              "    <tr style=\"text-align: right;\">\n",
              "      <th></th>\n",
              "      <th>Married</th>\n",
              "      <th>Dependents</th>\n",
              "      <th>Education</th>\n",
              "      <th>Credit_History</th>\n",
              "      <th>Property_Area</th>\n",
              "      <th>Loan_Status</th>\n",
              "      <th>Total_Income</th>\n",
              "    </tr>\n",
              "  </thead>\n",
              "  <tbody>\n",
              "    <tr>\n",
              "      <th>1</th>\n",
              "      <td>1</td>\n",
              "      <td>1</td>\n",
              "      <td>1</td>\n",
              "      <td>1.0</td>\n",
              "      <td>0</td>\n",
              "      <td>0</td>\n",
              "      <td>6091.0</td>\n",
              "    </tr>\n",
              "    <tr>\n",
              "      <th>2</th>\n",
              "      <td>1</td>\n",
              "      <td>0</td>\n",
              "      <td>1</td>\n",
              "      <td>1.0</td>\n",
              "      <td>2</td>\n",
              "      <td>1</td>\n",
              "      <td>3000.0</td>\n",
              "    </tr>\n",
              "    <tr>\n",
              "      <th>3</th>\n",
              "      <td>1</td>\n",
              "      <td>0</td>\n",
              "      <td>0</td>\n",
              "      <td>1.0</td>\n",
              "      <td>2</td>\n",
              "      <td>1</td>\n",
              "      <td>4941.0</td>\n",
              "    </tr>\n",
              "    <tr>\n",
              "      <th>4</th>\n",
              "      <td>0</td>\n",
              "      <td>0</td>\n",
              "      <td>1</td>\n",
              "      <td>1.0</td>\n",
              "      <td>2</td>\n",
              "      <td>1</td>\n",
              "      <td>6000.0</td>\n",
              "    </tr>\n",
              "    <tr>\n",
              "      <th>5</th>\n",
              "      <td>1</td>\n",
              "      <td>2</td>\n",
              "      <td>1</td>\n",
              "      <td>1.0</td>\n",
              "      <td>2</td>\n",
              "      <td>1</td>\n",
              "      <td>9613.0</td>\n",
              "    </tr>\n",
              "  </tbody>\n",
              "</table>\n",
              "</div>\n",
              "      <button class=\"colab-df-convert\" onclick=\"convertToInteractive('df-ea7b103f-0fde-4b97-b883-1b65dee121c8')\"\n",
              "              title=\"Convert this dataframe to an interactive table.\"\n",
              "              style=\"display:none;\">\n",
              "        \n",
              "  <svg xmlns=\"http://www.w3.org/2000/svg\" height=\"24px\"viewBox=\"0 0 24 24\"\n",
              "       width=\"24px\">\n",
              "    <path d=\"M0 0h24v24H0V0z\" fill=\"none\"/>\n",
              "    <path d=\"M18.56 5.44l.94 2.06.94-2.06 2.06-.94-2.06-.94-.94-2.06-.94 2.06-2.06.94zm-11 1L8.5 8.5l.94-2.06 2.06-.94-2.06-.94L8.5 2.5l-.94 2.06-2.06.94zm10 10l.94 2.06.94-2.06 2.06-.94-2.06-.94-.94-2.06-.94 2.06-2.06.94z\"/><path d=\"M17.41 7.96l-1.37-1.37c-.4-.4-.92-.59-1.43-.59-.52 0-1.04.2-1.43.59L10.3 9.45l-7.72 7.72c-.78.78-.78 2.05 0 2.83L4 21.41c.39.39.9.59 1.41.59.51 0 1.02-.2 1.41-.59l7.78-7.78 2.81-2.81c.8-.78.8-2.07 0-2.86zM5.41 20L4 18.59l7.72-7.72 1.47 1.35L5.41 20z\"/>\n",
              "  </svg>\n",
              "      </button>\n",
              "      \n",
              "  <style>\n",
              "    .colab-df-container {\n",
              "      display:flex;\n",
              "      flex-wrap:wrap;\n",
              "      gap: 12px;\n",
              "    }\n",
              "\n",
              "    .colab-df-convert {\n",
              "      background-color: #E8F0FE;\n",
              "      border: none;\n",
              "      border-radius: 50%;\n",
              "      cursor: pointer;\n",
              "      display: none;\n",
              "      fill: #1967D2;\n",
              "      height: 32px;\n",
              "      padding: 0 0 0 0;\n",
              "      width: 32px;\n",
              "    }\n",
              "\n",
              "    .colab-df-convert:hover {\n",
              "      background-color: #E2EBFA;\n",
              "      box-shadow: 0px 1px 2px rgba(60, 64, 67, 0.3), 0px 1px 3px 1px rgba(60, 64, 67, 0.15);\n",
              "      fill: #174EA6;\n",
              "    }\n",
              "\n",
              "    [theme=dark] .colab-df-convert {\n",
              "      background-color: #3B4455;\n",
              "      fill: #D2E3FC;\n",
              "    }\n",
              "\n",
              "    [theme=dark] .colab-df-convert:hover {\n",
              "      background-color: #434B5C;\n",
              "      box-shadow: 0px 1px 3px 1px rgba(0, 0, 0, 0.15);\n",
              "      filter: drop-shadow(0px 1px 2px rgba(0, 0, 0, 0.3));\n",
              "      fill: #FFFFFF;\n",
              "    }\n",
              "  </style>\n",
              "\n",
              "      <script>\n",
              "        const buttonEl =\n",
              "          document.querySelector('#df-ea7b103f-0fde-4b97-b883-1b65dee121c8 button.colab-df-convert');\n",
              "        buttonEl.style.display =\n",
              "          google.colab.kernel.accessAllowed ? 'block' : 'none';\n",
              "\n",
              "        async function convertToInteractive(key) {\n",
              "          const element = document.querySelector('#df-ea7b103f-0fde-4b97-b883-1b65dee121c8');\n",
              "          const dataTable =\n",
              "            await google.colab.kernel.invokeFunction('convertToInteractive',\n",
              "                                                     [key], {});\n",
              "          if (!dataTable) return;\n",
              "\n",
              "          const docLinkHtml = 'Like what you see? Visit the ' +\n",
              "            '<a target=\"_blank\" href=https://colab.research.google.com/notebooks/data_table.ipynb>data table notebook</a>'\n",
              "            + ' to learn more about interactive tables.';\n",
              "          element.innerHTML = '';\n",
              "          dataTable['output_type'] = 'display_data';\n",
              "          await google.colab.output.renderOutput(dataTable, element);\n",
              "          const docLink = document.createElement('div');\n",
              "          docLink.innerHTML = docLinkHtml;\n",
              "          element.appendChild(docLink);\n",
              "        }\n",
              "      </script>\n",
              "    </div>\n",
              "  </div>\n",
              "  "
            ]
          },
          "metadata": {},
          "execution_count": 13
        }
      ]
    },
    {
      "cell_type": "code",
      "source": [
        "X = train_dataset.drop('Loan_Status', axis=1)\n",
        "y = train_dataset['Loan_Status']\n",
        "\n",
        "X_train, X_test, y_train, y_test = train_test_split(X, y, test_size=0.2, random_state=44) #random state 44 somehow gives the highest score.\n",
        "#X_train, X_val, y_train, y_val = train_test_split(X_train, y_train, test_size=0.25, random_state=44) # 0.25 x 0.8 = 0.2\n",
        "print(X_train.shape)\n",
        "print(X_test.shape)\n",
        "print(y_train.shape)\n",
        "print(y_test.shape)\n",
        "# print(X_val.shape)\n",
        "# print(y_val.shape)"
      ],
      "metadata": {
        "colab": {
          "base_uri": "https://localhost:8080/"
        },
        "id": "jwBJHWbeh1uk",
        "outputId": "43552e5d-633a-421e-8ef1-de6c10cd52aa"
      },
      "execution_count": 14,
      "outputs": [
        {
          "output_type": "stream",
          "name": "stdout",
          "text": [
            "(384, 6)\n",
            "(96, 6)\n",
            "(384,)\n",
            "(96,)\n"
          ]
        }
      ]
    },
    {
      "cell_type": "code",
      "source": [
        "#Normalization\n",
        "scaler = StandardScaler()\n",
        "\n",
        "X_train_scaled = scaler.fit_transform(X_train)\n",
        "X_test_scaled = scaler.fit_transform(X_test)"
      ],
      "metadata": {
        "id": "VYtFjuZ5pi6L"
      },
      "execution_count": 15,
      "outputs": []
    },
    {
      "cell_type": "code",
      "source": [
        "# Train the dataset using different classifications or regressions\n",
        "linear_model = LinearRegression()\n",
        "model1 = linear_model.fit(X_train_scaled, y_train)\n",
        "print(linear_model.score(X_test_scaled, y_test))"
      ],
      "metadata": {
        "colab": {
          "base_uri": "https://localhost:8080/"
        },
        "id": "ccTXgbbjpvkI",
        "outputId": "de65347c-6953-49ec-8f15-46a5ac49d25a"
      },
      "execution_count": 64,
      "outputs": [
        {
          "output_type": "stream",
          "name": "stdout",
          "text": [
            "0.39898212119840915\n"
          ]
        }
      ]
    },
    {
      "cell_type": "code",
      "source": [
        "# Evaluating the learning curve\n",
        "train_size, train_scores, valid_scores = learning_curve(\n",
        "    LinearRegression(), X_train_scaled, y_train, cv=4)\n",
        "\n",
        "plt.plot(train_size,np.mean(train_scores,axis=1), label='Train_Score')\n",
        "plt.plot(train_size,np.mean(valid_scores,axis=1), label='Valid_Score')\n",
        "plt.title('Training Score and Validation of saga Model', fontsize=16)\n",
        "plt.ylabel('Training Score and Validation', fontsize=16)\n",
        "plt.xlabel('Size', fontsize=16)\n",
        "plt.legend()"
      ],
      "metadata": {
        "colab": {
          "base_uri": "https://localhost:8080/",
          "height": 319
        },
        "id": "bhEuFDXRvMv7",
        "outputId": "51a6000e-cd4b-4aec-e003-c15dc52ecc54"
      },
      "execution_count": 63,
      "outputs": [
        {
          "output_type": "execute_result",
          "data": {
            "text/plain": [
              "<matplotlib.legend.Legend at 0x7f1cf9733ca0>"
            ]
          },
          "metadata": {},
          "execution_count": 63
        },
        {
          "output_type": "display_data",
          "data": {
            "text/plain": [
              "<Figure size 432x288 with 1 Axes>"
            ],
            "image/png": "[encoded data removed]"
          },
          "metadata": {
            "needs_background": "light"
          }
        }
      ]
    },
    {
      "cell_type": "code",
      "source": [
        "lbfgs_clf = LogisticRegression(solver='lbfgs')\n",
        "model2 = lbfgs_clf.fit(X_train_scaled, y_train)\n",
        "print(lbfgs_clf.score(X_test_scaled, y_test))"
      ],
      "metadata": {
        "colab": {
          "base_uri": "https://localhost:8080/"
        },
        "id": "TBKbQRNiqibr",
        "outputId": "66b11872-4ef7-4541-ae0b-d1bbd06001c2"
      },
      "execution_count": 17,
      "outputs": [
        {
          "output_type": "stream",
          "name": "stdout",
          "text": [
            "0.8854166666666666\n"
          ]
        }
      ]
    },
    {
      "cell_type": "code",
      "source": [
        "# Evaluating the learning curve\n",
        "train_size, train_scores, valid_scores = learning_curve(\n",
        "    LogisticRegression(solver='lbfgs'), X_train_scaled, y_train, cv=4)\n",
        "\n",
        "plt.plot(train_size,np.mean(train_scores,axis=1), label='Train_Score')\n",
        "plt.plot(train_size,np.mean(valid_scores,axis=1), label='Valid_Score')\n",
        "plt.title('Training Score and Validation of saga Model', fontsize=16)\n",
        "plt.ylabel('Training Score and Validation', fontsize=16)\n",
        "plt.xlabel('Size', fontsize=16)\n",
        "plt.legend()"
      ],
      "metadata": {
        "colab": {
          "base_uri": "https://localhost:8080/",
          "height": 319
        },
        "id": "mHMQ_d7kvMJv",
        "outputId": "5151a757-373d-4d29-a5e3-92b833633d1e"
      },
      "execution_count": 61,
      "outputs": [
        {
          "output_type": "execute_result",
          "data": {
            "text/plain": [
              "<matplotlib.legend.Legend at 0x7f1cf8d7eaf0>"
            ]
          },
          "metadata": {},
          "execution_count": 61
        },
        {
          "output_type": "display_data",
          "data": {
            "text/plain": [
              "<Figure size 432x288 with 1 Axes>"
            ],
            "image/png": "[encoded data removed]"
          },
          "metadata": {
            "needs_background": "light"
          }
        }
      ]
    },
    {
      "cell_type": "code",
      "source": [
        "rbfSVM_clf = SVC(kernel='rbf')\n",
        "model3 = rbfSVM_clf.fit(X_train_scaled, y_train)\n",
        "print(rbfSVM_clf.score(X_test_scaled, y_test))"
      ],
      "metadata": {
        "colab": {
          "base_uri": "https://localhost:8080/"
        },
        "id": "ZuHB18rKqqQ4",
        "outputId": "18065e64-2efe-4d79-95dd-02c07b79df3f"
      },
      "execution_count": 18,
      "outputs": [
        {
          "output_type": "stream",
          "name": "stdout",
          "text": [
            "0.90625\n"
          ]
        }
      ]
    },
    {
      "cell_type": "code",
      "source": [
        "# Evaluating the learning curve\n",
        "train_size, train_scores, valid_scores = learning_curve(\n",
        "    SVC(kernel='rbf'), X_train_scaled, y_train, cv=4)\n",
        "\n",
        "plt.plot(train_size,np.mean(train_scores,axis=1), label='Train_Score')\n",
        "plt.plot(train_size,np.mean(valid_scores,axis=1), label='Valid_Score')\n",
        "plt.title('Training Score and Validation of RBF Model', fontsize=16)\n",
        "plt.ylabel('Training Score and Validation', fontsize=16)\n",
        "plt.xlabel('Size', fontsize=16)\n",
        "plt.legend()"
      ],
      "metadata": {
        "id": "aintp_Mdxkmb",
        "colab": {
          "base_uri": "https://localhost:8080/",
          "height": 319
        },
        "outputId": "9b6fc487-812f-4cf9-a971-d77faa5c5e99"
      },
      "execution_count": 53,
      "outputs": [
        {
          "output_type": "execute_result",
          "data": {
            "text/plain": [
              "<matplotlib.legend.Legend at 0x7f1cf97cf280>"
            ]
          },
          "metadata": {},
          "execution_count": 53
        },
        {
          "output_type": "display_data",
          "data": {
            "text/plain": [
              "<Figure size 432x288 with 1 Axes>"
            ],
            "image/png": "[encoded data removed]"
          },
          "metadata": {
            "needs_background": "light"
          }
        }
      ]
    },
    {
      "cell_type": "code",
      "source": [
        "polySVM_clf = SVC(kernel='poly')\n",
        "model4 = polySVM_clf.fit(X_train_scaled, y_train)\n",
        "print(polySVM_clf.score(X_test_scaled, y_test))"
      ],
      "metadata": {
        "colab": {
          "base_uri": "https://localhost:8080/"
        },
        "id": "IIkIDww8qu27",
        "outputId": "e3e57eb7-7af0-4aa9-fdb8-455ea0c1bef1"
      },
      "execution_count": 20,
      "outputs": [
        {
          "output_type": "stream",
          "name": "stdout",
          "text": [
            "0.8958333333333334\n"
          ]
        }
      ]
    },
    {
      "cell_type": "code",
      "source": [
        "# Evaluating the learning curve\n",
        "train_size, train_scores, valid_scores = learning_curve(\n",
        "    SVC(kernel='poly'), X_train_scaled, y_train, cv=4)\n",
        "\n",
        "plt.plot(train_size,np.mean(train_scores,axis=1), label='Train_Score')\n",
        "plt.plot(train_size,np.mean(valid_scores,axis=1), label='Valid_Score')\n",
        "plt.title('Training Score and Validation of Poly Model', fontsize=16)\n",
        "plt.ylabel('Training Score and Validation', fontsize=16)\n",
        "plt.xlabel('Size', fontsize=16)\n",
        "plt.legend()"
      ],
      "metadata": {
        "id": "DooiuIupxlF1",
        "colab": {
          "base_uri": "https://localhost:8080/",
          "height": 319
        },
        "outputId": "8c683b1b-f010-4feb-e81e-1f96731703f3"
      },
      "execution_count": 51,
      "outputs": [
        {
          "output_type": "execute_result",
          "data": {
            "text/plain": [
              "<matplotlib.legend.Legend at 0x7f1cf8bc3b20>"
            ]
          },
          "metadata": {},
          "execution_count": 51
        },
        {
          "output_type": "display_data",
          "data": {
            "text/plain": [
              "<Figure size 432x288 with 1 Axes>"
            ],
            "image/png": "[encoded data removed]"
          },
          "metadata": {
            "needs_background": "light"
          }
        }
      ]
    },
    {
      "cell_type": "code",
      "source": [
        "saga_clf = LogisticRegression(solver='saga')\n",
        "model5 = saga_clf.fit(X_train_scaled, y_train)\n",
        "print(saga_clf.score(X_test_scaled, y_test))"
      ],
      "metadata": {
        "colab": {
          "base_uri": "https://localhost:8080/"
        },
        "id": "s2sOEIcsqzbu",
        "outputId": "76e63965-d2b7-4f08-89e0-03e44fd4cb9f"
      },
      "execution_count": 22,
      "outputs": [
        {
          "output_type": "stream",
          "name": "stdout",
          "text": [
            "0.8854166666666666\n"
          ]
        }
      ]
    },
    {
      "cell_type": "code",
      "source": [
        "# Evaluating the learning curve\n",
        "train_size, train_scores, valid_scores = learning_curve(\n",
        "    LogisticRegression(solver='saga'), X_train_scaled, y_train, cv=4)\n",
        "\n",
        "plt.plot(train_size,np.mean(train_scores,axis=1), label='Train_Score')\n",
        "plt.plot(train_size,np.mean(valid_scores,axis=1), label='Valid_Score')\n",
        "plt.title('Training Score and Validation of saga Model', fontsize=16)\n",
        "plt.ylabel('Training Score and Validation', fontsize=16)\n",
        "plt.xlabel('Size', fontsize=16)\n",
        "plt.legend()"
      ],
      "metadata": {
        "colab": {
          "base_uri": "https://localhost:8080/",
          "height": 319
        },
        "id": "5R6esUT-vJwB",
        "outputId": "c099517e-1a11-4069-aa84-739f3cd6acb6"
      },
      "execution_count": 57,
      "outputs": [
        {
          "output_type": "execute_result",
          "data": {
            "text/plain": [
              "<matplotlib.legend.Legend at 0x7f1cf8ba8340>"
            ]
          },
          "metadata": {},
          "execution_count": 57
        },
        {
          "output_type": "display_data",
          "data": {
            "text/plain": [
              "<Figure size 432x288 with 1 Axes>"
            ],
            "image/png": "[encoded data removed]"
          },
          "metadata": {
            "needs_background": "light"
          }
        }
      ]
    },
    {
      "cell_type": "code",
      "source": [
        "liblinear_clf = LogisticRegression(solver='liblinear')\n",
        "model6 = liblinear_clf.fit(X_train_scaled, y_train)\n",
        "print(liblinear_clf.score(X_test_scaled, y_test))"
      ],
      "metadata": {
        "colab": {
          "base_uri": "https://localhost:8080/"
        },
        "id": "uqxQ9K2hq17d",
        "outputId": "6f2f76d8-3ac4-4f9f-cc2b-bb5301d8f3fa"
      },
      "execution_count": 23,
      "outputs": [
        {
          "output_type": "stream",
          "name": "stdout",
          "text": [
            "0.8854166666666666\n"
          ]
        }
      ]
    },
    {
      "cell_type": "code",
      "source": [
        "# Evaluating the learning curve\n",
        "train_size, train_scores, valid_scores = learning_curve(\n",
        "    LogisticRegression(solver='liblinear'), X_train_scaled, y_train, cv=4)\n",
        "\n",
        "plt.plot(train_size,np.mean(train_scores,axis=1), label='Train_Score')\n",
        "plt.plot(train_size,np.mean(valid_scores,axis=1), label='Valid_Score')\n",
        "plt.title('Training Score and Validation of saga Model', fontsize=16)\n",
        "plt.ylabel('Training Score and Validation', fontsize=16)\n",
        "plt.xlabel('Size', fontsize=16)\n",
        "plt.legend()"
      ],
      "metadata": {
        "colab": {
          "base_uri": "https://localhost:8080/",
          "height": 319
        },
        "id": "9euhAfxgvKQS",
        "outputId": "345899d5-53a8-4e78-881a-b3a44a7d3646"
      },
      "execution_count": 60,
      "outputs": [
        {
          "output_type": "execute_result",
          "data": {
            "text/plain": [
              "<matplotlib.legend.Legend at 0x7f1cf9764670>"
            ]
          },
          "metadata": {},
          "execution_count": 60
        },
        {
          "output_type": "display_data",
          "data": {
            "text/plain": [
              "<Figure size 432x288 with 1 Axes>"
            ],
            "image/png": "[encoded data removed]"
          },
          "metadata": {
            "needs_background": "light"
          }
        }
      ]
    },
    {
      "cell_type": "markdown",
      "source": [
        "# Predicting the Test Set\n"
      ],
      "metadata": {
        "id": "BphL9Y8GYsIa"
      }
    },
    {
      "cell_type": "code",
      "source": [
        "#importing the test set like we did with the training one\n",
        "dftest = pd.read_csv('test_Y3wMUE5_7gLdaTN.csv')\n"
      ],
      "metadata": {
        "id": "AI0A2dZPQOHl"
      },
      "execution_count": 24,
      "outputs": []
    },
    {
      "cell_type": "code",
      "source": [
        "#Dropping all of the NAN values\n",
        "dftest.replace('', np.nan, inplace=True)\n",
        "dftest = dftest.dropna()\n",
        "dftorigin = dftest.copy()"
      ],
      "metadata": {
        "id": "oMIvKaA7QRmp"
      },
      "execution_count": 25,
      "outputs": []
    },
    {
      "cell_type": "code",
      "source": [
        "dftest = dftest.drop(['Loan_ID'], axis=1)"
      ],
      "metadata": {
        "id": "DG7URmajQUMb"
      },
      "execution_count": 26,
      "outputs": []
    },
    {
      "cell_type": "code",
      "source": [
        "dftest['Gender'] = dftest['Gender'].map({'Male':0, 'Female':1})\n",
        "dftest['Married'] = dftest['Married'].map({'No':0, 'Yes':1})\n",
        "dftest['Dependents'] = dftest['Dependents'].map({'3+':3, '0':0, '1':1, '2':2}) #changing the 3+ dependants to 3\n",
        "dftest['Education'] = dftest['Education'].map({'Not Graduate':0, 'Graduate':1})\n",
        "dftest['Self_Employed'] = dftest['Self_Employed'].map({'No':0, 'Yes':1})\n",
        "dftest['Property_Area'] = dftest['Property_Area'].map({'Rural':0, 'Semiurban':1,'Urban':2})\n",
        "dftest['Total_Income'] = dftest['ApplicantIncome'] + dftest['CoapplicantIncome']"
      ],
      "metadata": {
        "id": "E567JZA0YxfK"
      },
      "execution_count": 27,
      "outputs": []
    },
    {
      "cell_type": "code",
      "source": [
        "dftest = dftest.drop(['ApplicantIncome'], axis=1)\n",
        "dftest = dftest.drop(['CoapplicantIncome'], axis=1)"
      ],
      "metadata": {
        "id": "0sF3lmBmZtE3"
      },
      "execution_count": 28,
      "outputs": []
    },
    {
      "cell_type": "code",
      "source": [
        "#Feature selection, Train with 6 best features\n",
        "test_dataset = dftest.drop(columns=['Gender','Self_Employed','LoanAmount','Loan_Amount_Term'], axis=1) \n",
        "test_dataset.head()"
      ],
      "metadata": {
        "colab": {
          "base_uri": "https://localhost:8080/",
          "height": 206
        },
        "id": "0i8elwWPa2xz",
        "outputId": "95b4a841-b656-4844-9fd6-fa3e5bf243f6"
      },
      "execution_count": 29,
      "outputs": [
        {
          "output_type": "execute_result",
          "data": {
            "text/plain": [
              "   Married  Dependents  Education  Credit_History  Property_Area  Total_Income\n",
              "0        1           0          1             1.0              2          5720\n",
              "1        1           1          1             1.0              2          4576\n",
              "2        1           2          1             1.0              2          6800\n",
              "4        0           0          0             1.0              2          3276\n",
              "5        1           0          0             1.0              2          5587"
            ],
            "text/html": [
              "\n",
              "  <div id=\"df-47aa190a-ca2e-4a5e-8d2a-63fdc9f06daa\">\n",
              "    <div class=\"colab-df-container\">\n",
              "      <div>\n",
              "<style scoped>\n",
              "    .dataframe tbody tr th:only-of-type {\n",
              "        vertical-align: middle;\n",
              "    }\n",
              "\n",
              "    .dataframe tbody tr th {\n",
              "        vertical-align: top;\n",
              "    }\n",
              "\n",
              "    .dataframe thead th {\n",
              "        text-align: right;\n",
              "    }\n",
              "</style>\n",
              "<table border=\"1\" class=\"dataframe\">\n",
              "  <thead>\n",
              "    <tr style=\"text-align: right;\">\n",
              "      <th></th>\n",
              "      <th>Married</th>\n",
              "      <th>Dependents</th>\n",
              "      <th>Education</th>\n",
              "      <th>Credit_History</th>\n",
              "      <th>Property_Area</th>\n",
              "      <th>Total_Income</th>\n",
              "    </tr>\n",
              "  </thead>\n",
              "  <tbody>\n",
              "    <tr>\n",
              "      <th>0</th>\n",
              "      <td>1</td>\n",
              "      <td>0</td>\n",
              "      <td>1</td>\n",
              "      <td>1.0</td>\n",
              "      <td>2</td>\n",
              "      <td>5720</td>\n",
              "    </tr>\n",
              "    <tr>\n",
              "      <th>1</th>\n",
              "      <td>1</td>\n",
              "      <td>1</td>\n",
              "      <td>1</td>\n",
              "      <td>1.0</td>\n",
              "      <td>2</td>\n",
              "      <td>4576</td>\n",
              "    </tr>\n",
              "    <tr>\n",
              "      <th>2</th>\n",
              "      <td>1</td>\n",
              "      <td>2</td>\n",
              "      <td>1</td>\n",
              "      <td>1.0</td>\n",
              "      <td>2</td>\n",
              "      <td>6800</td>\n",
              "    </tr>\n",
              "    <tr>\n",
              "      <th>4</th>\n",
              "      <td>0</td>\n",
              "      <td>0</td>\n",
              "      <td>0</td>\n",
              "      <td>1.0</td>\n",
              "      <td>2</td>\n",
              "      <td>3276</td>\n",
              "    </tr>\n",
              "    <tr>\n",
              "      <th>5</th>\n",
              "      <td>1</td>\n",
              "      <td>0</td>\n",
              "      <td>0</td>\n",
              "      <td>1.0</td>\n",
              "      <td>2</td>\n",
              "      <td>5587</td>\n",
              "    </tr>\n",
              "  </tbody>\n",
              "</table>\n",
              "</div>\n",
              "      <button class=\"colab-df-convert\" onclick=\"convertToInteractive('df-47aa190a-ca2e-4a5e-8d2a-63fdc9f06daa')\"\n",
              "              title=\"Convert this dataframe to an interactive table.\"\n",
              "              style=\"display:none;\">\n",
              "        \n",
              "  <svg xmlns=\"http://www.w3.org/2000/svg\" height=\"24px\"viewBox=\"0 0 24 24\"\n",
              "       width=\"24px\">\n",
              "    <path d=\"M0 0h24v24H0V0z\" fill=\"none\"/>\n",
              "    <path d=\"M18.56 5.44l.94 2.06.94-2.06 2.06-.94-2.06-.94-.94-2.06-.94 2.06-2.06.94zm-11 1L8.5 8.5l.94-2.06 2.06-.94-2.06-.94L8.5 2.5l-.94 2.06-2.06.94zm10 10l.94 2.06.94-2.06 2.06-.94-2.06-.94-.94-2.06-.94 2.06-2.06.94z\"/><path d=\"M17.41 7.96l-1.37-1.37c-.4-.4-.92-.59-1.43-.59-.52 0-1.04.2-1.43.59L10.3 9.45l-7.72 7.72c-.78.78-.78 2.05 0 2.83L4 21.41c.39.39.9.59 1.41.59.51 0 1.02-.2 1.41-.59l7.78-7.78 2.81-2.81c.8-.78.8-2.07 0-2.86zM5.41 20L4 18.59l7.72-7.72 1.47 1.35L5.41 20z\"/>\n",
              "  </svg>\n",
              "      </button>\n",
              "      \n",
              "  <style>\n",
              "    .colab-df-container {\n",
              "      display:flex;\n",
              "      flex-wrap:wrap;\n",
              "      gap: 12px;\n",
              "    }\n",
              "\n",
              "    .colab-df-convert {\n",
              "      background-color: #E8F0FE;\n",
              "      border: none;\n",
              "      border-radius: 50%;\n",
              "      cursor: pointer;\n",
              "      display: none;\n",
              "      fill: #1967D2;\n",
              "      height: 32px;\n",
              "      padding: 0 0 0 0;\n",
              "      width: 32px;\n",
              "    }\n",
              "\n",
              "    .colab-df-convert:hover {\n",
              "      background-color: #E2EBFA;\n",
              "      box-shadow: 0px 1px 2px rgba(60, 64, 67, 0.3), 0px 1px 3px 1px rgba(60, 64, 67, 0.15);\n",
              "      fill: #174EA6;\n",
              "    }\n",
              "\n",
              "    [theme=dark] .colab-df-convert {\n",
              "      background-color: #3B4455;\n",
              "      fill: #D2E3FC;\n",
              "    }\n",
              "\n",
              "    [theme=dark] .colab-df-convert:hover {\n",
              "      background-color: #434B5C;\n",
              "      box-shadow: 0px 1px 3px 1px rgba(0, 0, 0, 0.15);\n",
              "      filter: drop-shadow(0px 1px 2px rgba(0, 0, 0, 0.3));\n",
              "      fill: #FFFFFF;\n",
              "    }\n",
              "  </style>\n",
              "\n",
              "      <script>\n",
              "        const buttonEl =\n",
              "          document.querySelector('#df-47aa190a-ca2e-4a5e-8d2a-63fdc9f06daa button.colab-df-convert');\n",
              "        buttonEl.style.display =\n",
              "          google.colab.kernel.accessAllowed ? 'block' : 'none';\n",
              "\n",
              "        async function convertToInteractive(key) {\n",
              "          const element = document.querySelector('#df-47aa190a-ca2e-4a5e-8d2a-63fdc9f06daa');\n",
              "          const dataTable =\n",
              "            await google.colab.kernel.invokeFunction('convertToInteractive',\n",
              "                                                     [key], {});\n",
              "          if (!dataTable) return;\n",
              "\n",
              "          const docLinkHtml = 'Like what you see? Visit the ' +\n",
              "            '<a target=\"_blank\" href=https://colab.research.google.com/notebooks/data_table.ipynb>data table notebook</a>'\n",
              "            + ' to learn more about interactive tables.';\n",
              "          element.innerHTML = '';\n",
              "          dataTable['output_type'] = 'display_data';\n",
              "          await google.colab.output.renderOutput(dataTable, element);\n",
              "          const docLink = document.createElement('div');\n",
              "          docLink.innerHTML = docLinkHtml;\n",
              "          element.appendChild(docLink);\n",
              "        }\n",
              "      </script>\n",
              "    </div>\n",
              "  </div>\n",
              "  "
            ]
          },
          "metadata": {},
          "execution_count": 29
        }
      ]
    },
    {
      "cell_type": "code",
      "source": [
        "test_dataset.shape\n",
        "X_test_dataset_scaled = scaler.fit_transform(test_dataset)"
      ],
      "metadata": {
        "id": "RazzbCpbihy9"
      },
      "execution_count": 30,
      "outputs": []
    },
    {
      "cell_type": "code",
      "source": [
        "#Yes: 1, No: 0\n",
        "final = model3.predict(X_test_dataset_scaled)\n",
        "print(final)"
      ],
      "metadata": {
        "colab": {
          "base_uri": "https://localhost:8080/"
        },
        "id": "ykaonc2RbaTm",
        "outputId": "010674b0-6d20-4316-b0ed-064fc023ee81"
      },
      "execution_count": 68,
      "outputs": [
        {
          "output_type": "stream",
          "name": "stdout",
          "text": [
            "[1 1 1 1 1 1 0 1 1 1 1 1 1 1 1 1 1 1 1 0 1 1 1 1 1 1 1 0 1 1 1 1 1 1 1 1 1\n",
            " 1 1 1 1 1 0 1 1 0 1 1 1 1 0 1 1 0 0 1 0 1 1 1 1 1 1 1 0 1 0 1 0 1 1 1 1 1\n",
            " 1 1 0 1 1 1 1 1 1 1 1 1 1 1 1 1 1 1 1 0 0 1 1 1 0 0 1 0 1 1 1 1 1 1 1 1 1\n",
            " 1 0 1 1 1 1 0 1 1 1 1 1 0 1 1 1 1 1 1 1 1 1 0 0 1 1 1 1 1 0 0 1 1 1 1 1 1\n",
            " 1 1 1 1 1 0 1 1 0 1 0 1 1 1 1 1 1 1 1 1 1 0 1 1 1 1 1 1 1 1 1 1 0 1 1 1 1\n",
            " 0 1 1 1 1 0 0 1 1 1 1 0 1 1 1 1 1 0 1 1 1 1 1 1 1 1 1 1 0 1 0 1 1 1 1 0 0\n",
            " 1 1 1 1 1 1 1 1 1 1 0 1 1 1 1 1 1 1 1 1 1 0 1 1 1 1 0 1 1 1 1 1 0 1 1 1 1\n",
            " 1 1 1 1 1 1 0 1 1 1 1 1 1 0 1 1 1 1 1 1 0 1 1 1 1 1 1 1 1 1]\n"
          ]
        }
      ]
    },
    {
      "cell_type": "code",
      "source": [
        "#Concatenate our test dataset and predition and export to a csv file.\n",
        "result = pd.DataFrame(final, columns=['Loan_Status'])\n",
        "concate_dataset = pd.concat([dftorigin, result], axis=1, join=\"inner\")\n",
        "concate_dataset.to_csv('result.csv', index=False, line_terminator='\\n')\n"
      ],
      "metadata": {
        "id": "NpadJG5vOC4w"
      },
      "execution_count": 69,
      "outputs": []
    },
    {
      "cell_type": "code",
      "source": [
        "result_set = pd.read_csv('result.csv')\n",
        "result_set.head(10)"
      ],
      "metadata": {
        "colab": {
          "base_uri": "https://localhost:8080/",
          "height": 363
        },
        "id": "u8iwGk-Cx6SN",
        "outputId": "b2f36a15-fb91-4c80-b991-76dc045ba3f4"
      },
      "execution_count": 70,
      "outputs": [
        {
          "output_type": "execute_result",
          "data": {
            "text/plain": [
              "    Loan_ID  Gender Married Dependents     Education Self_Employed  \\\n",
              "0  LP001015    Male     Yes          0      Graduate            No   \n",
              "1  LP001022    Male     Yes          1      Graduate            No   \n",
              "2  LP001031    Male     Yes          2      Graduate            No   \n",
              "3  LP001051    Male      No          0  Not Graduate            No   \n",
              "4  LP001054    Male     Yes          0  Not Graduate           Yes   \n",
              "5  LP001055  Female      No          1  Not Graduate            No   \n",
              "6  LP001056    Male     Yes          2  Not Graduate            No   \n",
              "7  LP001067    Male      No          0  Not Graduate            No   \n",
              "8  LP001078    Male      No          0  Not Graduate            No   \n",
              "9  LP001096  Female      No          0      Graduate            No   \n",
              "\n",
              "   ApplicantIncome  CoapplicantIncome  LoanAmount  Loan_Amount_Term  \\\n",
              "0             5720                  0       110.0             360.0   \n",
              "1             3076               1500       126.0             360.0   \n",
              "2             5000               1800       208.0             360.0   \n",
              "3             3276                  0        78.0             360.0   \n",
              "4             2165               3422       152.0             360.0   \n",
              "5             2226                  0        59.0             360.0   \n",
              "6             3881                  0       147.0             360.0   \n",
              "7             2400               2400       123.0             360.0   \n",
              "8             3091                  0        90.0             360.0   \n",
              "9             4666                  0       124.0             360.0   \n",
              "\n",
              "   Credit_History Property_Area  Loan_Status  \n",
              "0             1.0         Urban            1  \n",
              "1             1.0         Urban            1  \n",
              "2             1.0         Urban            1  \n",
              "3             1.0         Urban            1  \n",
              "4             1.0         Urban            1  \n",
              "5             1.0     Semiurban            0  \n",
              "6             0.0         Rural            1  \n",
              "7             1.0     Semiurban            1  \n",
              "8             1.0         Urban            1  \n",
              "9             1.0     Semiurban            1  "
            ],
            "text/html": [
              "\n",
              "  <div id=\"df-faede920-7595-445d-a918-617e0bb9f8b9\">\n",
              "    <div class=\"colab-df-container\">\n",
              "      <div>\n",
              "<style scoped>\n",
              "    .dataframe tbody tr th:only-of-type {\n",
              "        vertical-align: middle;\n",
              "    }\n",
              "\n",
              "    .dataframe tbody tr th {\n",
              "        vertical-align: top;\n",
              "    }\n",
              "\n",
              "    .dataframe thead th {\n",
              "        text-align: right;\n",
              "    }\n",
              "</style>\n",
              "<table border=\"1\" class=\"dataframe\">\n",
              "  <thead>\n",
              "    <tr style=\"text-align: right;\">\n",
              "      <th></th>\n",
              "      <th>Loan_ID</th>\n",
              "      <th>Gender</th>\n",
              "      <th>Married</th>\n",
              "      <th>Dependents</th>\n",
              "      <th>Education</th>\n",
              "      <th>Self_Employed</th>\n",
              "      <th>ApplicantIncome</th>\n",
              "      <th>CoapplicantIncome</th>\n",
              "      <th>LoanAmount</th>\n",
              "      <th>Loan_Amount_Term</th>\n",
              "      <th>Credit_History</th>\n",
              "      <th>Property_Area</th>\n",
              "      <th>Loan_Status</th>\n",
              "    </tr>\n",
              "  </thead>\n",
              "  <tbody>\n",
              "    <tr>\n",
              "      <th>0</th>\n",
              "      <td>LP001015</td>\n",
              "      <td>Male</td>\n",
              "      <td>Yes</td>\n",
              "      <td>0</td>\n",
              "      <td>Graduate</td>\n",
              "      <td>No</td>\n",
              "      <td>5720</td>\n",
              "      <td>0</td>\n",
              "      <td>110.0</td>\n",
              "      <td>360.0</td>\n",
              "      <td>1.0</td>\n",
              "      <td>Urban</td>\n",
              "      <td>1</td>\n",
              "    </tr>\n",
              "    <tr>\n",
              "      <th>1</th>\n",
              "      <td>LP001022</td>\n",
              "      <td>Male</td>\n",
              "      <td>Yes</td>\n",
              "      <td>1</td>\n",
              "      <td>Graduate</td>\n",
              "      <td>No</td>\n",
              "      <td>3076</td>\n",
              "      <td>1500</td>\n",
              "      <td>126.0</td>\n",
              "      <td>360.0</td>\n",
              "      <td>1.0</td>\n",
              "      <td>Urban</td>\n",
              "      <td>1</td>\n",
              "    </tr>\n",
              "    <tr>\n",
              "      <th>2</th>\n",
              "      <td>LP001031</td>\n",
              "      <td>Male</td>\n",
              "      <td>Yes</td>\n",
              "      <td>2</td>\n",
              "      <td>Graduate</td>\n",
              "      <td>No</td>\n",
              "      <td>5000</td>\n",
              "      <td>1800</td>\n",
              "      <td>208.0</td>\n",
              "      <td>360.0</td>\n",
              "      <td>1.0</td>\n",
              "      <td>Urban</td>\n",
              "      <td>1</td>\n",
              "    </tr>\n",
              "    <tr>\n",
              "      <th>3</th>\n",
              "      <td>LP001051</td>\n",
              "      <td>Male</td>\n",
              "      <td>No</td>\n",
              "      <td>0</td>\n",
              "      <td>Not Graduate</td>\n",
              "      <td>No</td>\n",
              "      <td>3276</td>\n",
              "      <td>0</td>\n",
              "      <td>78.0</td>\n",
              "      <td>360.0</td>\n",
              "      <td>1.0</td>\n",
              "      <td>Urban</td>\n",
              "      <td>1</td>\n",
              "    </tr>\n",
              "    <tr>\n",
              "      <th>4</th>\n",
              "      <td>LP001054</td>\n",
              "      <td>Male</td>\n",
              "      <td>Yes</td>\n",
              "      <td>0</td>\n",
              "      <td>Not Graduate</td>\n",
              "      <td>Yes</td>\n",
              "      <td>2165</td>\n",
              "      <td>3422</td>\n",
              "      <td>152.0</td>\n",
              "      <td>360.0</td>\n",
              "      <td>1.0</td>\n",
              "      <td>Urban</td>\n",
              "      <td>1</td>\n",
              "    </tr>\n",
              "    <tr>\n",
              "      <th>5</th>\n",
              "      <td>LP001055</td>\n",
              "      <td>Female</td>\n",
              "      <td>No</td>\n",
              "      <td>1</td>\n",
              "      <td>Not Graduate</td>\n",
              "      <td>No</td>\n",
              "      <td>2226</td>\n",
              "      <td>0</td>\n",
              "      <td>59.0</td>\n",
              "      <td>360.0</td>\n",
              "      <td>1.0</td>\n",
              "      <td>Semiurban</td>\n",
              "      <td>0</td>\n",
              "    </tr>\n",
              "    <tr>\n",
              "      <th>6</th>\n",
              "      <td>LP001056</td>\n",
              "      <td>Male</td>\n",
              "      <td>Yes</td>\n",
              "      <td>2</td>\n",
              "      <td>Not Graduate</td>\n",
              "      <td>No</td>\n",
              "      <td>3881</td>\n",
              "      <td>0</td>\n",
              "      <td>147.0</td>\n",
              "      <td>360.0</td>\n",
              "      <td>0.0</td>\n",
              "      <td>Rural</td>\n",
              "      <td>1</td>\n",
              "    </tr>\n",
              "    <tr>\n",
              "      <th>7</th>\n",
              "      <td>LP001067</td>\n",
              "      <td>Male</td>\n",
              "      <td>No</td>\n",
              "      <td>0</td>\n",
              "      <td>Not Graduate</td>\n",
              "      <td>No</td>\n",
              "      <td>2400</td>\n",
              "      <td>2400</td>\n",
              "      <td>123.0</td>\n",
              "      <td>360.0</td>\n",
              "      <td>1.0</td>\n",
              "      <td>Semiurban</td>\n",
              "      <td>1</td>\n",
              "    </tr>\n",
              "    <tr>\n",
              "      <th>8</th>\n",
              "      <td>LP001078</td>\n",
              "      <td>Male</td>\n",
              "      <td>No</td>\n",
              "      <td>0</td>\n",
              "      <td>Not Graduate</td>\n",
              "      <td>No</td>\n",
              "      <td>3091</td>\n",
              "      <td>0</td>\n",
              "      <td>90.0</td>\n",
              "      <td>360.0</td>\n",
              "      <td>1.0</td>\n",
              "      <td>Urban</td>\n",
              "      <td>1</td>\n",
              "    </tr>\n",
              "    <tr>\n",
              "      <th>9</th>\n",
              "      <td>LP001096</td>\n",
              "      <td>Female</td>\n",
              "      <td>No</td>\n",
              "      <td>0</td>\n",
              "      <td>Graduate</td>\n",
              "      <td>No</td>\n",
              "      <td>4666</td>\n",
              "      <td>0</td>\n",
              "      <td>124.0</td>\n",
              "      <td>360.0</td>\n",
              "      <td>1.0</td>\n",
              "      <td>Semiurban</td>\n",
              "      <td>1</td>\n",
              "    </tr>\n",
              "  </tbody>\n",
              "</table>\n",
              "</div>\n",
              "      <button class=\"colab-df-convert\" onclick=\"convertToInteractive('df-faede920-7595-445d-a918-617e0bb9f8b9')\"\n",
              "              title=\"Convert this dataframe to an interactive table.\"\n",
              "              style=\"display:none;\">\n",
              "        \n",
              "  <svg xmlns=\"http://www.w3.org/2000/svg\" height=\"24px\"viewBox=\"0 0 24 24\"\n",
              "       width=\"24px\">\n",
              "    <path d=\"M0 0h24v24H0V0z\" fill=\"none\"/>\n",
              "    <path d=\"M18.56 5.44l.94 2.06.94-2.06 2.06-.94-2.06-.94-.94-2.06-.94 2.06-2.06.94zm-11 1L8.5 8.5l.94-2.06 2.06-.94-2.06-.94L8.5 2.5l-.94 2.06-2.06.94zm10 10l.94 2.06.94-2.06 2.06-.94-2.06-.94-.94-2.06-.94 2.06-2.06.94z\"/><path d=\"M17.41 7.96l-1.37-1.37c-.4-.4-.92-.59-1.43-.59-.52 0-1.04.2-1.43.59L10.3 9.45l-7.72 7.72c-.78.78-.78 2.05 0 2.83L4 21.41c.39.39.9.59 1.41.59.51 0 1.02-.2 1.41-.59l7.78-7.78 2.81-2.81c.8-.78.8-2.07 0-2.86zM5.41 20L4 18.59l7.72-7.72 1.47 1.35L5.41 20z\"/>\n",
              "  </svg>\n",
              "      </button>\n",
              "      \n",
              "  <style>\n",
              "    .colab-df-container {\n",
              "      display:flex;\n",
              "      flex-wrap:wrap;\n",
              "      gap: 12px;\n",
              "    }\n",
              "\n",
              "    .colab-df-convert {\n",
              "      background-color: #E8F0FE;\n",
              "      border: none;\n",
              "      border-radius: 50%;\n",
              "      cursor: pointer;\n",
              "      display: none;\n",
              "      fill: #1967D2;\n",
              "      height: 32px;\n",
              "      padding: 0 0 0 0;\n",
              "      width: 32px;\n",
              "    }\n",
              "\n",
              "    .colab-df-convert:hover {\n",
              "      background-color: #E2EBFA;\n",
              "      box-shadow: 0px 1px 2px rgba(60, 64, 67, 0.3), 0px 1px 3px 1px rgba(60, 64, 67, 0.15);\n",
              "      fill: #174EA6;\n",
              "    }\n",
              "\n",
              "    [theme=dark] .colab-df-convert {\n",
              "      background-color: #3B4455;\n",
              "      fill: #D2E3FC;\n",
              "    }\n",
              "\n",
              "    [theme=dark] .colab-df-convert:hover {\n",
              "      background-color: #434B5C;\n",
              "      box-shadow: 0px 1px 3px 1px rgba(0, 0, 0, 0.15);\n",
              "      filter: drop-shadow(0px 1px 2px rgba(0, 0, 0, 0.3));\n",
              "      fill: #FFFFFF;\n",
              "    }\n",
              "  </style>\n",
              "\n",
              "      <script>\n",
              "        const buttonEl =\n",
              "          document.querySelector('#df-faede920-7595-445d-a918-617e0bb9f8b9 button.colab-df-convert');\n",
              "        buttonEl.style.display =\n",
              "          google.colab.kernel.accessAllowed ? 'block' : 'none';\n",
              "\n",
              "        async function convertToInteractive(key) {\n",
              "          const element = document.querySelector('#df-faede920-7595-445d-a918-617e0bb9f8b9');\n",
              "          const dataTable =\n",
              "            await google.colab.kernel.invokeFunction('convertToInteractive',\n",
              "                                                     [key], {});\n",
              "          if (!dataTable) return;\n",
              "\n",
              "          const docLinkHtml = 'Like what you see? Visit the ' +\n",
              "            '<a target=\"_blank\" href=https://colab.research.google.com/notebooks/data_table.ipynb>data table notebook</a>'\n",
              "            + ' to learn more about interactive tables.';\n",
              "          element.innerHTML = '';\n",
              "          dataTable['output_type'] = 'display_data';\n",
              "          await google.colab.output.renderOutput(dataTable, element);\n",
              "          const docLink = document.createElement('div');\n",
              "          docLink.innerHTML = docLinkHtml;\n",
              "          element.appendChild(docLink);\n",
              "        }\n",
              "      </script>\n",
              "    </div>\n",
              "  </div>\n",
              "  "
            ]
          },
          "metadata": {},
          "execution_count": 70
        }
      ]
    },
    {
      "cell_type": "markdown",
      "source": [
        "# Histogram of some of features\n"
      ],
      "metadata": {
        "id": "kSN-mT8O9a0A"
      }
    },
    {
      "cell_type": "code",
      "source": [
        "sns.countplot(df['Gender'],hue=df['Loan_Status'])\n",
        "print(pd.crosstab(df['Gender'],df['Loan_Status']))"
      ],
      "metadata": {
        "colab": {
          "base_uri": "https://localhost:8080/",
          "height": 348
        },
        "id": "mntdtVuOCbZp",
        "outputId": "d4e4c873-9eb8-46a8-d4aa-0b523c9f73e1"
      },
      "execution_count": 35,
      "outputs": [
        {
          "output_type": "stream",
          "name": "stdout",
          "text": [
            "Loan_Status    0    1\n",
            "Gender               \n",
            "0            116  278\n",
            "1             32   54\n"
          ]
        },
        {
          "output_type": "display_data",
          "data": {
            "text/plain": [
              "<Figure size 432x288 with 1 Axes>"
            ],
            "image/png": "[encoded data removed]"
          },
          "metadata": {
            "needs_background": "light"
          }
        }
      ]
    },
    {
      "cell_type": "code",
      "source": [
        "#Histogram part\n",
        "#Education vs. loan status\n",
        "sns.countplot(df['Education'],hue=df['Loan_Status'])\n",
        "print(pd.crosstab(df['Education'],df['Loan_Status']))"
      ],
      "metadata": {
        "colab": {
          "base_uri": "https://localhost:8080/",
          "height": 403
        },
        "id": "F6MYLcuLgO5l",
        "outputId": "a099e7b6-e544-4bd6-d7d3-5cffc25da9a5"
      },
      "execution_count": null,
      "outputs": [
        {
          "output_type": "stream",
          "name": "stdout",
          "text": [
            "Loan_Status     N    Y\n",
            "Education             \n",
            "Graduate      112  271\n",
            "Not Graduate   36   61\n"
          ]
        },
        {
          "output_type": "stream",
          "name": "stderr",
          "text": [
            "/usr/local/lib/python3.7/dist-packages/seaborn/_decorators.py:43: FutureWarning: Pass the following variable as a keyword arg: x. From version 0.12, the only valid positional argument will be `data`, and passing other arguments without an explicit keyword will result in an error or misinterpretation.\n",
            "  FutureWarning\n"
          ]
        },
        {
          "output_type": "display_data",
          "data": {
            "text/plain": [
              "<Figure size 432x288 with 1 Axes>"
            ],
            "image/png": "[encoded data removed]"
          },
          "metadata": {
            "needs_background": "light"
          }
        }
      ]
    },
    {
      "cell_type": "code",
      "source": [
        "#Credit history vs loan status\n",
        "sns.countplot(df['Credit_History'],hue=df['Loan_Status'])\n",
        "print(pd.crosstab(df['Credit_History'],df['Loan_Status']))"
      ],
      "metadata": {
        "colab": {
          "base_uri": "https://localhost:8080/",
          "height": 404
        },
        "id": "1pdzXHdUievl",
        "outputId": "a36e82b8-ee3f-43ab-8c98-c0cc2f61b540"
      },
      "execution_count": null,
      "outputs": [
        {
          "output_type": "stream",
          "name": "stderr",
          "text": [
            "/usr/local/lib/python3.7/dist-packages/seaborn/_decorators.py:43: FutureWarning: Pass the following variable as a keyword arg: x. From version 0.12, the only valid positional argument will be `data`, and passing other arguments without an explicit keyword will result in an error or misinterpretation.\n",
            "  FutureWarning\n"
          ]
        },
        {
          "output_type": "stream",
          "name": "stdout",
          "text": [
            "Loan_Status      N    Y\n",
            "Credit_History         \n",
            "0.0             63    7\n",
            "1.0             85  325\n"
          ]
        },
        {
          "output_type": "display_data",
          "data": {
            "text/plain": [
              "<Figure size 432x288 with 1 Axes>"
            ],
            "image/png": "[encoded data removed]"
          },
          "metadata": {
            "needs_background": "light"
          }
        }
      ]
    },
    {
      "cell_type": "code",
      "source": [
        "#Married vs loan status\n",
        "sns.countplot(df['Married'],hue=df['Loan_Status'])\n",
        "print(pd.crosstab(df['Married'],df['Loan_Status']))"
      ],
      "metadata": {
        "colab": {
          "base_uri": "https://localhost:8080/",
          "height": 403
        },
        "id": "Esetb2g8jpQD",
        "outputId": "f0fc0d4b-8814-4dec-e811-d5c34b6b0215"
      },
      "execution_count": null,
      "outputs": [
        {
          "output_type": "stream",
          "name": "stderr",
          "text": [
            "/usr/local/lib/python3.7/dist-packages/seaborn/_decorators.py:43: FutureWarning: Pass the following variable as a keyword arg: x. From version 0.12, the only valid positional argument will be `data`, and passing other arguments without an explicit keyword will result in an error or misinterpretation.\n",
            "  FutureWarning\n"
          ]
        },
        {
          "output_type": "stream",
          "name": "stdout",
          "text": [
            "Loan_Status   N    Y\n",
            "Married             \n",
            "No           64  105\n",
            "Yes          84  227\n"
          ]
        },
        {
          "output_type": "display_data",
          "data": {
            "text/plain": [
              "<Figure size 432x288 with 1 Axes>"
            ],
            "image/png": "[encoded data removed]"
          },
          "metadata": {
            "needs_background": "light"
          }
        }
      ]
    },
    {
      "cell_type": "code",
      "source": [
        "#Property Area vs loan status\n",
        "sns.countplot(df['Property_Area'],hue=df['Loan_Status'])\n",
        "print(pd.crosstab(df['Property_Area'],df['Loan_Status']))"
      ],
      "metadata": {
        "colab": {
          "base_uri": "https://localhost:8080/",
          "height": 422
        },
        "id": "AjIleg1Wj47i",
        "outputId": "855368d0-f253-425b-c4b1-6c9379a1ecaa"
      },
      "execution_count": null,
      "outputs": [
        {
          "output_type": "stream",
          "name": "stderr",
          "text": [
            "/usr/local/lib/python3.7/dist-packages/seaborn/_decorators.py:43: FutureWarning: Pass the following variable as a keyword arg: x. From version 0.12, the only valid positional argument will be `data`, and passing other arguments without an explicit keyword will result in an error or misinterpretation.\n",
            "  FutureWarning\n"
          ]
        },
        {
          "output_type": "stream",
          "name": "stdout",
          "text": [
            "Loan_Status     N    Y\n",
            "Property_Area         \n",
            "Rural          54   85\n",
            "Semiurban      42  149\n",
            "Urban          52   98\n"
          ]
        },
        {
          "output_type": "display_data",
          "data": {
            "text/plain": [
              "<Figure size 432x288 with 1 Axes>"
            ],
            "image/png": "[encoded data removed]"
          },
          "metadata": {
            "needs_background": "light"
          }
        }
      ]
    },
    {
      "cell_type": "code",
      "source": [
        "#Dependents vs loan status\n",
        "sns.countplot(df['Dependents'],hue=df['Loan_Status'])\n",
        "print(pd.crosstab(df['Dependents'],df['Loan_Status']))"
      ],
      "metadata": {
        "colab": {
          "base_uri": "https://localhost:8080/",
          "height": 438
        },
        "id": "vhpQcH3Ykk7Y",
        "outputId": "d4726040-884a-4745-dc6c-df8a99a48d66"
      },
      "execution_count": null,
      "outputs": [
        {
          "output_type": "stream",
          "name": "stdout",
          "text": [
            "Loan_Status   N    Y\n",
            "Dependents          \n",
            "0            87  187\n",
            "1            28   52\n",
            "2            20   65\n",
            "3+           13   28\n"
          ]
        },
        {
          "output_type": "stream",
          "name": "stderr",
          "text": [
            "/usr/local/lib/python3.7/dist-packages/seaborn/_decorators.py:43: FutureWarning: Pass the following variable as a keyword arg: x. From version 0.12, the only valid positional argument will be `data`, and passing other arguments without an explicit keyword will result in an error or misinterpretation.\n",
            "  FutureWarning\n"
          ]
        },
        {
          "output_type": "display_data",
          "data": {
            "text/plain": [
              "<Figure size 432x288 with 1 Axes>"
            ],
            "image/png": "[encoded data removed]"
          },
          "metadata": {
            "needs_background": "light"
          }
        }
      ]
    }
  ]
}