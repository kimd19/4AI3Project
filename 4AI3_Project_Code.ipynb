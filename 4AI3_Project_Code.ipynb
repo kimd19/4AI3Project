{
  "nbformat": 4,
  "nbformat_minor": 0,
  "metadata": {
    "colab": {
      "provenance": [],
      "collapsed_sections": [
        "kSN-mT8O9a0A"
      ]
    },
    "kernelspec": {
      "name": "python3",
      "display_name": "Python 3"
    },
    "language_info": {
      "name": "python"
    },
    "accelerator": "GPU",
    "gpuClass": "standard"
  },
  "cells": [
    {
      "cell_type": "markdown",
      "source": [
        "# Main Model - Regression\n"
      ],
      "metadata": {
        "id": "W2KbFF-ZfW6P"
      }
    },
    {
      "cell_type": "code",
      "execution_count": null,
      "metadata": {
        "id": "JoCgng-g7zet"
      },
      "outputs": [],
      "source": [
        "import pandas as pd\n",
        "import numpy as np\n",
        "import matplotlib.pyplot as plt\n",
        "#from sklearn import datasets\n",
        "from sklearn.preprocessing import StandardScaler\n",
        "from sklearn.model_selection import train_test_split\n",
        "from sklearn.linear_model import LogisticRegression\n",
        "from sklearn.linear_model import LinearRegression\n",
        "from sklearn.svm import SVC\n",
        "from sklearn.feature_selection import SelectKBest, f_regression\n",
        "import seaborn as sns\n"
      ]
    },
    {
      "cell_type": "code",
      "source": [
        "#test_dataset = pd.read_csv('test_Y3wMUE5_7gLdaTN.csv')\n",
        "df = pd.read_csv('train_u6lujuX_CVtuZ9i.csv')\n",
        "\n",
        "df.shape"
      ],
      "metadata": {
        "id": "apVopM4FAGZk",
        "colab": {
          "base_uri": "https://localhost:8080/"
        },
        "outputId": "547dd143-f812-4e7e-eae8-079ee6fc69e0"
      },
      "execution_count": null,
      "outputs": [
        {
          "output_type": "execute_result",
          "data": {
            "text/plain": [
              "(614, 13)"
            ]
          },
          "metadata": {},
          "execution_count": 2
        }
      ]
    },
    {
      "cell_type": "code",
      "source": [
        "#df.info"
      ],
      "metadata": {
        "id": "7yUelpTbEmfE"
      },
      "execution_count": null,
      "outputs": []
    },
    {
      "cell_type": "code",
      "source": [
        "#Dropping all of the NAN values\n",
        "df = df.dropna()\n"
      ],
      "metadata": {
        "id": "OagtXmiiHgwn"
      },
      "execution_count": null,
      "outputs": []
    },
    {
      "cell_type": "code",
      "source": [
        "df.isna().sum()\n"
      ],
      "metadata": {
        "colab": {
          "base_uri": "https://localhost:8080/"
        },
        "id": "im-qMhaFev9v",
        "outputId": "e2a7df1e-f778-4cf5-ee3f-0de6aae541d3"
      },
      "execution_count": null,
      "outputs": [
        {
          "output_type": "execute_result",
          "data": {
            "text/plain": [
              "Loan_ID              0\n",
              "Gender               0\n",
              "Married              0\n",
              "Dependents           0\n",
              "Education            0\n",
              "Self_Employed        0\n",
              "ApplicantIncome      0\n",
              "CoapplicantIncome    0\n",
              "LoanAmount           0\n",
              "Loan_Amount_Term     0\n",
              "Credit_History       0\n",
              "Property_Area        0\n",
              "Loan_Status          0\n",
              "dtype: int64"
            ]
          },
          "metadata": {},
          "execution_count": 4
        }
      ]
    },
    {
      "cell_type": "code",
      "source": [
        "df = df.drop(['Loan_ID'], axis=1)\n"
      ],
      "metadata": {
        "id": "ufJ6ooeCEyJW"
      },
      "execution_count": null,
      "outputs": []
    },
    {
      "cell_type": "code",
      "source": [
        "sns.countplot(df['Gender'],hue=df['Loan_Status'])\n",
        "print(pd.crosstab(df['Gender'],df['Loan_Status']))"
      ],
      "metadata": {
        "colab": {
          "base_uri": "https://localhost:8080/",
          "height": 403
        },
        "id": "mntdtVuOCbZp",
        "outputId": "7ba15028-e768-47e7-9241-a2013382a48a"
      },
      "execution_count": null,
      "outputs": [
        {
          "output_type": "stream",
          "name": "stdout",
          "text": [
            "Loan_Status    N    Y\n",
            "Gender               \n",
            "Female        32   54\n",
            "Male         116  278\n"
          ]
        },
        {
          "output_type": "stream",
          "name": "stderr",
          "text": [
            "/usr/local/lib/python3.8/dist-packages/seaborn/_decorators.py:36: FutureWarning: Pass the following variable as a keyword arg: x. From version 0.12, the only valid positional argument will be `data`, and passing other arguments without an explicit keyword will result in an error or misinterpretation.\n",
            "  warnings.warn(\n"
          ]
        },
        {
          "output_type": "display_data",
          "data": {
            "text/plain": [
              "<Figure size 432x288 with 1 Axes>"
            ],
            "image/png": "[encoded data removed]"
          },
          "metadata": {
            "needs_background": "light"
          }
        }
      ]
    },
    {
      "cell_type": "code",
      "source": [
        "df['Gender'] = df['Gender'].map({'Male':0, 'Female':1})\n",
        "df['Married'] = df['Married'].map({'No':0, 'Yes':1})\n",
        "df['Dependents'] = df['Dependents'].map({'3+':3, '0':0, '1':1, '2':2}) #changing the 3+ dependants to 3\n",
        "df['Education'] = df['Education'].map({'Not Graduate':0, 'Graduate':1})\n",
        "df['Self_Employed'] = df['Self_Employed'].map({'No':0, 'Yes':1})\n",
        "df['Property_Area'] = df['Property_Area'].map({'Rural':0, 'Semiurban':1,'Urban':2})\n",
        "df['Loan_Status'] = df['Loan_Status'].map({'N':0, 'Y':1})\n",
        "df['Total_Income'] = df['ApplicantIncome'] + df['CoapplicantIncome']\n",
        "\n",
        "df.head()"
      ],
      "metadata": {
        "colab": {
          "base_uri": "https://localhost:8080/",
          "height": 270
        },
        "id": "CDzVx3BaEiN7",
        "outputId": "55dba88a-e2ce-42a3-a54a-47f0555f2231"
      },
      "execution_count": null,
      "outputs": [
        {
          "output_type": "execute_result",
          "data": {
            "text/plain": [
              "   Gender  Married  Dependents  Education  Self_Employed  ApplicantIncome  \\\n",
              "1       0        1           1          1              0             4583   \n",
              "2       0        1           0          1              1             3000   \n",
              "3       0        1           0          0              0             2583   \n",
              "4       0        0           0          1              0             6000   \n",
              "5       0        1           2          1              1             5417   \n",
              "\n",
              "   CoapplicantIncome  LoanAmount  Loan_Amount_Term  Credit_History  \\\n",
              "1             1508.0       128.0             360.0             1.0   \n",
              "2                0.0        66.0             360.0             1.0   \n",
              "3             2358.0       120.0             360.0             1.0   \n",
              "4                0.0       141.0             360.0             1.0   \n",
              "5             4196.0       267.0             360.0             1.0   \n",
              "\n",
              "   Property_Area  Loan_Status  Total_Income  \n",
              "1              0            0        6091.0  \n",
              "2              2            1        3000.0  \n",
              "3              2            1        4941.0  \n",
              "4              2            1        6000.0  \n",
              "5              2            1        9613.0  "
            ],
            "text/html": [
              "\n",
              "  <div id=\"df-776d55ca-860d-4c26-b08c-cd0473fcf5ad\">\n",
              "    <div class=\"colab-df-container\">\n",
              "      <div>\n",
              "<style scoped>\n",
              "    .dataframe tbody tr th:only-of-type {\n",
              "        vertical-align: middle;\n",
              "    }\n",
              "\n",
              "    .dataframe tbody tr th {\n",
              "        vertical-align: top;\n",
              "    }\n",
              "\n",
              "    .dataframe thead th {\n",
              "        text-align: right;\n",
              "    }\n",
              "</style>\n",
              "<table border=\"1\" class=\"dataframe\">\n",
              "  <thead>\n",
              "    <tr style=\"text-align: right;\">\n",
              "      <th></th>\n",
              "      <th>Gender</th>\n",
              "      <th>Married</th>\n",
              "      <th>Dependents</th>\n",
              "      <th>Education</th>\n",
              "      <th>Self_Employed</th>\n",
              "      <th>ApplicantIncome</th>\n",
              "      <th>CoapplicantIncome</th>\n",
              "      <th>LoanAmount</th>\n",
              "      <th>Loan_Amount_Term</th>\n",
              "      <th>Credit_History</th>\n",
              "      <th>Property_Area</th>\n",
              "      <th>Loan_Status</th>\n",
              "      <th>Total_Income</th>\n",
              "    </tr>\n",
              "  </thead>\n",
              "  <tbody>\n",
              "    <tr>\n",
              "      <th>1</th>\n",
              "      <td>0</td>\n",
              "      <td>1</td>\n",
              "      <td>1</td>\n",
              "      <td>1</td>\n",
              "      <td>0</td>\n",
              "      <td>4583</td>\n",
              "      <td>1508.0</td>\n",
              "      <td>128.0</td>\n",
              "      <td>360.0</td>\n",
              "      <td>1.0</td>\n",
              "      <td>0</td>\n",
              "      <td>0</td>\n",
              "      <td>6091.0</td>\n",
              "    </tr>\n",
              "    <tr>\n",
              "      <th>2</th>\n",
              "      <td>0</td>\n",
              "      <td>1</td>\n",
              "      <td>0</td>\n",
              "      <td>1</td>\n",
              "      <td>1</td>\n",
              "      <td>3000</td>\n",
              "      <td>0.0</td>\n",
              "      <td>66.0</td>\n",
              "      <td>360.0</td>\n",
              "      <td>1.0</td>\n",
              "      <td>2</td>\n",
              "      <td>1</td>\n",
              "      <td>3000.0</td>\n",
              "    </tr>\n",
              "    <tr>\n",
              "      <th>3</th>\n",
              "      <td>0</td>\n",
              "      <td>1</td>\n",
              "      <td>0</td>\n",
              "      <td>0</td>\n",
              "      <td>0</td>\n",
              "      <td>2583</td>\n",
              "      <td>2358.0</td>\n",
              "      <td>120.0</td>\n",
              "      <td>360.0</td>\n",
              "      <td>1.0</td>\n",
              "      <td>2</td>\n",
              "      <td>1</td>\n",
              "      <td>4941.0</td>\n",
              "    </tr>\n",
              "    <tr>\n",
              "      <th>4</th>\n",
              "      <td>0</td>\n",
              "      <td>0</td>\n",
              "      <td>0</td>\n",
              "      <td>1</td>\n",
              "      <td>0</td>\n",
              "      <td>6000</td>\n",
              "      <td>0.0</td>\n",
              "      <td>141.0</td>\n",
              "      <td>360.0</td>\n",
              "      <td>1.0</td>\n",
              "      <td>2</td>\n",
              "      <td>1</td>\n",
              "      <td>6000.0</td>\n",
              "    </tr>\n",
              "    <tr>\n",
              "      <th>5</th>\n",
              "      <td>0</td>\n",
              "      <td>1</td>\n",
              "      <td>2</td>\n",
              "      <td>1</td>\n",
              "      <td>1</td>\n",
              "      <td>5417</td>\n",
              "      <td>4196.0</td>\n",
              "      <td>267.0</td>\n",
              "      <td>360.0</td>\n",
              "      <td>1.0</td>\n",
              "      <td>2</td>\n",
              "      <td>1</td>\n",
              "      <td>9613.0</td>\n",
              "    </tr>\n",
              "  </tbody>\n",
              "</table>\n",
              "</div>\n",
              "      <button class=\"colab-df-convert\" onclick=\"convertToInteractive('df-776d55ca-860d-4c26-b08c-cd0473fcf5ad')\"\n",
              "              title=\"Convert this dataframe to an interactive table.\"\n",
              "              style=\"display:none;\">\n",
              "        \n",
              "  <svg xmlns=\"http://www.w3.org/2000/svg\" height=\"24px\"viewBox=\"0 0 24 24\"\n",
              "       width=\"24px\">\n",
              "    <path d=\"M0 0h24v24H0V0z\" fill=\"none\"/>\n",
              "    <path d=\"M18.56 5.44l.94 2.06.94-2.06 2.06-.94-2.06-.94-.94-2.06-.94 2.06-2.06.94zm-11 1L8.5 8.5l.94-2.06 2.06-.94-2.06-.94L8.5 2.5l-.94 2.06-2.06.94zm10 10l.94 2.06.94-2.06 2.06-.94-2.06-.94-.94-2.06-.94 2.06-2.06.94z\"/><path d=\"M17.41 7.96l-1.37-1.37c-.4-.4-.92-.59-1.43-.59-.52 0-1.04.2-1.43.59L10.3 9.45l-7.72 7.72c-.78.78-.78 2.05 0 2.83L4 21.41c.39.39.9.59 1.41.59.51 0 1.02-.2 1.41-.59l7.78-7.78 2.81-2.81c.8-.78.8-2.07 0-2.86zM5.41 20L4 18.59l7.72-7.72 1.47 1.35L5.41 20z\"/>\n",
              "  </svg>\n",
              "      </button>\n",
              "      \n",
              "  <style>\n",
              "    .colab-df-container {\n",
              "      display:flex;\n",
              "      flex-wrap:wrap;\n",
              "      gap: 12px;\n",
              "    }\n",
              "\n",
              "    .colab-df-convert {\n",
              "      background-color: #E8F0FE;\n",
              "      border: none;\n",
              "      border-radius: 50%;\n",
              "      cursor: pointer;\n",
              "      display: none;\n",
              "      fill: #1967D2;\n",
              "      height: 32px;\n",
              "      padding: 0 0 0 0;\n",
              "      width: 32px;\n",
              "    }\n",
              "\n",
              "    .colab-df-convert:hover {\n",
              "      background-color: #E2EBFA;\n",
              "      box-shadow: 0px 1px 2px rgba(60, 64, 67, 0.3), 0px 1px 3px 1px rgba(60, 64, 67, 0.15);\n",
              "      fill: #174EA6;\n",
              "    }\n",
              "\n",
              "    [theme=dark] .colab-df-convert {\n",
              "      background-color: #3B4455;\n",
              "      fill: #D2E3FC;\n",
              "    }\n",
              "\n",
              "    [theme=dark] .colab-df-convert:hover {\n",
              "      background-color: #434B5C;\n",
              "      box-shadow: 0px 1px 3px 1px rgba(0, 0, 0, 0.15);\n",
              "      filter: drop-shadow(0px 1px 2px rgba(0, 0, 0, 0.3));\n",
              "      fill: #FFFFFF;\n",
              "    }\n",
              "  </style>\n",
              "\n",
              "      <script>\n",
              "        const buttonEl =\n",
              "          document.querySelector('#df-776d55ca-860d-4c26-b08c-cd0473fcf5ad button.colab-df-convert');\n",
              "        buttonEl.style.display =\n",
              "          google.colab.kernel.accessAllowed ? 'block' : 'none';\n",
              "\n",
              "        async function convertToInteractive(key) {\n",
              "          const element = document.querySelector('#df-776d55ca-860d-4c26-b08c-cd0473fcf5ad');\n",
              "          const dataTable =\n",
              "            await google.colab.kernel.invokeFunction('convertToInteractive',\n",
              "                                                     [key], {});\n",
              "          if (!dataTable) return;\n",
              "\n",
              "          const docLinkHtml = 'Like what you see? Visit the ' +\n",
              "            '<a target=\"_blank\" href=https://colab.research.google.com/notebooks/data_table.ipynb>data table notebook</a>'\n",
              "            + ' to learn more about interactive tables.';\n",
              "          element.innerHTML = '';\n",
              "          dataTable['output_type'] = 'display_data';\n",
              "          await google.colab.output.renderOutput(dataTable, element);\n",
              "          const docLink = document.createElement('div');\n",
              "          docLink.innerHTML = docLinkHtml;\n",
              "          element.appendChild(docLink);\n",
              "        }\n",
              "      </script>\n",
              "    </div>\n",
              "  </div>\n",
              "  "
            ]
          },
          "metadata": {},
          "execution_count": 7
        }
      ]
    },
    {
      "cell_type": "code",
      "source": [
        "df = df.drop(['ApplicantIncome'], axis=1)\n",
        "df = df.drop(['CoapplicantIncome'], axis=1)\n",
        "df.head(10)"
      ],
      "metadata": {
        "colab": {
          "base_uri": "https://localhost:8080/",
          "height": 363
        },
        "id": "8YgF7e3_VMwg",
        "outputId": "608189d3-6217-43e9-f140-407d52e6ccd7"
      },
      "execution_count": null,
      "outputs": [
        {
          "output_type": "execute_result",
          "data": {
            "text/plain": [
              "    Gender  Married  Dependents  Education  Self_Employed  LoanAmount  \\\n",
              "1        0        1           1          1              0       128.0   \n",
              "2        0        1           0          1              1        66.0   \n",
              "3        0        1           0          0              0       120.0   \n",
              "4        0        0           0          1              0       141.0   \n",
              "5        0        1           2          1              1       267.0   \n",
              "6        0        1           0          0              0        95.0   \n",
              "7        0        1           3          1              0       158.0   \n",
              "8        0        1           2          1              0       168.0   \n",
              "9        0        1           1          1              0       349.0   \n",
              "10       0        1           2          1              0        70.0   \n",
              "\n",
              "    Loan_Amount_Term  Credit_History  Property_Area  Loan_Status  Total_Income  \n",
              "1              360.0             1.0              0            0        6091.0  \n",
              "2              360.0             1.0              2            1        3000.0  \n",
              "3              360.0             1.0              2            1        4941.0  \n",
              "4              360.0             1.0              2            1        6000.0  \n",
              "5              360.0             1.0              2            1        9613.0  \n",
              "6              360.0             1.0              2            1        3849.0  \n",
              "7              360.0             0.0              1            0        5540.0  \n",
              "8              360.0             1.0              2            1        5532.0  \n",
              "9              360.0             1.0              1            0       23809.0  \n",
              "10             360.0             1.0              2            1        3900.0  "
            ],
            "text/html": [
              "\n",
              "  <div id=\"df-11a112bd-9ffd-47dd-a3a9-df3398d90d0a\">\n",
              "    <div class=\"colab-df-container\">\n",
              "      <div>\n",
              "<style scoped>\n",
              "    .dataframe tbody tr th:only-of-type {\n",
              "        vertical-align: middle;\n",
              "    }\n",
              "\n",
              "    .dataframe tbody tr th {\n",
              "        vertical-align: top;\n",
              "    }\n",
              "\n",
              "    .dataframe thead th {\n",
              "        text-align: right;\n",
              "    }\n",
              "</style>\n",
              "<table border=\"1\" class=\"dataframe\">\n",
              "  <thead>\n",
              "    <tr style=\"text-align: right;\">\n",
              "      <th></th>\n",
              "      <th>Gender</th>\n",
              "      <th>Married</th>\n",
              "      <th>Dependents</th>\n",
              "      <th>Education</th>\n",
              "      <th>Self_Employed</th>\n",
              "      <th>LoanAmount</th>\n",
              "      <th>Loan_Amount_Term</th>\n",
              "      <th>Credit_History</th>\n",
              "      <th>Property_Area</th>\n",
              "      <th>Loan_Status</th>\n",
              "      <th>Total_Income</th>\n",
              "    </tr>\n",
              "  </thead>\n",
              "  <tbody>\n",
              "    <tr>\n",
              "      <th>1</th>\n",
              "      <td>0</td>\n",
              "      <td>1</td>\n",
              "      <td>1</td>\n",
              "      <td>1</td>\n",
              "      <td>0</td>\n",
              "      <td>128.0</td>\n",
              "      <td>360.0</td>\n",
              "      <td>1.0</td>\n",
              "      <td>0</td>\n",
              "      <td>0</td>\n",
              "      <td>6091.0</td>\n",
              "    </tr>\n",
              "    <tr>\n",
              "      <th>2</th>\n",
              "      <td>0</td>\n",
              "      <td>1</td>\n",
              "      <td>0</td>\n",
              "      <td>1</td>\n",
              "      <td>1</td>\n",
              "      <td>66.0</td>\n",
              "      <td>360.0</td>\n",
              "      <td>1.0</td>\n",
              "      <td>2</td>\n",
              "      <td>1</td>\n",
              "      <td>3000.0</td>\n",
              "    </tr>\n",
              "    <tr>\n",
              "      <th>3</th>\n",
              "      <td>0</td>\n",
              "      <td>1</td>\n",
              "      <td>0</td>\n",
              "      <td>0</td>\n",
              "      <td>0</td>\n",
              "      <td>120.0</td>\n",
              "      <td>360.0</td>\n",
              "      <td>1.0</td>\n",
              "      <td>2</td>\n",
              "      <td>1</td>\n",
              "      <td>4941.0</td>\n",
              "    </tr>\n",
              "    <tr>\n",
              "      <th>4</th>\n",
              "      <td>0</td>\n",
              "      <td>0</td>\n",
              "      <td>0</td>\n",
              "      <td>1</td>\n",
              "      <td>0</td>\n",
              "      <td>141.0</td>\n",
              "      <td>360.0</td>\n",
              "      <td>1.0</td>\n",
              "      <td>2</td>\n",
              "      <td>1</td>\n",
              "      <td>6000.0</td>\n",
              "    </tr>\n",
              "    <tr>\n",
              "      <th>5</th>\n",
              "      <td>0</td>\n",
              "      <td>1</td>\n",
              "      <td>2</td>\n",
              "      <td>1</td>\n",
              "      <td>1</td>\n",
              "      <td>267.0</td>\n",
              "      <td>360.0</td>\n",
              "      <td>1.0</td>\n",
              "      <td>2</td>\n",
              "      <td>1</td>\n",
              "      <td>9613.0</td>\n",
              "    </tr>\n",
              "    <tr>\n",
              "      <th>6</th>\n",
              "      <td>0</td>\n",
              "      <td>1</td>\n",
              "      <td>0</td>\n",
              "      <td>0</td>\n",
              "      <td>0</td>\n",
              "      <td>95.0</td>\n",
              "      <td>360.0</td>\n",
              "      <td>1.0</td>\n",
              "      <td>2</td>\n",
              "      <td>1</td>\n",
              "      <td>3849.0</td>\n",
              "    </tr>\n",
              "    <tr>\n",
              "      <th>7</th>\n",
              "      <td>0</td>\n",
              "      <td>1</td>\n",
              "      <td>3</td>\n",
              "      <td>1</td>\n",
              "      <td>0</td>\n",
              "      <td>158.0</td>\n",
              "      <td>360.0</td>\n",
              "      <td>0.0</td>\n",
              "      <td>1</td>\n",
              "      <td>0</td>\n",
              "      <td>5540.0</td>\n",
              "    </tr>\n",
              "    <tr>\n",
              "      <th>8</th>\n",
              "      <td>0</td>\n",
              "      <td>1</td>\n",
              "      <td>2</td>\n",
              "      <td>1</td>\n",
              "      <td>0</td>\n",
              "      <td>168.0</td>\n",
              "      <td>360.0</td>\n",
              "      <td>1.0</td>\n",
              "      <td>2</td>\n",
              "      <td>1</td>\n",
              "      <td>5532.0</td>\n",
              "    </tr>\n",
              "    <tr>\n",
              "      <th>9</th>\n",
              "      <td>0</td>\n",
              "      <td>1</td>\n",
              "      <td>1</td>\n",
              "      <td>1</td>\n",
              "      <td>0</td>\n",
              "      <td>349.0</td>\n",
              "      <td>360.0</td>\n",
              "      <td>1.0</td>\n",
              "      <td>1</td>\n",
              "      <td>0</td>\n",
              "      <td>23809.0</td>\n",
              "    </tr>\n",
              "    <tr>\n",
              "      <th>10</th>\n",
              "      <td>0</td>\n",
              "      <td>1</td>\n",
              "      <td>2</td>\n",
              "      <td>1</td>\n",
              "      <td>0</td>\n",
              "      <td>70.0</td>\n",
              "      <td>360.0</td>\n",
              "      <td>1.0</td>\n",
              "      <td>2</td>\n",
              "      <td>1</td>\n",
              "      <td>3900.0</td>\n",
              "    </tr>\n",
              "  </tbody>\n",
              "</table>\n",
              "</div>\n",
              "      <button class=\"colab-df-convert\" onclick=\"convertToInteractive('df-11a112bd-9ffd-47dd-a3a9-df3398d90d0a')\"\n",
              "              title=\"Convert this dataframe to an interactive table.\"\n",
              "              style=\"display:none;\">\n",
              "        \n",
              "  <svg xmlns=\"http://www.w3.org/2000/svg\" height=\"24px\"viewBox=\"0 0 24 24\"\n",
              "       width=\"24px\">\n",
              "    <path d=\"M0 0h24v24H0V0z\" fill=\"none\"/>\n",
              "    <path d=\"M18.56 5.44l.94 2.06.94-2.06 2.06-.94-2.06-.94-.94-2.06-.94 2.06-2.06.94zm-11 1L8.5 8.5l.94-2.06 2.06-.94-2.06-.94L8.5 2.5l-.94 2.06-2.06.94zm10 10l.94 2.06.94-2.06 2.06-.94-2.06-.94-.94-2.06-.94 2.06-2.06.94z\"/><path d=\"M17.41 7.96l-1.37-1.37c-.4-.4-.92-.59-1.43-.59-.52 0-1.04.2-1.43.59L10.3 9.45l-7.72 7.72c-.78.78-.78 2.05 0 2.83L4 21.41c.39.39.9.59 1.41.59.51 0 1.02-.2 1.41-.59l7.78-7.78 2.81-2.81c.8-.78.8-2.07 0-2.86zM5.41 20L4 18.59l7.72-7.72 1.47 1.35L5.41 20z\"/>\n",
              "  </svg>\n",
              "      </button>\n",
              "      \n",
              "  <style>\n",
              "    .colab-df-container {\n",
              "      display:flex;\n",
              "      flex-wrap:wrap;\n",
              "      gap: 12px;\n",
              "    }\n",
              "\n",
              "    .colab-df-convert {\n",
              "      background-color: #E8F0FE;\n",
              "      border: none;\n",
              "      border-radius: 50%;\n",
              "      cursor: pointer;\n",
              "      display: none;\n",
              "      fill: #1967D2;\n",
              "      height: 32px;\n",
              "      padding: 0 0 0 0;\n",
              "      width: 32px;\n",
              "    }\n",
              "\n",
              "    .colab-df-convert:hover {\n",
              "      background-color: #E2EBFA;\n",
              "      box-shadow: 0px 1px 2px rgba(60, 64, 67, 0.3), 0px 1px 3px 1px rgba(60, 64, 67, 0.15);\n",
              "      fill: #174EA6;\n",
              "    }\n",
              "\n",
              "    [theme=dark] .colab-df-convert {\n",
              "      background-color: #3B4455;\n",
              "      fill: #D2E3FC;\n",
              "    }\n",
              "\n",
              "    [theme=dark] .colab-df-convert:hover {\n",
              "      background-color: #434B5C;\n",
              "      box-shadow: 0px 1px 3px 1px rgba(0, 0, 0, 0.15);\n",
              "      filter: drop-shadow(0px 1px 2px rgba(0, 0, 0, 0.3));\n",
              "      fill: #FFFFFF;\n",
              "    }\n",
              "  </style>\n",
              "\n",
              "      <script>\n",
              "        const buttonEl =\n",
              "          document.querySelector('#df-11a112bd-9ffd-47dd-a3a9-df3398d90d0a button.colab-df-convert');\n",
              "        buttonEl.style.display =\n",
              "          google.colab.kernel.accessAllowed ? 'block' : 'none';\n",
              "\n",
              "        async function convertToInteractive(key) {\n",
              "          const element = document.querySelector('#df-11a112bd-9ffd-47dd-a3a9-df3398d90d0a');\n",
              "          const dataTable =\n",
              "            await google.colab.kernel.invokeFunction('convertToInteractive',\n",
              "                                                     [key], {});\n",
              "          if (!dataTable) return;\n",
              "\n",
              "          const docLinkHtml = 'Like what you see? Visit the ' +\n",
              "            '<a target=\"_blank\" href=https://colab.research.google.com/notebooks/data_table.ipynb>data table notebook</a>'\n",
              "            + ' to learn more about interactive tables.';\n",
              "          element.innerHTML = '';\n",
              "          dataTable['output_type'] = 'display_data';\n",
              "          await google.colab.output.renderOutput(dataTable, element);\n",
              "          const docLink = document.createElement('div');\n",
              "          docLink.innerHTML = docLinkHtml;\n",
              "          element.appendChild(docLink);\n",
              "        }\n",
              "      </script>\n",
              "    </div>\n",
              "  </div>\n",
              "  "
            ]
          },
          "metadata": {},
          "execution_count": 8
        }
      ]
    },
    {
      "cell_type": "code",
      "source": [
        "#rs = np.random.RandomState(0)\n",
        "#df = pd.DataFrame(rs.rand(10, 10))\n",
        "corr = df.corr()\n",
        "corr.style.background_gradient(cmap='coolwarm')\n",
        "# 'RdBu_r', 'BrBG_r', & PuOr_r are other good diverging colormaps"
      ],
      "metadata": {
        "colab": {
          "base_uri": "https://localhost:8080/",
          "height": 414
        },
        "id": "UjfSxYBjBru7",
        "outputId": "dca7809b-3ef9-431a-cb5a-9fc611c60109"
      },
      "execution_count": null,
      "outputs": [
        {
          "output_type": "execute_result",
          "data": {
            "text/plain": [
              "<pandas.io.formats.style.Styler at 0x7f9bf0abaa00>"
            ],
            "text/html": [
              "<style type=\"text/css\">\n",
              "#T_40744_row0_col0, #T_40744_row1_col1, #T_40744_row2_col2, #T_40744_row3_col3, #T_40744_row4_col4, #T_40744_row5_col5, #T_40744_row6_col6, #T_40744_row7_col7, #T_40744_row8_col8, #T_40744_row9_col9, #T_40744_row10_col10 {\n",
              "  background-color: #b40426;\n",
              "  color: #f1f1f1;\n",
              "}\n",
              "#T_40744_row0_col1, #T_40744_row0_col2, #T_40744_row0_col10, #T_40744_row1_col0, #T_40744_row1_col6, #T_40744_row2_col3, #T_40744_row5_col8, #T_40744_row5_col9, #T_40744_row8_col4, #T_40744_row8_col5, #T_40744_row10_col7 {\n",
              "  background-color: #3b4cc0;\n",
              "  color: #f1f1f1;\n",
              "}\n",
              "#T_40744_row0_col3, #T_40744_row6_col7, #T_40744_row7_col3, #T_40744_row10_col6 {\n",
              "  background-color: #5470de;\n",
              "  color: #f1f1f1;\n",
              "}\n",
              "#T_40744_row0_col4, #T_40744_row3_col4, #T_40744_row4_col8, #T_40744_row8_col7 {\n",
              "  background-color: #4a63d3;\n",
              "  color: #f1f1f1;\n",
              "}\n",
              "#T_40744_row0_col5, #T_40744_row2_col6, #T_40744_row10_col9 {\n",
              "  background-color: #3d50c3;\n",
              "  color: #f1f1f1;\n",
              "}\n",
              "#T_40744_row0_col6, #T_40744_row6_col1, #T_40744_row8_col2 {\n",
              "  background-color: #7396f5;\n",
              "  color: #f1f1f1;\n",
              "}\n",
              "#T_40744_row0_col7, #T_40744_row4_col3, #T_40744_row4_col7, #T_40744_row4_col9, #T_40744_row9_col5, #T_40744_row9_col10 {\n",
              "  background-color: #445acc;\n",
              "  color: #f1f1f1;\n",
              "}\n",
              "#T_40744_row0_col8, #T_40744_row2_col0, #T_40744_row2_col8, #T_40744_row2_col9, #T_40744_row6_col2 {\n",
              "  background-color: #5977e3;\n",
              "  color: #f1f1f1;\n",
              "}\n",
              "#T_40744_row0_col9 {\n",
              "  background-color: #3c4ec2;\n",
              "  color: #f1f1f1;\n",
              "}\n",
              "#T_40744_row1_col2 {\n",
              "  background-color: #dbdcde;\n",
              "  color: #000000;\n",
              "}\n",
              "#T_40744_row1_col3, #T_40744_row7_col4 {\n",
              "  background-color: #4257c9;\n",
              "  color: #f1f1f1;\n",
              "}\n",
              "#T_40744_row1_col4, #T_40744_row4_col6 {\n",
              "  background-color: #4e68d8;\n",
              "  color: #f1f1f1;\n",
              "}\n",
              "#T_40744_row1_col5 {\n",
              "  background-color: #92b4fe;\n",
              "  color: #000000;\n",
              "}\n",
              "#T_40744_row1_col7, #T_40744_row6_col10, #T_40744_row8_col3 {\n",
              "  background-color: #536edd;\n",
              "  color: #f1f1f1;\n",
              "}\n",
              "#T_40744_row1_col8 {\n",
              "  background-color: #6485ec;\n",
              "  color: #f1f1f1;\n",
              "}\n",
              "#T_40744_row1_col9 {\n",
              "  background-color: #7093f3;\n",
              "  color: #f1f1f1;\n",
              "}\n",
              "#T_40744_row1_col10, #T_40744_row5_col4 {\n",
              "  background-color: #6e90f2;\n",
              "  color: #f1f1f1;\n",
              "}\n",
              "#T_40744_row2_col1 {\n",
              "  background-color: #e8d6cc;\n",
              "  color: #000000;\n",
              "}\n",
              "#T_40744_row2_col4, #T_40744_row9_col6 {\n",
              "  background-color: #5673e0;\n",
              "  color: #f1f1f1;\n",
              "}\n",
              "#T_40744_row2_col5, #T_40744_row3_col1, #T_40744_row3_col5 {\n",
              "  background-color: #8fb1fe;\n",
              "  color: #000000;\n",
              "}\n",
              "#T_40744_row2_col7 {\n",
              "  background-color: #4358cb;\n",
              "  color: #f1f1f1;\n",
              "}\n",
              "#T_40744_row2_col10 {\n",
              "  background-color: #7da0f9;\n",
              "  color: #f1f1f1;\n",
              "}\n",
              "#T_40744_row3_col0 {\n",
              "  background-color: #9fbfff;\n",
              "  color: #000000;\n",
              "}\n",
              "#T_40744_row3_col2 {\n",
              "  background-color: #6b8df0;\n",
              "  color: #f1f1f1;\n",
              "}\n",
              "#T_40744_row3_col6 {\n",
              "  background-color: #779af7;\n",
              "  color: #f1f1f1;\n",
              "}\n",
              "#T_40744_row3_col7 {\n",
              "  background-color: #5b7ae5;\n",
              "  color: #f1f1f1;\n",
              "}\n",
              "#T_40744_row3_col8, #T_40744_row6_col5 {\n",
              "  background-color: #688aef;\n",
              "  color: #f1f1f1;\n",
              "}\n",
              "#T_40744_row3_col9 {\n",
              "  background-color: #6384eb;\n",
              "  color: #f1f1f1;\n",
              "}\n",
              "#T_40744_row3_col10 {\n",
              "  background-color: #86a9fc;\n",
              "  color: #f1f1f1;\n",
              "}\n",
              "#T_40744_row4_col0, #T_40744_row8_col0 {\n",
              "  background-color: #90b2fe;\n",
              "  color: #000000;\n",
              "}\n",
              "#T_40744_row4_col1 {\n",
              "  background-color: #94b6ff;\n",
              "  color: #000000;\n",
              "}\n",
              "#T_40744_row4_col2 {\n",
              "  background-color: #81a4fb;\n",
              "  color: #f1f1f1;\n",
              "}\n",
              "#T_40744_row4_col5, #T_40744_row9_col2 {\n",
              "  background-color: #7ea1fa;\n",
              "  color: #f1f1f1;\n",
              "}\n",
              "#T_40744_row4_col10 {\n",
              "  background-color: #88abfd;\n",
              "  color: #000000;\n",
              "}\n",
              "#T_40744_row5_col0, #T_40744_row10_col0 {\n",
              "  background-color: #7699f6;\n",
              "  color: #f1f1f1;\n",
              "}\n",
              "#T_40744_row5_col1 {\n",
              "  background-color: #bfd3f6;\n",
              "  color: #000000;\n",
              "}\n",
              "#T_40744_row5_col2 {\n",
              "  background-color: #a6c4fe;\n",
              "  color: #000000;\n",
              "}\n",
              "#T_40744_row5_col3 {\n",
              "  background-color: #7a9df8;\n",
              "  color: #f1f1f1;\n",
              "}\n",
              "#T_40744_row5_col6 {\n",
              "  background-color: #6788ee;\n",
              "  color: #f1f1f1;\n",
              "}\n",
              "#T_40744_row5_col7, #T_40744_row6_col4, #T_40744_row9_col4 {\n",
              "  background-color: #3e51c5;\n",
              "  color: #f1f1f1;\n",
              "}\n",
              "#T_40744_row5_col10 {\n",
              "  background-color: #f1ccb8;\n",
              "  color: #000000;\n",
              "}\n",
              "#T_40744_row6_col0 {\n",
              "  background-color: #a7c5fe;\n",
              "  color: #000000;\n",
              "}\n",
              "#T_40744_row6_col3, #T_40744_row7_col6, #T_40744_row9_col8 {\n",
              "  background-color: #6282ea;\n",
              "  color: #f1f1f1;\n",
              "}\n",
              "#T_40744_row6_col8, #T_40744_row8_col6 {\n",
              "  background-color: #485fd1;\n",
              "  color: #f1f1f1;\n",
              "}\n",
              "#T_40744_row6_col9, #T_40744_row7_col5 {\n",
              "  background-color: #4c66d6;\n",
              "  color: #f1f1f1;\n",
              "}\n",
              "#T_40744_row7_col0 {\n",
              "  background-color: #8badfd;\n",
              "  color: #000000;\n",
              "}\n",
              "#T_40744_row7_col1, #T_40744_row10_col2 {\n",
              "  background-color: #97b8ff;\n",
              "  color: #000000;\n",
              "}\n",
              "#T_40744_row7_col2 {\n",
              "  background-color: #6c8ff1;\n",
              "  color: #f1f1f1;\n",
              "}\n",
              "#T_40744_row7_col8, #T_40744_row8_col9, #T_40744_row9_col3 {\n",
              "  background-color: #5875e1;\n",
              "  color: #f1f1f1;\n",
              "}\n",
              "#T_40744_row7_col9 {\n",
              "  background-color: #ebd3c6;\n",
              "  color: #000000;\n",
              "}\n",
              "#T_40744_row7_col10 {\n",
              "  background-color: #455cce;\n",
              "  color: #f1f1f1;\n",
              "}\n",
              "#T_40744_row8_col1 {\n",
              "  background-color: #9abbff;\n",
              "  color: #000000;\n",
              "}\n",
              "#T_40744_row8_col10 {\n",
              "  background-color: #4961d2;\n",
              "  color: #f1f1f1;\n",
              "}\n",
              "#T_40744_row9_col0 {\n",
              "  background-color: #80a3fa;\n",
              "  color: #f1f1f1;\n",
              "}\n",
              "#T_40744_row9_col1 {\n",
              "  background-color: #adc9fd;\n",
              "  color: #000000;\n",
              "}\n",
              "#T_40744_row9_col7 {\n",
              "  background-color: #ead4c8;\n",
              "  color: #000000;\n",
              "}\n",
              "#T_40744_row10_col1 {\n",
              "  background-color: #a5c3fe;\n",
              "  color: #000000;\n",
              "}\n",
              "#T_40744_row10_col3 {\n",
              "  background-color: #7597f6;\n",
              "  color: #f1f1f1;\n",
              "}\n",
              "#T_40744_row10_col4 {\n",
              "  background-color: #7b9ff9;\n",
              "  color: #f1f1f1;\n",
              "}\n",
              "#T_40744_row10_col5 {\n",
              "  background-color: #f2cbb7;\n",
              "  color: #000000;\n",
              "}\n",
              "#T_40744_row10_col8 {\n",
              "  background-color: #4b64d5;\n",
              "  color: #f1f1f1;\n",
              "}\n",
              "</style>\n",
              "<table id=\"T_40744_\" class=\"dataframe\">\n",
              "  <thead>\n",
              "    <tr>\n",
              "      <th class=\"blank level0\" >&nbsp;</th>\n",
              "      <th class=\"col_heading level0 col0\" >Gender</th>\n",
              "      <th class=\"col_heading level0 col1\" >Married</th>\n",
              "      <th class=\"col_heading level0 col2\" >Dependents</th>\n",
              "      <th class=\"col_heading level0 col3\" >Education</th>\n",
              "      <th class=\"col_heading level0 col4\" >Self_Employed</th>\n",
              "      <th class=\"col_heading level0 col5\" >LoanAmount</th>\n",
              "      <th class=\"col_heading level0 col6\" >Loan_Amount_Term</th>\n",
              "      <th class=\"col_heading level0 col7\" >Credit_History</th>\n",
              "      <th class=\"col_heading level0 col8\" >Property_Area</th>\n",
              "      <th class=\"col_heading level0 col9\" >Loan_Status</th>\n",
              "      <th class=\"col_heading level0 col10\" >Total_Income</th>\n",
              "    </tr>\n",
              "  </thead>\n",
              "  <tbody>\n",
              "    <tr>\n",
              "      <th id=\"T_40744_level0_row0\" class=\"row_heading level0 row0\" >Gender</th>\n",
              "      <td id=\"T_40744_row0_col0\" class=\"data row0 col0\" >1.000000</td>\n",
              "      <td id=\"T_40744_row0_col1\" class=\"data row0 col1\" >-0.349424</td>\n",
              "      <td id=\"T_40744_row0_col2\" class=\"data row0 col2\" >-0.217510</td>\n",
              "      <td id=\"T_40744_row0_col3\" class=\"data row0 col3\" >0.059245</td>\n",
              "      <td id=\"T_40744_row0_col4\" class=\"data row0 col4\" >0.002761</td>\n",
              "      <td id=\"T_40744_row0_col5\" class=\"data row0 col5\" >-0.098975</td>\n",
              "      <td id=\"T_40744_row0_col6\" class=\"data row0 col6\" >0.088704</td>\n",
              "      <td id=\"T_40744_row0_col7\" class=\"data row0 col7\" >-0.022447</td>\n",
              "      <td id=\"T_40744_row0_col8\" class=\"data row0 col8\" >0.000204</td>\n",
              "      <td id=\"T_40744_row0_col9\" class=\"data row0 col9\" >-0.064504</td>\n",
              "      <td id=\"T_40744_row0_col10\" class=\"data row0 col10\" >-0.099472</td>\n",
              "    </tr>\n",
              "    <tr>\n",
              "      <th id=\"T_40744_level0_row1\" class=\"row_heading level0 row1\" >Married</th>\n",
              "      <td id=\"T_40744_row1_col0\" class=\"data row1 col0\" >-0.349424</td>\n",
              "      <td id=\"T_40744_row1_col1\" class=\"data row1 col1\" >1.000000</td>\n",
              "      <td id=\"T_40744_row1_col2\" class=\"data row1 col2\" >0.386367</td>\n",
              "      <td id=\"T_40744_row1_col3\" class=\"data row1 col3\" >-0.001652</td>\n",
              "      <td id=\"T_40744_row1_col4\" class=\"data row1 col4\" >0.015674</td>\n",
              "      <td id=\"T_40744_row1_col5\" class=\"data row1 col5\" >0.183442</td>\n",
              "      <td id=\"T_40744_row1_col6\" class=\"data row1 col6\" >-0.107504</td>\n",
              "      <td id=\"T_40744_row1_col7\" class=\"data row1 col7\" >0.029095</td>\n",
              "      <td id=\"T_40744_row1_col8\" class=\"data row1 col8\" >0.038653</td>\n",
              "      <td id=\"T_40744_row1_col9\" class=\"data row1 col9\" >0.112321</td>\n",
              "      <td id=\"T_40744_row1_col10\" class=\"data row1 col10\" >0.080003</td>\n",
              "    </tr>\n",
              "    <tr>\n",
              "      <th id=\"T_40744_level0_row2\" class=\"row_heading level0 row2\" >Dependents</th>\n",
              "      <td id=\"T_40744_row2_col0\" class=\"data row2 col0\" >-0.217510</td>\n",
              "      <td id=\"T_40744_row2_col1\" class=\"data row2 col1\" >0.386367</td>\n",
              "      <td id=\"T_40744_row2_col2\" class=\"data row2 col2\" >1.000000</td>\n",
              "      <td id=\"T_40744_row2_col3\" class=\"data row2 col3\" >-0.028608</td>\n",
              "      <td id=\"T_40744_row2_col4\" class=\"data row2 col4\" >0.045754</td>\n",
              "      <td id=\"T_40744_row2_col5\" class=\"data row2 col5\" >0.172780</td>\n",
              "      <td id=\"T_40744_row2_col6\" class=\"data row2 col6\" >-0.096361</td>\n",
              "      <td id=\"T_40744_row2_col7\" class=\"data row2 col7\" >-0.026651</td>\n",
              "      <td id=\"T_40744_row2_col8\" class=\"data row2 col8\" >0.001191</td>\n",
              "      <td id=\"T_40744_row2_col9\" class=\"data row2 col9\" >0.035428</td>\n",
              "      <td id=\"T_40744_row2_col10\" class=\"data row2 col10\" >0.124373</td>\n",
              "    </tr>\n",
              "    <tr>\n",
              "      <th id=\"T_40744_level0_row3\" class=\"row_heading level0 row3\" >Education</th>\n",
              "      <td id=\"T_40744_row3_col0\" class=\"data row3 col0\" >0.059245</td>\n",
              "      <td id=\"T_40744_row3_col1\" class=\"data row3 col1\" >-0.001652</td>\n",
              "      <td id=\"T_40744_row3_col2\" class=\"data row3 col2\" >-0.028608</td>\n",
              "      <td id=\"T_40744_row3_col3\" class=\"data row3 col3\" >1.000000</td>\n",
              "      <td id=\"T_40744_row3_col4\" class=\"data row3 col4\" >0.005085</td>\n",
              "      <td id=\"T_40744_row3_col5\" class=\"data row3 col5\" >0.172780</td>\n",
              "      <td id=\"T_40744_row3_col6\" class=\"data row3 col6\" >0.102168</td>\n",
              "      <td id=\"T_40744_row3_col7\" class=\"data row3 col7\" >0.056656</td>\n",
              "      <td id=\"T_40744_row3_col8\" class=\"data row3 col8\" >0.055005</td>\n",
              "      <td id=\"T_40744_row3_col9\" class=\"data row3 col9\" >0.068437</td>\n",
              "      <td id=\"T_40744_row3_col10\" class=\"data row3 col10\" >0.157209</td>\n",
              "    </tr>\n",
              "    <tr>\n",
              "      <th id=\"T_40744_level0_row4\" class=\"row_heading level0 row4\" >Self_Employed</th>\n",
              "      <td id=\"T_40744_row4_col0\" class=\"data row4 col0\" >0.002761</td>\n",
              "      <td id=\"T_40744_row4_col1\" class=\"data row4 col1\" >0.015674</td>\n",
              "      <td id=\"T_40744_row4_col2\" class=\"data row4 col2\" >0.045754</td>\n",
              "      <td id=\"T_40744_row4_col3\" class=\"data row4 col3\" >0.005085</td>\n",
              "      <td id=\"T_40744_row4_col4\" class=\"data row4 col4\" >1.000000</td>\n",
              "      <td id=\"T_40744_row4_col5\" class=\"data row4 col5\" >0.120389</td>\n",
              "      <td id=\"T_40744_row4_col6\" class=\"data row4 col6\" >-0.034852</td>\n",
              "      <td id=\"T_40744_row4_col7\" class=\"data row4 col7\" >-0.023568</td>\n",
              "      <td id=\"T_40744_row4_col8\" class=\"data row4 col8\" >-0.050797</td>\n",
              "      <td id=\"T_40744_row4_col9\" class=\"data row4 col9\" >-0.034715</td>\n",
              "      <td id=\"T_40744_row4_col10\" class=\"data row4 col10\" >0.161492</td>\n",
              "    </tr>\n",
              "    <tr>\n",
              "      <th id=\"T_40744_level0_row5\" class=\"row_heading level0 row5\" >LoanAmount</th>\n",
              "      <td id=\"T_40744_row5_col0\" class=\"data row5 col0\" >-0.098975</td>\n",
              "      <td id=\"T_40744_row5_col1\" class=\"data row5 col1\" >0.183442</td>\n",
              "      <td id=\"T_40744_row5_col2\" class=\"data row5 col2\" >0.172780</td>\n",
              "      <td id=\"T_40744_row5_col3\" class=\"data row5 col3\" >0.172780</td>\n",
              "      <td id=\"T_40744_row5_col4\" class=\"data row5 col4\" >0.120389</td>\n",
              "      <td id=\"T_40744_row5_col5\" class=\"data row5 col5\" >1.000000</td>\n",
              "      <td id=\"T_40744_row5_col6\" class=\"data row5 col6\" >0.050867</td>\n",
              "      <td id=\"T_40744_row5_col7\" class=\"data row5 col7\" >-0.040773</td>\n",
              "      <td id=\"T_40744_row5_col8\" class=\"data row5 col8\" >-0.109685</td>\n",
              "      <td id=\"T_40744_row5_col9\" class=\"data row5 col9\" >-0.071753</td>\n",
              "      <td id=\"T_40744_row5_col10\" class=\"data row5 col10\" >0.553914</td>\n",
              "    </tr>\n",
              "    <tr>\n",
              "      <th id=\"T_40744_level0_row6\" class=\"row_heading level0 row6\" >Loan_Amount_Term</th>\n",
              "      <td id=\"T_40744_row6_col0\" class=\"data row6 col0\" >0.088704</td>\n",
              "      <td id=\"T_40744_row6_col1\" class=\"data row6 col1\" >-0.107504</td>\n",
              "      <td id=\"T_40744_row6_col2\" class=\"data row6 col2\" >-0.096361</td>\n",
              "      <td id=\"T_40744_row6_col3\" class=\"data row6 col3\" >0.102168</td>\n",
              "      <td id=\"T_40744_row6_col4\" class=\"data row6 col4\" >-0.034852</td>\n",
              "      <td id=\"T_40744_row6_col5\" class=\"data row6 col5\" >0.050867</td>\n",
              "      <td id=\"T_40744_row6_col6\" class=\"data row6 col6\" >1.000000</td>\n",
              "      <td id=\"T_40744_row6_col7\" class=\"data row6 col7\" >0.032937</td>\n",
              "      <td id=\"T_40744_row6_col8\" class=\"data row6 col8\" >-0.058656</td>\n",
              "      <td id=\"T_40744_row6_col9\" class=\"data row6 col9\" >-0.007798</td>\n",
              "      <td id=\"T_40744_row6_col10\" class=\"data row6 col10\" >-0.012822</td>\n",
              "    </tr>\n",
              "    <tr>\n",
              "      <th id=\"T_40744_level0_row7\" class=\"row_heading level0 row7\" >Credit_History</th>\n",
              "      <td id=\"T_40744_row7_col0\" class=\"data row7 col0\" >-0.022447</td>\n",
              "      <td id=\"T_40744_row7_col1\" class=\"data row7 col1\" >0.029095</td>\n",
              "      <td id=\"T_40744_row7_col2\" class=\"data row7 col2\" >-0.026651</td>\n",
              "      <td id=\"T_40744_row7_col3\" class=\"data row7 col3\" >0.056656</td>\n",
              "      <td id=\"T_40744_row7_col4\" class=\"data row7 col4\" >-0.023568</td>\n",
              "      <td id=\"T_40744_row7_col5\" class=\"data row7 col5\" >-0.040773</td>\n",
              "      <td id=\"T_40744_row7_col6\" class=\"data row7 col6\" >0.032937</td>\n",
              "      <td id=\"T_40744_row7_col7\" class=\"data row7 col7\" >1.000000</td>\n",
              "      <td id=\"T_40744_row7_col8\" class=\"data row7 col8\" >-0.003013</td>\n",
              "      <td id=\"T_40744_row7_col9\" class=\"data row7 col9\" >0.529390</td>\n",
              "      <td id=\"T_40744_row7_col10\" class=\"data row7 col10\" >-0.057126</td>\n",
              "    </tr>\n",
              "    <tr>\n",
              "      <th id=\"T_40744_level0_row8\" class=\"row_heading level0 row8\" >Property_Area</th>\n",
              "      <td id=\"T_40744_row8_col0\" class=\"data row8 col0\" >0.000204</td>\n",
              "      <td id=\"T_40744_row8_col1\" class=\"data row8 col1\" >0.038653</td>\n",
              "      <td id=\"T_40744_row8_col2\" class=\"data row8 col2\" >0.001191</td>\n",
              "      <td id=\"T_40744_row8_col3\" class=\"data row8 col3\" >0.055005</td>\n",
              "      <td id=\"T_40744_row8_col4\" class=\"data row8 col4\" >-0.050797</td>\n",
              "      <td id=\"T_40744_row8_col5\" class=\"data row8 col5\" >-0.109685</td>\n",
              "      <td id=\"T_40744_row8_col6\" class=\"data row8 col6\" >-0.058656</td>\n",
              "      <td id=\"T_40744_row8_col7\" class=\"data row8 col7\" >-0.003013</td>\n",
              "      <td id=\"T_40744_row8_col8\" class=\"data row8 col8\" >1.000000</td>\n",
              "      <td id=\"T_40744_row8_col9\" class=\"data row8 col9\" >0.031361</td>\n",
              "      <td id=\"T_40744_row8_col10\" class=\"data row8 col10\" >-0.047606</td>\n",
              "    </tr>\n",
              "    <tr>\n",
              "      <th id=\"T_40744_level0_row9\" class=\"row_heading level0 row9\" >Loan_Status</th>\n",
              "      <td id=\"T_40744_row9_col0\" class=\"data row9 col0\" >-0.064504</td>\n",
              "      <td id=\"T_40744_row9_col1\" class=\"data row9 col1\" >0.112321</td>\n",
              "      <td id=\"T_40744_row9_col2\" class=\"data row9 col2\" >0.035428</td>\n",
              "      <td id=\"T_40744_row9_col3\" class=\"data row9 col3\" >0.068437</td>\n",
              "      <td id=\"T_40744_row9_col4\" class=\"data row9 col4\" >-0.034715</td>\n",
              "      <td id=\"T_40744_row9_col5\" class=\"data row9 col5\" >-0.071753</td>\n",
              "      <td id=\"T_40744_row9_col6\" class=\"data row9 col6\" >-0.007798</td>\n",
              "      <td id=\"T_40744_row9_col7\" class=\"data row9 col7\" >0.529390</td>\n",
              "      <td id=\"T_40744_row9_col8\" class=\"data row9 col8\" >0.031361</td>\n",
              "      <td id=\"T_40744_row9_col9\" class=\"data row9 col9\" >1.000000</td>\n",
              "      <td id=\"T_40744_row9_col10\" class=\"data row9 col10\" >-0.062465</td>\n",
              "    </tr>\n",
              "    <tr>\n",
              "      <th id=\"T_40744_level0_row10\" class=\"row_heading level0 row10\" >Total_Income</th>\n",
              "      <td id=\"T_40744_row10_col0\" class=\"data row10 col0\" >-0.099472</td>\n",
              "      <td id=\"T_40744_row10_col1\" class=\"data row10 col1\" >0.080003</td>\n",
              "      <td id=\"T_40744_row10_col2\" class=\"data row10 col2\" >0.124373</td>\n",
              "      <td id=\"T_40744_row10_col3\" class=\"data row10 col3\" >0.157209</td>\n",
              "      <td id=\"T_40744_row10_col4\" class=\"data row10 col4\" >0.161492</td>\n",
              "      <td id=\"T_40744_row10_col5\" class=\"data row10 col5\" >0.553914</td>\n",
              "      <td id=\"T_40744_row10_col6\" class=\"data row10 col6\" >-0.012822</td>\n",
              "      <td id=\"T_40744_row10_col7\" class=\"data row10 col7\" >-0.057126</td>\n",
              "      <td id=\"T_40744_row10_col8\" class=\"data row10 col8\" >-0.047606</td>\n",
              "      <td id=\"T_40744_row10_col9\" class=\"data row10 col9\" >-0.062465</td>\n",
              "      <td id=\"T_40744_row10_col10\" class=\"data row10 col10\" >1.000000</td>\n",
              "    </tr>\n",
              "  </tbody>\n",
              "</table>\n"
            ]
          },
          "metadata": {},
          "execution_count": 9
        }
      ]
    },
    {
      "cell_type": "markdown",
      "source": [
        "# Test Code\n"
      ],
      "metadata": {
        "id": "G-ajB_oyffBd"
      }
    },
    {
      "cell_type": "code",
      "source": [
        "#Dropping any outliers\n",
        "df.describe()"
      ],
      "metadata": {
        "colab": {
          "base_uri": "https://localhost:8080/",
          "height": 364
        },
        "id": "JsmLenmc6S-a",
        "outputId": "18048761-53d5-4aed-8425-9a8c3f1ff671"
      },
      "execution_count": null,
      "outputs": [
        {
          "output_type": "execute_result",
          "data": {
            "text/plain": [
              "           Gender     Married  Dependents   Education  Self_Employed  \\\n",
              "count  480.000000  480.000000  480.000000  480.000000     480.000000   \n",
              "mean     0.179167    0.647917    0.777083    0.797917       0.137500   \n",
              "std      0.383892    0.478118    1.020815    0.401973       0.344734   \n",
              "min      0.000000    0.000000    0.000000    0.000000       0.000000   \n",
              "25%      0.000000    0.000000    0.000000    1.000000       0.000000   \n",
              "50%      0.000000    1.000000    0.000000    1.000000       0.000000   \n",
              "75%      0.000000    1.000000    2.000000    1.000000       0.000000   \n",
              "max      1.000000    1.000000    3.000000    1.000000       1.000000   \n",
              "\n",
              "       LoanAmount  Loan_Amount_Term  Credit_History  Property_Area  \\\n",
              "count  480.000000        480.000000      480.000000     480.000000   \n",
              "mean   144.735417        342.050000        0.854167       1.022917   \n",
              "std     80.508164         65.212401        0.353307       0.776411   \n",
              "min      9.000000         36.000000        0.000000       0.000000   \n",
              "25%    100.000000        360.000000        1.000000       0.000000   \n",
              "50%    128.000000        360.000000        1.000000       1.000000   \n",
              "75%    170.000000        360.000000        1.000000       2.000000   \n",
              "max    600.000000        480.000000        1.000000       2.000000   \n",
              "\n",
              "       Loan_Status  Total_Income  \n",
              "count   480.000000    480.000000  \n",
              "mean      0.691667   6945.324833  \n",
              "std       0.462287   5969.948374  \n",
              "min       0.000000   1442.000000  \n",
              "25%       0.000000   4148.000000  \n",
              "50%       1.000000   5422.500000  \n",
              "75%       1.000000   7672.500000  \n",
              "max       1.000000  81000.000000  "
            ],
            "text/html": [
              "\n",
              "  <div id=\"df-2621703e-e8e1-4a41-97bd-98168886e713\">\n",
              "    <div class=\"colab-df-container\">\n",
              "      <div>\n",
              "<style scoped>\n",
              "    .dataframe tbody tr th:only-of-type {\n",
              "        vertical-align: middle;\n",
              "    }\n",
              "\n",
              "    .dataframe tbody tr th {\n",
              "        vertical-align: top;\n",
              "    }\n",
              "\n",
              "    .dataframe thead th {\n",
              "        text-align: right;\n",
              "    }\n",
              "</style>\n",
              "<table border=\"1\" class=\"dataframe\">\n",
              "  <thead>\n",
              "    <tr style=\"text-align: right;\">\n",
              "      <th></th>\n",
              "      <th>Gender</th>\n",
              "      <th>Married</th>\n",
              "      <th>Dependents</th>\n",
              "      <th>Education</th>\n",
              "      <th>Self_Employed</th>\n",
              "      <th>LoanAmount</th>\n",
              "      <th>Loan_Amount_Term</th>\n",
              "      <th>Credit_History</th>\n",
              "      <th>Property_Area</th>\n",
              "      <th>Loan_Status</th>\n",
              "      <th>Total_Income</th>\n",
              "    </tr>\n",
              "  </thead>\n",
              "  <tbody>\n",
              "    <tr>\n",
              "      <th>count</th>\n",
              "      <td>480.000000</td>\n",
              "      <td>480.000000</td>\n",
              "      <td>480.000000</td>\n",
              "      <td>480.000000</td>\n",
              "      <td>480.000000</td>\n",
              "      <td>480.000000</td>\n",
              "      <td>480.000000</td>\n",
              "      <td>480.000000</td>\n",
              "      <td>480.000000</td>\n",
              "      <td>480.000000</td>\n",
              "      <td>480.000000</td>\n",
              "    </tr>\n",
              "    <tr>\n",
              "      <th>mean</th>\n",
              "      <td>0.179167</td>\n",
              "      <td>0.647917</td>\n",
              "      <td>0.777083</td>\n",
              "      <td>0.797917</td>\n",
              "      <td>0.137500</td>\n",
              "      <td>144.735417</td>\n",
              "      <td>342.050000</td>\n",
              "      <td>0.854167</td>\n",
              "      <td>1.022917</td>\n",
              "      <td>0.691667</td>\n",
              "      <td>6945.324833</td>\n",
              "    </tr>\n",
              "    <tr>\n",
              "      <th>std</th>\n",
              "      <td>0.383892</td>\n",
              "      <td>0.478118</td>\n",
              "      <td>1.020815</td>\n",
              "      <td>0.401973</td>\n",
              "      <td>0.344734</td>\n",
              "      <td>80.508164</td>\n",
              "      <td>65.212401</td>\n",
              "      <td>0.353307</td>\n",
              "      <td>0.776411</td>\n",
              "      <td>0.462287</td>\n",
              "      <td>5969.948374</td>\n",
              "    </tr>\n",
              "    <tr>\n",
              "      <th>min</th>\n",
              "      <td>0.000000</td>\n",
              "      <td>0.000000</td>\n",
              "      <td>0.000000</td>\n",
              "      <td>0.000000</td>\n",
              "      <td>0.000000</td>\n",
              "      <td>9.000000</td>\n",
              "      <td>36.000000</td>\n",
              "      <td>0.000000</td>\n",
              "      <td>0.000000</td>\n",
              "      <td>0.000000</td>\n",
              "      <td>1442.000000</td>\n",
              "    </tr>\n",
              "    <tr>\n",
              "      <th>25%</th>\n",
              "      <td>0.000000</td>\n",
              "      <td>0.000000</td>\n",
              "      <td>0.000000</td>\n",
              "      <td>1.000000</td>\n",
              "      <td>0.000000</td>\n",
              "      <td>100.000000</td>\n",
              "      <td>360.000000</td>\n",
              "      <td>1.000000</td>\n",
              "      <td>0.000000</td>\n",
              "      <td>0.000000</td>\n",
              "      <td>4148.000000</td>\n",
              "    </tr>\n",
              "    <tr>\n",
              "      <th>50%</th>\n",
              "      <td>0.000000</td>\n",
              "      <td>1.000000</td>\n",
              "      <td>0.000000</td>\n",
              "      <td>1.000000</td>\n",
              "      <td>0.000000</td>\n",
              "      <td>128.000000</td>\n",
              "      <td>360.000000</td>\n",
              "      <td>1.000000</td>\n",
              "      <td>1.000000</td>\n",
              "      <td>1.000000</td>\n",
              "      <td>5422.500000</td>\n",
              "    </tr>\n",
              "    <tr>\n",
              "      <th>75%</th>\n",
              "      <td>0.000000</td>\n",
              "      <td>1.000000</td>\n",
              "      <td>2.000000</td>\n",
              "      <td>1.000000</td>\n",
              "      <td>0.000000</td>\n",
              "      <td>170.000000</td>\n",
              "      <td>360.000000</td>\n",
              "      <td>1.000000</td>\n",
              "      <td>2.000000</td>\n",
              "      <td>1.000000</td>\n",
              "      <td>7672.500000</td>\n",
              "    </tr>\n",
              "    <tr>\n",
              "      <th>max</th>\n",
              "      <td>1.000000</td>\n",
              "      <td>1.000000</td>\n",
              "      <td>3.000000</td>\n",
              "      <td>1.000000</td>\n",
              "      <td>1.000000</td>\n",
              "      <td>600.000000</td>\n",
              "      <td>480.000000</td>\n",
              "      <td>1.000000</td>\n",
              "      <td>2.000000</td>\n",
              "      <td>1.000000</td>\n",
              "      <td>81000.000000</td>\n",
              "    </tr>\n",
              "  </tbody>\n",
              "</table>\n",
              "</div>\n",
              "      <button class=\"colab-df-convert\" onclick=\"convertToInteractive('df-2621703e-e8e1-4a41-97bd-98168886e713')\"\n",
              "              title=\"Convert this dataframe to an interactive table.\"\n",
              "              style=\"display:none;\">\n",
              "        \n",
              "  <svg xmlns=\"http://www.w3.org/2000/svg\" height=\"24px\"viewBox=\"0 0 24 24\"\n",
              "       width=\"24px\">\n",
              "    <path d=\"M0 0h24v24H0V0z\" fill=\"none\"/>\n",
              "    <path d=\"M18.56 5.44l.94 2.06.94-2.06 2.06-.94-2.06-.94-.94-2.06-.94 2.06-2.06.94zm-11 1L8.5 8.5l.94-2.06 2.06-.94-2.06-.94L8.5 2.5l-.94 2.06-2.06.94zm10 10l.94 2.06.94-2.06 2.06-.94-2.06-.94-.94-2.06-.94 2.06-2.06.94z\"/><path d=\"M17.41 7.96l-1.37-1.37c-.4-.4-.92-.59-1.43-.59-.52 0-1.04.2-1.43.59L10.3 9.45l-7.72 7.72c-.78.78-.78 2.05 0 2.83L4 21.41c.39.39.9.59 1.41.59.51 0 1.02-.2 1.41-.59l7.78-7.78 2.81-2.81c.8-.78.8-2.07 0-2.86zM5.41 20L4 18.59l7.72-7.72 1.47 1.35L5.41 20z\"/>\n",
              "  </svg>\n",
              "      </button>\n",
              "      \n",
              "  <style>\n",
              "    .colab-df-container {\n",
              "      display:flex;\n",
              "      flex-wrap:wrap;\n",
              "      gap: 12px;\n",
              "    }\n",
              "\n",
              "    .colab-df-convert {\n",
              "      background-color: #E8F0FE;\n",
              "      border: none;\n",
              "      border-radius: 50%;\n",
              "      cursor: pointer;\n",
              "      display: none;\n",
              "      fill: #1967D2;\n",
              "      height: 32px;\n",
              "      padding: 0 0 0 0;\n",
              "      width: 32px;\n",
              "    }\n",
              "\n",
              "    .colab-df-convert:hover {\n",
              "      background-color: #E2EBFA;\n",
              "      box-shadow: 0px 1px 2px rgba(60, 64, 67, 0.3), 0px 1px 3px 1px rgba(60, 64, 67, 0.15);\n",
              "      fill: #174EA6;\n",
              "    }\n",
              "\n",
              "    [theme=dark] .colab-df-convert {\n",
              "      background-color: #3B4455;\n",
              "      fill: #D2E3FC;\n",
              "    }\n",
              "\n",
              "    [theme=dark] .colab-df-convert:hover {\n",
              "      background-color: #434B5C;\n",
              "      box-shadow: 0px 1px 3px 1px rgba(0, 0, 0, 0.15);\n",
              "      filter: drop-shadow(0px 1px 2px rgba(0, 0, 0, 0.3));\n",
              "      fill: #FFFFFF;\n",
              "    }\n",
              "  </style>\n",
              "\n",
              "      <script>\n",
              "        const buttonEl =\n",
              "          document.querySelector('#df-2621703e-e8e1-4a41-97bd-98168886e713 button.colab-df-convert');\n",
              "        buttonEl.style.display =\n",
              "          google.colab.kernel.accessAllowed ? 'block' : 'none';\n",
              "\n",
              "        async function convertToInteractive(key) {\n",
              "          const element = document.querySelector('#df-2621703e-e8e1-4a41-97bd-98168886e713');\n",
              "          const dataTable =\n",
              "            await google.colab.kernel.invokeFunction('convertToInteractive',\n",
              "                                                     [key], {});\n",
              "          if (!dataTable) return;\n",
              "\n",
              "          const docLinkHtml = 'Like what you see? Visit the ' +\n",
              "            '<a target=\"_blank\" href=https://colab.research.google.com/notebooks/data_table.ipynb>data table notebook</a>'\n",
              "            + ' to learn more about interactive tables.';\n",
              "          element.innerHTML = '';\n",
              "          dataTable['output_type'] = 'display_data';\n",
              "          await google.colab.output.renderOutput(dataTable, element);\n",
              "          const docLink = document.createElement('div');\n",
              "          docLink.innerHTML = docLinkHtml;\n",
              "          element.appendChild(docLink);\n",
              "        }\n",
              "      </script>\n",
              "    </div>\n",
              "  </div>\n",
              "  "
            ]
          },
          "metadata": {},
          "execution_count": 10
        }
      ]
    },
    {
      "cell_type": "code",
      "source": [
        "#Checking for Imbalances\n",
        "test1 = df.groupby(['Loan_Status'], sort=True).size()\n",
        "test1"
      ],
      "metadata": {
        "colab": {
          "base_uri": "https://localhost:8080/"
        },
        "id": "XOrkm_r7-lRv",
        "outputId": "66d2782a-1d01-441f-887e-b1e824bc7ac4"
      },
      "execution_count": null,
      "outputs": [
        {
          "output_type": "execute_result",
          "data": {
            "text/plain": [
              "Loan_Status\n",
              "0    148\n",
              "1    332\n",
              "dtype: int64"
            ]
          },
          "metadata": {},
          "execution_count": 11
        }
      ]
    },
    {
      "cell_type": "code",
      "source": [
        "#Feature selection, Train with 6 best features\n",
        "train_dataset = df.drop(columns=['Gender','Self_Employed','LoanAmount','Loan_Amount_Term'], axis=1) \n",
        "train_dataset.head()"
      ],
      "metadata": {
        "colab": {
          "base_uri": "https://localhost:8080/",
          "height": 206
        },
        "id": "Xxderyzyfls2",
        "outputId": "8ec61cb2-e2b6-4eb3-aa2a-517f236c3fd2"
      },
      "execution_count": null,
      "outputs": [
        {
          "output_type": "execute_result",
          "data": {
            "text/plain": [
              "   Married  Dependents  Education  Credit_History  Property_Area  Loan_Status  \\\n",
              "1        1           1          1             1.0              0            0   \n",
              "2        1           0          1             1.0              2            1   \n",
              "3        1           0          0             1.0              2            1   \n",
              "4        0           0          1             1.0              2            1   \n",
              "5        1           2          1             1.0              2            1   \n",
              "\n",
              "   Total_Income  \n",
              "1        6091.0  \n",
              "2        3000.0  \n",
              "3        4941.0  \n",
              "4        6000.0  \n",
              "5        9613.0  "
            ],
            "text/html": [
              "\n",
              "  <div id=\"df-7e78396c-6d72-44a0-bff4-a89bf56d1e02\">\n",
              "    <div class=\"colab-df-container\">\n",
              "      <div>\n",
              "<style scoped>\n",
              "    .dataframe tbody tr th:only-of-type {\n",
              "        vertical-align: middle;\n",
              "    }\n",
              "\n",
              "    .dataframe tbody tr th {\n",
              "        vertical-align: top;\n",
              "    }\n",
              "\n",
              "    .dataframe thead th {\n",
              "        text-align: right;\n",
              "    }\n",
              "</style>\n",
              "<table border=\"1\" class=\"dataframe\">\n",
              "  <thead>\n",
              "    <tr style=\"text-align: right;\">\n",
              "      <th></th>\n",
              "      <th>Married</th>\n",
              "      <th>Dependents</th>\n",
              "      <th>Education</th>\n",
              "      <th>Credit_History</th>\n",
              "      <th>Property_Area</th>\n",
              "      <th>Loan_Status</th>\n",
              "      <th>Total_Income</th>\n",
              "    </tr>\n",
              "  </thead>\n",
              "  <tbody>\n",
              "    <tr>\n",
              "      <th>1</th>\n",
              "      <td>1</td>\n",
              "      <td>1</td>\n",
              "      <td>1</td>\n",
              "      <td>1.0</td>\n",
              "      <td>0</td>\n",
              "      <td>0</td>\n",
              "      <td>6091.0</td>\n",
              "    </tr>\n",
              "    <tr>\n",
              "      <th>2</th>\n",
              "      <td>1</td>\n",
              "      <td>0</td>\n",
              "      <td>1</td>\n",
              "      <td>1.0</td>\n",
              "      <td>2</td>\n",
              "      <td>1</td>\n",
              "      <td>3000.0</td>\n",
              "    </tr>\n",
              "    <tr>\n",
              "      <th>3</th>\n",
              "      <td>1</td>\n",
              "      <td>0</td>\n",
              "      <td>0</td>\n",
              "      <td>1.0</td>\n",
              "      <td>2</td>\n",
              "      <td>1</td>\n",
              "      <td>4941.0</td>\n",
              "    </tr>\n",
              "    <tr>\n",
              "      <th>4</th>\n",
              "      <td>0</td>\n",
              "      <td>0</td>\n",
              "      <td>1</td>\n",
              "      <td>1.0</td>\n",
              "      <td>2</td>\n",
              "      <td>1</td>\n",
              "      <td>6000.0</td>\n",
              "    </tr>\n",
              "    <tr>\n",
              "      <th>5</th>\n",
              "      <td>1</td>\n",
              "      <td>2</td>\n",
              "      <td>1</td>\n",
              "      <td>1.0</td>\n",
              "      <td>2</td>\n",
              "      <td>1</td>\n",
              "      <td>9613.0</td>\n",
              "    </tr>\n",
              "  </tbody>\n",
              "</table>\n",
              "</div>\n",
              "      <button class=\"colab-df-convert\" onclick=\"convertToInteractive('df-7e78396c-6d72-44a0-bff4-a89bf56d1e02')\"\n",
              "              title=\"Convert this dataframe to an interactive table.\"\n",
              "              style=\"display:none;\">\n",
              "        \n",
              "  <svg xmlns=\"http://www.w3.org/2000/svg\" height=\"24px\"viewBox=\"0 0 24 24\"\n",
              "       width=\"24px\">\n",
              "    <path d=\"M0 0h24v24H0V0z\" fill=\"none\"/>\n",
              "    <path d=\"M18.56 5.44l.94 2.06.94-2.06 2.06-.94-2.06-.94-.94-2.06-.94 2.06-2.06.94zm-11 1L8.5 8.5l.94-2.06 2.06-.94-2.06-.94L8.5 2.5l-.94 2.06-2.06.94zm10 10l.94 2.06.94-2.06 2.06-.94-2.06-.94-.94-2.06-.94 2.06-2.06.94z\"/><path d=\"M17.41 7.96l-1.37-1.37c-.4-.4-.92-.59-1.43-.59-.52 0-1.04.2-1.43.59L10.3 9.45l-7.72 7.72c-.78.78-.78 2.05 0 2.83L4 21.41c.39.39.9.59 1.41.59.51 0 1.02-.2 1.41-.59l7.78-7.78 2.81-2.81c.8-.78.8-2.07 0-2.86zM5.41 20L4 18.59l7.72-7.72 1.47 1.35L5.41 20z\"/>\n",
              "  </svg>\n",
              "      </button>\n",
              "      \n",
              "  <style>\n",
              "    .colab-df-container {\n",
              "      display:flex;\n",
              "      flex-wrap:wrap;\n",
              "      gap: 12px;\n",
              "    }\n",
              "\n",
              "    .colab-df-convert {\n",
              "      background-color: #E8F0FE;\n",
              "      border: none;\n",
              "      border-radius: 50%;\n",
              "      cursor: pointer;\n",
              "      display: none;\n",
              "      fill: #1967D2;\n",
              "      height: 32px;\n",
              "      padding: 0 0 0 0;\n",
              "      width: 32px;\n",
              "    }\n",
              "\n",
              "    .colab-df-convert:hover {\n",
              "      background-color: #E2EBFA;\n",
              "      box-shadow: 0px 1px 2px rgba(60, 64, 67, 0.3), 0px 1px 3px 1px rgba(60, 64, 67, 0.15);\n",
              "      fill: #174EA6;\n",
              "    }\n",
              "\n",
              "    [theme=dark] .colab-df-convert {\n",
              "      background-color: #3B4455;\n",
              "      fill: #D2E3FC;\n",
              "    }\n",
              "\n",
              "    [theme=dark] .colab-df-convert:hover {\n",
              "      background-color: #434B5C;\n",
              "      box-shadow: 0px 1px 3px 1px rgba(0, 0, 0, 0.15);\n",
              "      filter: drop-shadow(0px 1px 2px rgba(0, 0, 0, 0.3));\n",
              "      fill: #FFFFFF;\n",
              "    }\n",
              "  </style>\n",
              "\n",
              "      <script>\n",
              "        const buttonEl =\n",
              "          document.querySelector('#df-7e78396c-6d72-44a0-bff4-a89bf56d1e02 button.colab-df-convert');\n",
              "        buttonEl.style.display =\n",
              "          google.colab.kernel.accessAllowed ? 'block' : 'none';\n",
              "\n",
              "        async function convertToInteractive(key) {\n",
              "          const element = document.querySelector('#df-7e78396c-6d72-44a0-bff4-a89bf56d1e02');\n",
              "          const dataTable =\n",
              "            await google.colab.kernel.invokeFunction('convertToInteractive',\n",
              "                                                     [key], {});\n",
              "          if (!dataTable) return;\n",
              "\n",
              "          const docLinkHtml = 'Like what you see? Visit the ' +\n",
              "            '<a target=\"_blank\" href=https://colab.research.google.com/notebooks/data_table.ipynb>data table notebook</a>'\n",
              "            + ' to learn more about interactive tables.';\n",
              "          element.innerHTML = '';\n",
              "          dataTable['output_type'] = 'display_data';\n",
              "          await google.colab.output.renderOutput(dataTable, element);\n",
              "          const docLink = document.createElement('div');\n",
              "          docLink.innerHTML = docLinkHtml;\n",
              "          element.appendChild(docLink);\n",
              "        }\n",
              "      </script>\n",
              "    </div>\n",
              "  </div>\n",
              "  "
            ]
          },
          "metadata": {},
          "execution_count": 12
        }
      ]
    },
    {
      "cell_type": "code",
      "source": [
        "X = train_dataset.drop('Loan_Status', axis=1)\n",
        "y = train_dataset['Loan_Status']\n",
        "\n",
        "X_train, X_test, y_train, y_test = train_test_split(X, y, test_size=0.2, random_state=44) #random state 44 somehow gives the highest score.\n",
        "X_train, X_val, y_train, y_val = train_test_split(X_train, y_train, test_size=0.25, random_state=44) # 0.25 x 0.8 = 0.2\n",
        "print(X_train.shape)\n",
        "print(X_test.shape)\n",
        "print(y_train.shape)\n",
        "print(y_test.shape)\n",
        "print(X_val.shape)\n",
        "print(y_val.shape)"
      ],
      "metadata": {
        "colab": {
          "base_uri": "https://localhost:8080/"
        },
        "id": "jwBJHWbeh1uk",
        "outputId": "ea45aecc-205f-4394-88a4-4324df22270f"
      },
      "execution_count": null,
      "outputs": [
        {
          "output_type": "stream",
          "name": "stdout",
          "text": [
            "(288, 6)\n",
            "(96, 6)\n",
            "(288,)\n",
            "(96,)\n",
            "(96, 6)\n",
            "(96,)\n"
          ]
        }
      ]
    },
    {
      "cell_type": "code",
      "source": [
        "#Normalization\n",
        "scaler = StandardScaler()\n",
        "\n",
        "X_train_scaled = scaler.fit_transform(X_train)\n",
        "X_test_scaled = scaler.fit_transform(X_test)"
      ],
      "metadata": {
        "id": "VYtFjuZ5pi6L"
      },
      "execution_count": null,
      "outputs": []
    },
    {
      "cell_type": "code",
      "source": [
        "# Train the dataset using different classifications or regressions\n",
        "\n",
        "linear_model = LinearRegression()\n",
        "model1 = linear_model.fit(X_train_scaled, y_train)\n",
        "linear_model.score(X_train_scaled, y_train)"
      ],
      "metadata": {
        "colab": {
          "base_uri": "https://localhost:8080/"
        },
        "id": "ccTXgbbjpvkI",
        "outputId": "1b274a3c-a4d9-4255-b343-d1fab25b8106"
      },
      "execution_count": null,
      "outputs": [
        {
          "output_type": "execute_result",
          "data": {
            "text/plain": [
              "0.26081069275375746"
            ]
          },
          "metadata": {},
          "execution_count": 15
        }
      ]
    },
    {
      "cell_type": "code",
      "source": [
        "lbfgs_clf = LogisticRegression(solver='lbfgs')\n",
        "model2 = lbfgs_clf.fit(X_train_scaled, y_train)\n",
        "print(lbfgs_clf.score(X_test_scaled, y_test))"
      ],
      "metadata": {
        "colab": {
          "base_uri": "https://localhost:8080/"
        },
        "id": "TBKbQRNiqibr",
        "outputId": "39a291c1-67e7-40a1-c581-74a9c5a6f544"
      },
      "execution_count": null,
      "outputs": [
        {
          "output_type": "stream",
          "name": "stdout",
          "text": [
            "0.875\n"
          ]
        }
      ]
    },
    {
      "cell_type": "code",
      "source": [],
      "metadata": {
        "id": "om-ijATJxj9W"
      },
      "execution_count": null,
      "outputs": []
    },
    {
      "cell_type": "code",
      "source": [
        "rbfSVM_clf = SVC(kernel='rbf')\n",
        "model3 = rbfSVM_clf.fit(X_train_scaled, y_train)\n",
        "print(rbfSVM_clf.score(X_test_scaled, y_test))"
      ],
      "metadata": {
        "colab": {
          "base_uri": "https://localhost:8080/"
        },
        "id": "ZuHB18rKqqQ4",
        "outputId": "80966a56-3062-40bc-aa82-7d0cb173db3d"
      },
      "execution_count": null,
      "outputs": [
        {
          "output_type": "stream",
          "name": "stdout",
          "text": [
            "0.875\n"
          ]
        }
      ]
    },
    {
      "cell_type": "code",
      "source": [],
      "metadata": {
        "id": "aintp_Mdxkmb"
      },
      "execution_count": null,
      "outputs": []
    },
    {
      "cell_type": "code",
      "source": [
        "polySVM_clf = SVC(kernel='poly')\n",
        "model4 = polySVM_clf.fit(X_train_scaled, y_train)\n",
        "print(polySVM_clf.score(X_test_scaled, y_test))"
      ],
      "metadata": {
        "colab": {
          "base_uri": "https://localhost:8080/"
        },
        "id": "IIkIDww8qu27",
        "outputId": "370d3530-e6da-4f36-c80e-1dc54a4a3f84"
      },
      "execution_count": null,
      "outputs": [
        {
          "output_type": "stream",
          "name": "stdout",
          "text": [
            "0.8958333333333334\n"
          ]
        }
      ]
    },
    {
      "cell_type": "code",
      "source": [
        "# Evaluating the learning curve\n",
        "train_size, train_scores, valid_scores = learning_curve(\n",
        "    SVC(kernel='poly'), X_train_scaled, y_train, cv=4)\n",
        "\n",
        "plt.plot(train_size,np.mean(train_scores,axis=1))\n",
        "plt.plot(train_size,np.mean(valid_scores,axis=1))"
      ],
      "metadata": {
        "id": "DooiuIupxlF1"
      },
      "execution_count": null,
      "outputs": []
    },
    {
      "cell_type": "code",
      "source": [
        "saga_clf = LogisticRegression(solver='saga')\n",
        "model5 = saga_clf.fit(X_train_scaled, y_train)\n",
        "print(saga_clf.score(X_test_scaled, y_test))"
      ],
      "metadata": {
        "colab": {
          "base_uri": "https://localhost:8080/"
        },
        "id": "s2sOEIcsqzbu",
        "outputId": "71ce7e3b-00a9-42e3-efc5-f4ca0bd06282"
      },
      "execution_count": null,
      "outputs": [
        {
          "output_type": "stream",
          "name": "stdout",
          "text": [
            "0.875\n"
          ]
        }
      ]
    },
    {
      "cell_type": "code",
      "source": [],
      "metadata": {
        "id": "pqj6n3thxldg"
      },
      "execution_count": null,
      "outputs": []
    },
    {
      "cell_type": "code",
      "source": [
        "liblinear_clf = LogisticRegression(solver='liblinear')\n",
        "model6 = liblinear_clf.fit(X_train_scaled, y_train)\n",
        "print(liblinear_clf.score(X_test_scaled, y_test))"
      ],
      "metadata": {
        "colab": {
          "base_uri": "https://localhost:8080/"
        },
        "id": "uqxQ9K2hq17d",
        "outputId": "88132933-f919-447f-8d47-632e5530505f"
      },
      "execution_count": null,
      "outputs": [
        {
          "output_type": "stream",
          "name": "stdout",
          "text": [
            "0.8854166666666666\n"
          ]
        }
      ]
    },
    {
      "cell_type": "markdown",
      "source": [
        "# Histogram of 5 inputs\n"
      ],
      "metadata": {
        "id": "kSN-mT8O9a0A"
      }
    },
    {
      "cell_type": "markdown",
      "source": [],
      "metadata": {
        "id": "mFNVLjUxg-mI"
      }
    },
    {
      "cell_type": "code",
      "source": [
        "#Histogram part\n",
        "#Education vs. loan status\n",
        "sns.countplot(df['Education'],hue=df['Loan_Status'])\n",
        "print(pd.crosstab(df['Education'],df['Loan_Status']))"
      ],
      "metadata": {
        "colab": {
          "base_uri": "https://localhost:8080/",
          "height": 403
        },
        "id": "F6MYLcuLgO5l",
        "outputId": "a099e7b6-e544-4bd6-d7d3-5cffc25da9a5"
      },
      "execution_count": null,
      "outputs": [
        {
          "output_type": "stream",
          "name": "stdout",
          "text": [
            "Loan_Status     N    Y\n",
            "Education             \n",
            "Graduate      112  271\n",
            "Not Graduate   36   61\n"
          ]
        },
        {
          "output_type": "stream",
          "name": "stderr",
          "text": [
            "/usr/local/lib/python3.7/dist-packages/seaborn/_decorators.py:43: FutureWarning: Pass the following variable as a keyword arg: x. From version 0.12, the only valid positional argument will be `data`, and passing other arguments without an explicit keyword will result in an error or misinterpretation.\n",
            "  FutureWarning\n"
          ]
        },
        {
          "output_type": "display_data",
          "data": {
            "text/plain": [
              "<Figure size 432x288 with 1 Axes>"
            ],
            "image/png": "[encoded data removed]"
          },
          "metadata": {
            "needs_background": "light"
          }
        }
      ]
    },
    {
      "cell_type": "code",
      "source": [
        "#Credit history vs loan status\n",
        "sns.countplot(df['Credit_History'],hue=df['Loan_Status'])\n",
        "print(pd.crosstab(df['Credit_History'],df['Loan_Status']))"
      ],
      "metadata": {
        "colab": {
          "base_uri": "https://localhost:8080/",
          "height": 404
        },
        "id": "1pdzXHdUievl",
        "outputId": "a36e82b8-ee3f-43ab-8c98-c0cc2f61b540"
      },
      "execution_count": null,
      "outputs": [
        {
          "output_type": "stream",
          "name": "stderr",
          "text": [
            "/usr/local/lib/python3.7/dist-packages/seaborn/_decorators.py:43: FutureWarning: Pass the following variable as a keyword arg: x. From version 0.12, the only valid positional argument will be `data`, and passing other arguments without an explicit keyword will result in an error or misinterpretation.\n",
            "  FutureWarning\n"
          ]
        },
        {
          "output_type": "stream",
          "name": "stdout",
          "text": [
            "Loan_Status      N    Y\n",
            "Credit_History         \n",
            "0.0             63    7\n",
            "1.0             85  325\n"
          ]
        },
        {
          "output_type": "display_data",
          "data": {
            "text/plain": [
              "<Figure size 432x288 with 1 Axes>"
            ],
            "image/png": "[encoded data removed]"
          },
          "metadata": {
            "needs_background": "light"
          }
        }
      ]
    },
    {
      "cell_type": "code",
      "source": [
        "#Married vs loan status\n",
        "sns.countplot(df['Married'],hue=df['Loan_Status'])\n",
        "print(pd.crosstab(df['Married'],df['Loan_Status']))"
      ],
      "metadata": {
        "colab": {
          "base_uri": "https://localhost:8080/",
          "height": 403
        },
        "id": "Esetb2g8jpQD",
        "outputId": "f0fc0d4b-8814-4dec-e811-d5c34b6b0215"
      },
      "execution_count": null,
      "outputs": [
        {
          "output_type": "stream",
          "name": "stderr",
          "text": [
            "/usr/local/lib/python3.7/dist-packages/seaborn/_decorators.py:43: FutureWarning: Pass the following variable as a keyword arg: x. From version 0.12, the only valid positional argument will be `data`, and passing other arguments without an explicit keyword will result in an error or misinterpretation.\n",
            "  FutureWarning\n"
          ]
        },
        {
          "output_type": "stream",
          "name": "stdout",
          "text": [
            "Loan_Status   N    Y\n",
            "Married             \n",
            "No           64  105\n",
            "Yes          84  227\n"
          ]
        },
        {
          "output_type": "display_data",
          "data": {
            "text/plain": [
              "<Figure size 432x288 with 1 Axes>"
            ],
            "image/png": "[encoded data removed]"
          },
          "metadata": {
            "needs_background": "light"
          }
        }
      ]
    },
    {
      "cell_type": "code",
      "source": [
        "#Property Area vs loan status\n",
        "sns.countplot(df['Property_Area'],hue=df['Loan_Status'])\n",
        "print(pd.crosstab(df['Property_Area'],df['Loan_Status']))"
      ],
      "metadata": {
        "colab": {
          "base_uri": "https://localhost:8080/",
          "height": 422
        },
        "id": "AjIleg1Wj47i",
        "outputId": "855368d0-f253-425b-c4b1-6c9379a1ecaa"
      },
      "execution_count": null,
      "outputs": [
        {
          "output_type": "stream",
          "name": "stderr",
          "text": [
            "/usr/local/lib/python3.7/dist-packages/seaborn/_decorators.py:43: FutureWarning: Pass the following variable as a keyword arg: x. From version 0.12, the only valid positional argument will be `data`, and passing other arguments without an explicit keyword will result in an error or misinterpretation.\n",
            "  FutureWarning\n"
          ]
        },
        {
          "output_type": "stream",
          "name": "stdout",
          "text": [
            "Loan_Status     N    Y\n",
            "Property_Area         \n",
            "Rural          54   85\n",
            "Semiurban      42  149\n",
            "Urban          52   98\n"
          ]
        },
        {
          "output_type": "display_data",
          "data": {
            "text/plain": [
              "<Figure size 432x288 with 1 Axes>"
            ],
            "image/png": "[encoded data removed]"
          },
          "metadata": {
            "needs_background": "light"
          }
        }
      ]
    },
    {
      "cell_type": "code",
      "source": [
        "#Dependents vs loan status\n",
        "sns.countplot(df['Dependents'],hue=df['Loan_Status'])\n",
        "print(pd.crosstab(df['Dependents'],df['Loan_Status']))"
      ],
      "metadata": {
        "colab": {
          "base_uri": "https://localhost:8080/",
          "height": 438
        },
        "id": "vhpQcH3Ykk7Y",
        "outputId": "d4726040-884a-4745-dc6c-df8a99a48d66"
      },
      "execution_count": null,
      "outputs": [
        {
          "output_type": "stream",
          "name": "stdout",
          "text": [
            "Loan_Status   N    Y\n",
            "Dependents          \n",
            "0            87  187\n",
            "1            28   52\n",
            "2            20   65\n",
            "3+           13   28\n"
          ]
        },
        {
          "output_type": "stream",
          "name": "stderr",
          "text": [
            "/usr/local/lib/python3.7/dist-packages/seaborn/_decorators.py:43: FutureWarning: Pass the following variable as a keyword arg: x. From version 0.12, the only valid positional argument will be `data`, and passing other arguments without an explicit keyword will result in an error or misinterpretation.\n",
            "  FutureWarning\n"
          ]
        },
        {
          "output_type": "display_data",
          "data": {
            "text/plain": [
              "<Figure size 432x288 with 1 Axes>"
            ],
            "image/png": "[encoded data removed]"
          },
          "metadata": {
            "needs_background": "light"
          }
        }
      ]
    }
  ]
}